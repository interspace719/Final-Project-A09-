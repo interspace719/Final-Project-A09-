{
 "cells": [
  {
   "cell_type": "code",
   "execution_count": 13,
   "id": "75eee9a2",
   "metadata": {},
   "outputs": [],
   "source": [
    "## 넥슨 API 키 : test_3b341b04580056706630a7005aa630353dc098849203dc369a4dcd875acf97c7c5c4379a7a07b52f361ffef5fab87a55\n",
    "## 던파 API 키 : ZWBQ5Hcf27Dz494NprIOqSpXUZqubuLG\n",
    "## 라이엇 API 키 : RGAPI-51594ed7-aa70-4a72-b8bf-314c7f733d71"
   ]
  },
  {
   "cell_type": "code",
   "execution_count": 14,
   "id": "8c077101",
   "metadata": {},
   "outputs": [],
   "source": [
    "import requests\n",
    "import pprint\n",
    "import json\n",
    "import pandas as pd"
   ]
  },
  {
   "cell_type": "code",
   "execution_count": 15,
   "id": "042948eb",
   "metadata": {},
   "outputs": [],
   "source": [
    "pd.set_option('display.max_colwidth', None) ## 셀 최대 너비 제한 해제"
   ]
  },
  {
   "cell_type": "code",
   "execution_count": 16,
   "id": "669680fc",
   "metadata": {},
   "outputs": [],
   "source": [
    "# url 호출\n",
    "url='https://api.neople.co.kr/df/servers?apikey=ZWBQ5Hcf27Dz494NprIOqSpXUZqubuLG'"
   ]
  },
  {
   "cell_type": "code",
   "execution_count": 17,
   "id": "4dad3237",
   "metadata": {},
   "outputs": [],
   "source": [
    "response = requests.get(url)"
   ]
  },
  {
   "cell_type": "code",
   "execution_count": 18,
   "id": "68bf516d",
   "metadata": {},
   "outputs": [],
   "source": [
    "#텍스트로 변환 출력\n",
    "contents = response.text"
   ]
  },
  {
   "cell_type": "code",
   "execution_count": 19,
   "id": "8920deae",
   "metadata": {},
   "outputs": [
    {
     "data": {
      "text/plain": [
       "'{\"rows\":[{\"serverId\":\"cain\",\"serverName\":\"카인\"},{\"serverId\":\"diregie\",\"serverName\":\"디레지에\"},{\"serverId\":\"siroco\",\"serverName\":\"시로코\"},{\"serverId\":\"prey\",\"serverName\":\"프레이\"},{\"serverId\":\"casillas\",\"serverName\":\"카시야스\"},{\"serverId\":\"hilder\",\"serverName\":\"힐더\"},{\"serverId\":\"anton\",\"serverName\":\"안톤\"},{\"serverId\":\"bakal\",\"serverName\":\"바칼\"}]}'"
      ]
     },
     "execution_count": 19,
     "metadata": {},
     "output_type": "execute_result"
    }
   ],
   "source": [
    "contents"
   ]
  },
  {
   "cell_type": "code",
   "execution_count": 20,
   "id": "f440cda4",
   "metadata": {},
   "outputs": [
    {
     "name": "stdout",
     "output_type": "stream",
     "text": [
      "'{\"rows\":[{\"serverId\":\"cain\",\"serverName\":\"카인\"},{\"serverId\":\"diregie\",\"serverName\":\"디레지에\"},{\"serverId\":\"siroco\",\"serverName\":\"시로코\"},{\"serverId\":\"prey\",\"serverName\":\"프레이\"},{\"serverId\":\"casillas\",\"serverName\":\"카시야스\"},{\"serverId\":\"hilder\",\"serverName\":\"힐더\"},{\"serverId\":\"anton\",\"serverName\":\"안톤\"},{\"serverId\":\"bakal\",\"serverName\":\"바칼\"}]}'\n",
      "None\n"
     ]
    }
   ],
   "source": [
    "pp = pprint.PrettyPrinter(indent=4)\n",
    "print(pp.pprint(contents))"
   ]
  },
  {
   "cell_type": "code",
   "execution_count": 21,
   "id": "982cf00d",
   "metadata": {},
   "outputs": [
    {
     "name": "stdout",
     "output_type": "stream",
     "text": [
      "{'rows': [{'serverId': 'cain', 'serverName': '카인'}, {'serverId': 'diregie', 'serverName': '디레지에'}, {'serverId': 'siroco', 'serverName': '시로코'}, {'serverId': 'prey', 'serverName': '프레이'}, {'serverId': 'casillas', 'serverName': '카시야스'}, {'serverId': 'hilder', 'serverName': '힐더'}, {'serverId': 'anton', 'serverName': '안톤'}, {'serverId': 'bakal', 'serverName': '바칼'}]}\n",
      "<class 'dict'>\n"
     ]
    }
   ],
   "source": [
    "#문자열을 json으로 변경\n",
    "json_ob = json.loads(contents)\n",
    "print(json_ob)\n",
    "print(type(json_ob)) #json타입 확인"
   ]
  },
  {
   "cell_type": "code",
   "execution_count": 22,
   "id": "2fb84093",
   "metadata": {},
   "outputs": [
    {
     "name": "stdout",
     "output_type": "stream",
     "text": [
      "                                                                                                                                                                                                                                                                                                                                                                  rows\n",
      "0  [{'serverId': 'cain', 'serverName': '카인'}, {'serverId': 'diregie', 'serverName': '디레지에'}, {'serverId': 'siroco', 'serverName': '시로코'}, {'serverId': 'prey', 'serverName': '프레이'}, {'serverId': 'casillas', 'serverName': '카시야스'}, {'serverId': 'hilder', 'serverName': '힐더'}, {'serverId': 'anton', 'serverName': '안톤'}, {'serverId': 'bakal', 'serverName': '바칼'}]\n"
     ]
    }
   ],
   "source": [
    "#  json -> dataframe \n",
    "dataframe = pd.json_normalize(json_ob)\n",
    "print(dataframe)"
   ]
  },
  {
   "cell_type": "code",
   "execution_count": 23,
   "id": "e26a544e",
   "metadata": {},
   "outputs": [
    {
     "data": {
      "text/html": [
       "<div>\n",
       "<style scoped>\n",
       "    .dataframe tbody tr th:only-of-type {\n",
       "        vertical-align: middle;\n",
       "    }\n",
       "\n",
       "    .dataframe tbody tr th {\n",
       "        vertical-align: top;\n",
       "    }\n",
       "\n",
       "    .dataframe thead th {\n",
       "        text-align: right;\n",
       "    }\n",
       "</style>\n",
       "<table border=\"1\" class=\"dataframe\">\n",
       "  <thead>\n",
       "    <tr style=\"text-align: right;\">\n",
       "      <th></th>\n",
       "      <th>rows</th>\n",
       "    </tr>\n",
       "  </thead>\n",
       "  <tbody>\n",
       "    <tr>\n",
       "      <th>0</th>\n",
       "      <td>[{'serverId': 'cain', 'serverName': '카인'}, {'serverId': 'diregie', 'serverName': '디레지에'}, {'serverId': 'siroco', 'serverName': '시로코'}, {'serverId': 'prey', 'serverName': '프레이'}, {'serverId': 'casillas', 'serverName': '카시야스'}, {'serverId': 'hilder', 'serverName': '힐더'}, {'serverId': 'anton', 'serverName': '안톤'}, {'serverId': 'bakal', 'serverName': '바칼'}]</td>\n",
       "    </tr>\n",
       "  </tbody>\n",
       "</table>\n",
       "</div>"
      ],
      "text/plain": [
       "                                                                                                                                                                                                                                                                                                                                                                  rows\n",
       "0  [{'serverId': 'cain', 'serverName': '카인'}, {'serverId': 'diregie', 'serverName': '디레지에'}, {'serverId': 'siroco', 'serverName': '시로코'}, {'serverId': 'prey', 'serverName': '프레이'}, {'serverId': 'casillas', 'serverName': '카시야스'}, {'serverId': 'hilder', 'serverName': '힐더'}, {'serverId': 'anton', 'serverName': '안톤'}, {'serverId': 'bakal', 'serverName': '바칼'}]"
      ]
     },
     "execution_count": 23,
     "metadata": {},
     "output_type": "execute_result"
    }
   ],
   "source": [
    "dataframe"
   ]
  }
 ],
 "metadata": {
  "kernelspec": {
   "display_name": "Python 3 (ipykernel)",
   "language": "python",
   "name": "python3"
  },
  "language_info": {
   "codemirror_mode": {
    "name": "ipython",
    "version": 3
   },
   "file_extension": ".py",
   "mimetype": "text/x-python",
   "name": "python",
   "nbconvert_exporter": "python",
   "pygments_lexer": "ipython3",
   "version": "3.8.6"
  }
 },
 "nbformat": 4,
 "nbformat_minor": 5
}
