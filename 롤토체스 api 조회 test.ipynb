{
 "cells": [
  {
   "cell_type": "markdown",
   "metadata": {},
   "source": [
    "#### TFT API 에 대해서 설명되어있는 사이트 : https://velog.io/@twa02189/TFT-API-%EB%8D%B0%EC%9D%B4%ED%84%B0-%EC%84%A4%EB%AA%85"
   ]
  },
  {
   "cell_type": "code",
   "execution_count": 4,
   "metadata": {},
   "outputs": [],
   "source": [
    "import pandas as pd\n",
    "import requests\n",
    "import pprint\n",
    "import json\n",
    "import time\n",
    "from pandas import json_normalize\n",
    "\n",
    "pd.set_option('display.max_colwidth', None) ## 셀 최대 너비 제한 해제"
   ]
  },
  {
   "cell_type": "markdown",
   "metadata": {},
   "source": [
    "#### 기본 키 저장 + baser URL 저장 + request header 저장"
   ]
  },
  {
   "cell_type": "code",
   "execution_count": 5,
   "metadata": {},
   "outputs": [],
   "source": [
    "# api_key 저장\n",
    "api_key = 'RGAPI-39d1115b-559c-49b0-bacb-cd3ea0588e94' ## 만료되면 갱신해줘야함 거의 하루마다\n",
    "\n",
    "# request header 저장\n",
    "request_header = {\n",
    "    \"User-Agent\": \"Mozilla/5.0 (Windows NT 10.0; Win64; x64) AppleWebKit/537.36 (KHTML, like Gecko) Chrome/123.0.0.0 Safari/537.36\",\n",
    "    \"Accept-Language\": \"ko-KR,ko;q=0.9,en-US;q=0.8,en;q=0.7\",\n",
    "    \"Accept-Charset\": \"application/x-www-form-urlencoded; charset=UTF-8\",\n",
    "    \"Origin\": \"https://developer.riotgames.com\",\n",
    "    \"X-Riot-Token\": api_key \n",
    "    }\n",
    "\n",
    "# base_url 저장\n",
    "base_url = \"https://kr.api.riotgames.com/tft/\" ## 이 뒤에다가 + 로 그때그떄 필요한 URL 을 더해줄 것"
   ]
  },
  {
   "cell_type": "markdown",
   "metadata": {},
   "source": [
    "#### 챌린저, 마스터, 그랜드 마스터 구간 유저들의 닉네임 추출 "
   ]
  },
  {
   "cell_type": "code",
   "execution_count": 6,
   "metadata": {},
   "outputs": [],
   "source": [
    "# challenger\n",
    "\n",
    "challenger_url = base_url + 'league/v1/challenger'\n",
    "\n",
    "challenger = requests.get(challenger_url, headers = request_header).json()\n",
    "\n",
    "# grand master\n",
    "\n",
    "grandmaster_url = base_url + 'league/v1/grandmaster'\n",
    "\n",
    "grandmaster = requests.get(grandmaster_url, headers = request_header).json()\n",
    "\n",
    "# master\n",
    "\n",
    "master_url = base_url + 'league/v1/master'\n",
    "\n",
    "master = requests.get(master_url, headers = request_header).json()"
   ]
  },
  {
   "cell_type": "code",
   "execution_count": 7,
   "metadata": {},
   "outputs": [
    {
     "data": {
      "text/html": [
       "<div>\n",
       "<style scoped>\n",
       "    .dataframe tbody tr th:only-of-type {\n",
       "        vertical-align: middle;\n",
       "    }\n",
       "\n",
       "    .dataframe tbody tr th {\n",
       "        vertical-align: top;\n",
       "    }\n",
       "\n",
       "    .dataframe thead th {\n",
       "        text-align: right;\n",
       "    }\n",
       "</style>\n",
       "<table border=\"1\" class=\"dataframe\">\n",
       "  <thead>\n",
       "    <tr style=\"text-align: right;\">\n",
       "      <th></th>\n",
       "      <th>tier</th>\n",
       "      <th>leagueId</th>\n",
       "      <th>queue</th>\n",
       "      <th>name</th>\n",
       "      <th>entries</th>\n",
       "    </tr>\n",
       "  </thead>\n",
       "  <tbody>\n",
       "    <tr>\n",
       "      <th>0</th>\n",
       "      <td>GRANDMASTER</td>\n",
       "      <td>f1e46b7f-5703-3dad-b9c5-6a8f5dfa5598</td>\n",
       "      <td>RANKED_TFT</td>\n",
       "      <td>Soraka's Enforcers</td>\n",
       "      <td>{'summonerId': 'VVpwkqbuN3VVwG378diAEHea6jFrq1ADYBQAEstZizthf7k', 'summonerName': '이렇게 좋은 날', 'leaguePoints': 329, 'rank': 'I', 'wins': 93, 'losses': 50, 'veteran': False, 'inactive': False, 'freshBlood': True, 'hotStreak': False}</td>\n",
       "    </tr>\n",
       "    <tr>\n",
       "      <th>1</th>\n",
       "      <td>GRANDMASTER</td>\n",
       "      <td>f1e46b7f-5703-3dad-b9c5-6a8f5dfa5598</td>\n",
       "      <td>RANKED_TFT</td>\n",
       "      <td>Soraka's Enforcers</td>\n",
       "      <td>{'summonerId': 'KKtx2l6oWWPWxU6Pi5tm0trZQI6yFkVbHjyMALGori8cG24DSiXPdy5gug', 'summonerName': '천연만화', 'leaguePoints': 418, 'rank': 'I', 'wins': 74, 'losses': 32, 'veteran': False, 'inactive': False, 'freshBlood': True, 'hotStreak': False}</td>\n",
       "    </tr>\n",
       "    <tr>\n",
       "      <th>2</th>\n",
       "      <td>GRANDMASTER</td>\n",
       "      <td>f1e46b7f-5703-3dad-b9c5-6a8f5dfa5598</td>\n",
       "      <td>RANKED_TFT</td>\n",
       "      <td>Soraka's Enforcers</td>\n",
       "      <td>{'summonerId': 'UF2IeZC87PAxxS0F7xg6VQNADum-YqoBLfYCOAb0LdmQL7WIfnII-3Cm1Q', 'summonerName': 'kscv05', 'leaguePoints': 248, 'rank': 'I', 'wins': 88, 'losses': 51, 'veteran': False, 'inactive': False, 'freshBlood': True, 'hotStreak': False}</td>\n",
       "    </tr>\n",
       "  </tbody>\n",
       "</table>\n",
       "</div>"
      ],
      "text/plain": [
       "          tier                              leagueId       queue  \\\n",
       "0  GRANDMASTER  f1e46b7f-5703-3dad-b9c5-6a8f5dfa5598  RANKED_TFT   \n",
       "1  GRANDMASTER  f1e46b7f-5703-3dad-b9c5-6a8f5dfa5598  RANKED_TFT   \n",
       "2  GRANDMASTER  f1e46b7f-5703-3dad-b9c5-6a8f5dfa5598  RANKED_TFT   \n",
       "\n",
       "                 name  \\\n",
       "0  Soraka's Enforcers   \n",
       "1  Soraka's Enforcers   \n",
       "2  Soraka's Enforcers   \n",
       "\n",
       "                                                                                                                                                                                                                                           entries  \n",
       "0           {'summonerId': 'VVpwkqbuN3VVwG378diAEHea6jFrq1ADYBQAEstZizthf7k', 'summonerName': '이렇게 좋은 날', 'leaguePoints': 329, 'rank': 'I', 'wins': 93, 'losses': 50, 'veteran': False, 'inactive': False, 'freshBlood': True, 'hotStreak': False}  \n",
       "1    {'summonerId': 'KKtx2l6oWWPWxU6Pi5tm0trZQI6yFkVbHjyMALGori8cG24DSiXPdy5gug', 'summonerName': '천연만화', 'leaguePoints': 418, 'rank': 'I', 'wins': 74, 'losses': 32, 'veteran': False, 'inactive': False, 'freshBlood': True, 'hotStreak': False}  \n",
       "2  {'summonerId': 'UF2IeZC87PAxxS0F7xg6VQNADum-YqoBLfYCOAb0LdmQL7WIfnII-3Cm1Q', 'summonerName': 'kscv05', 'leaguePoints': 248, 'rank': 'I', 'wins': 88, 'losses': 51, 'veteran': False, 'inactive': False, 'freshBlood': True, 'hotStreak': False}  "
      ]
     },
     "execution_count": 7,
     "metadata": {},
     "output_type": "execute_result"
    }
   ],
   "source": [
    "# 가져온 마스터 데이터 프레임 조회 (마스터 랭크에 속한 유저 조회)\n",
    "pd.DataFrame(challenger).head(3)\n",
    "\n",
    "# 가져온 그랜드마스터 데이터 프레임 조회 (그랜드마스터 랭크에 속한 유저 조회)\n",
    "pd.DataFrame(grandmaster).head(3)\n",
    "\n",
    "# 가져온 마스터 데이터 프레임 조회 (마스터 랭크에 속한 유저 조회)\n",
    "pd.DataFrame(master).head(3)"
   ]
  },
  {
   "cell_type": "code",
   "execution_count": 8,
   "metadata": {},
   "outputs": [],
   "source": [
    "# master_df 에 저장\n",
    "challenger_df = pd.DataFrame(challenger)\n",
    "\n",
    "# master_df 에 저장\n",
    "master_df = pd.DataFrame(master)\n",
    "\n",
    "# grandmaster_df 에 저장\n",
    "grandmaster_df = pd.DataFrame(grandmaster)"
   ]
  },
  {
   "cell_type": "markdown",
   "metadata": {},
   "source": [
    "##### 결측치 제거 및 json normalize 테스트"
   ]
  },
  {
   "cell_type": "code",
   "execution_count": 9,
   "metadata": {},
   "outputs": [
    {
     "data": {
      "text/html": [
       "<div>\n",
       "<style scoped>\n",
       "    .dataframe tbody tr th:only-of-type {\n",
       "        vertical-align: middle;\n",
       "    }\n",
       "\n",
       "    .dataframe tbody tr th {\n",
       "        vertical-align: top;\n",
       "    }\n",
       "\n",
       "    .dataframe thead th {\n",
       "        text-align: right;\n",
       "    }\n",
       "</style>\n",
       "<table border=\"1\" class=\"dataframe\">\n",
       "  <thead>\n",
       "    <tr style=\"text-align: right;\">\n",
       "      <th></th>\n",
       "      <th>tier</th>\n",
       "      <th>summonerId</th>\n",
       "      <th>summonerName</th>\n",
       "      <th>leaguePoints</th>\n",
       "      <th>wins</th>\n",
       "      <th>losses</th>\n",
       "      <th>veteran</th>\n",
       "      <th>inactive</th>\n",
       "      <th>freshBlood</th>\n",
       "      <th>hotStreak</th>\n",
       "    </tr>\n",
       "  </thead>\n",
       "  <tbody>\n",
       "    <tr>\n",
       "      <th>0</th>\n",
       "      <td>MASTER</td>\n",
       "      <td>98aXU2A44FuIOOV27snPKqkHXGm6VocL-1m9rPMb6_Rjkw</td>\n",
       "      <td>덕소나몽이</td>\n",
       "      <td>0</td>\n",
       "      <td>96</td>\n",
       "      <td>85</td>\n",
       "      <td>False</td>\n",
       "      <td>False</td>\n",
       "      <td>True</td>\n",
       "      <td>False</td>\n",
       "    </tr>\n",
       "    <tr>\n",
       "      <th>1</th>\n",
       "      <td>MASTER</td>\n",
       "      <td>RtwaM2fHJQGrhrEJO6JMtopi4jEGZWZ4M4JB_mNYtes_rlg</td>\n",
       "      <td>iliillliillii1il</td>\n",
       "      <td>101</td>\n",
       "      <td>71</td>\n",
       "      <td>36</td>\n",
       "      <td>False</td>\n",
       "      <td>False</td>\n",
       "      <td>True</td>\n",
       "      <td>False</td>\n",
       "    </tr>\n",
       "    <tr>\n",
       "      <th>2</th>\n",
       "      <td>MASTER</td>\n",
       "      <td>VAKsMSSE117CotJorkQgMzC1taWY3hm0mc0azpz28nAzeqg</td>\n",
       "      <td>1Chon</td>\n",
       "      <td>107</td>\n",
       "      <td>71</td>\n",
       "      <td>37</td>\n",
       "      <td>False</td>\n",
       "      <td>False</td>\n",
       "      <td>True</td>\n",
       "      <td>True</td>\n",
       "    </tr>\n",
       "    <tr>\n",
       "      <th>3</th>\n",
       "      <td>MASTER</td>\n",
       "      <td>yu3ysnF3p8f8yFitlLc1vrg8akquavQKXWWtFgzkT3syIRI</td>\n",
       "      <td>guiId</td>\n",
       "      <td>138</td>\n",
       "      <td>64</td>\n",
       "      <td>44</td>\n",
       "      <td>False</td>\n",
       "      <td>False</td>\n",
       "      <td>True</td>\n",
       "      <td>False</td>\n",
       "    </tr>\n",
       "    <tr>\n",
       "      <th>4</th>\n",
       "      <td>MASTER</td>\n",
       "      <td>9YoBNg8hHk_u_acXGwSHedDsKUCt-hvVDNTXZRAhM9g2Jew</td>\n",
       "      <td>리 셉</td>\n",
       "      <td>57</td>\n",
       "      <td>63</td>\n",
       "      <td>51</td>\n",
       "      <td>False</td>\n",
       "      <td>False</td>\n",
       "      <td>True</td>\n",
       "      <td>True</td>\n",
       "    </tr>\n",
       "  </tbody>\n",
       "</table>\n",
       "</div>"
      ],
      "text/plain": [
       "     tier                                       summonerId      summonerName  \\\n",
       "0  MASTER   98aXU2A44FuIOOV27snPKqkHXGm6VocL-1m9rPMb6_Rjkw             덕소나몽이   \n",
       "1  MASTER  RtwaM2fHJQGrhrEJO6JMtopi4jEGZWZ4M4JB_mNYtes_rlg  iliillliillii1il   \n",
       "2  MASTER  VAKsMSSE117CotJorkQgMzC1taWY3hm0mc0azpz28nAzeqg             1Chon   \n",
       "3  MASTER  yu3ysnF3p8f8yFitlLc1vrg8akquavQKXWWtFgzkT3syIRI             guiId   \n",
       "4  MASTER  9YoBNg8hHk_u_acXGwSHedDsKUCt-hvVDNTXZRAhM9g2Jew               리 셉   \n",
       "\n",
       "   leaguePoints  wins  losses  veteran  inactive  freshBlood  hotStreak  \n",
       "0             0    96      85    False     False        True      False  \n",
       "1           101    71      36    False     False        True      False  \n",
       "2           107    71      37    False     False        True       True  \n",
       "3           138    64      44    False     False        True      False  \n",
       "4            57    63      51    False     False        True       True  "
      ]
     },
     "execution_count": 9,
     "metadata": {},
     "output_type": "execute_result"
    }
   ],
   "source": [
    "# entries 컬럼 확장 \n",
    "master_entries_normalized = json_normalize(master_df['entries'])\n",
    "\n",
    "# 확장된 데이터프레임 병합\n",
    "master_df = pd.concat([master_df.drop(['entries'], axis=1), master_entries_normalized], axis=1)\n",
    "\n",
    "# 필요없는 컬럼 drop('queue', 'name')\n",
    "master_df = master_df.drop(['leagueId', 'queue', 'name', 'rank'], axis=1) ## 이 네가지는 당연하고 필요없는 정보\n",
    "\n",
    "# summonerName 컬럼이 결측치인 행 제거\n",
    "master_df = master_df.dropna(subset=['summonerName'])\n",
    "\n",
    "# 확인\n",
    "master_df ## null 값이 아니라 공란 그자체가 값으로 존재하는 듯함\n",
    "\n",
    "# summonerName 컬럼이 공란인 행 제거\n",
    "master_df = master_df[master_df['summonerName'] != '']\n",
    "\n",
    "# 확인\n",
    "master_df.head() # 결측치 제거된 것 확인했음"
   ]
  },
  {
   "cell_type": "markdown",
   "metadata": {},
   "source": [
    "##### 결측치 제거 및 json 펼치는 함수 생성"
   ]
  },
  {
   "cell_type": "code",
   "execution_count": 10,
   "metadata": {},
   "outputs": [],
   "source": [
    "def json_normalize_and_dropna(df):\n",
    "    # entries 컬럼 확장\n",
    "    entries_normalized = json_normalize(df['entries'])\n",
    "    \n",
    "    # 확장된 데이터프레임 병합\n",
    "    df = pd.concat([df.drop(['entries'], axis=1), entries_normalized], axis=1)\n",
    "    \n",
    "    # 필요없는 컬럼 drop('queue', 'name')\n",
    "    df = df.drop(['leagueId', 'queue', 'name', 'rank'], axis=1)\n",
    "    \n",
    "    # summonerName 컬럼이 결측치인 행 제거\n",
    "    df = df.dropna(subset=['summonerName'])\n",
    "    \n",
    "    # summonerName 컬럼이 공란인 행 제거\n",
    "    df = df[df['summonerName'] != '']\n",
    "    \n",
    "    return df"
   ]
  },
  {
   "cell_type": "code",
   "execution_count": 11,
   "metadata": {},
   "outputs": [],
   "source": [
    "# grandmaster df 결측치 제거 및 json normalize\n",
    "grandmaster_df = json_normalize_and_dropna(grandmaster_df)"
   ]
  },
  {
   "cell_type": "markdown",
   "metadata": {},
   "source": [
    "#### 추출한 데이터 프레임에서 닉네임을 모두 뽑아서 리스트로 작성"
   ]
  },
  {
   "cell_type": "markdown",
   "metadata": {},
   "source": [
    "##### 닉네임 하나 골라서 puuid 추출 테스트"
   ]
  },
  {
   "cell_type": "code",
   "execution_count": 12,
   "metadata": {},
   "outputs": [
    {
     "data": {
      "text/plain": [
       "'t_Wf-ad5Drr5FzTmxmkRnsEtBNUf-7PRoTll2k8kxN23sYTKJs2VOrOjeQ418PF31x2QQ2X02RrAtw'"
      ]
     },
     "execution_count": 12,
     "metadata": {},
     "output_type": "execute_result"
    }
   ],
   "source": [
    "## 한명의 닉네임을 넣어서 제대로 나오는지 확인\n",
    "\n",
    "# 닉네임을 넣어줄 url 저장\n",
    "id_url = base_url + \"summoner/v1/summoners/by-name/COPY O\"\n",
    "\n",
    "# 닉네임을 넣었을 때, 반환값 저장\n",
    "random_id = requests.get(id_url, headers = request_header).json()\n",
    "\n",
    "# puuid 추출\n",
    "random_id['puuid'] ## puuid 추출 확인 / random_id 는 딕셔너리 형태(json)"
   ]
  },
  {
   "cell_type": "markdown",
   "metadata": {},
   "source": [
    "##### 앞서서 만든 master_df 에서 닉네임만 리스트로 추출 (df 에서 닉네임만 리스트로 추출하는 함수 생성)"
   ]
  },
  {
   "cell_type": "code",
   "execution_count": 13,
   "metadata": {},
   "outputs": [
    {
     "name": "stdout",
     "output_type": "stream",
     "text": [
      "['덕소나몽이', 'iliillliillii1il', '1Chon']\n",
      "['이렇게 좋은 날', '천연만화', 'kscv05']\n"
     ]
    }
   ],
   "source": [
    "# 닉네임 리스트 추출 함수(닉네임 공란도 제거)\n",
    "def get_summoner_names_list(df):\n",
    "    df = df[df['summonerName'] != '']\n",
    "    summoner_names_list = df['summonerName'].tolist()\n",
    "    return summoner_names_list\n",
    "\n",
    "# master_df 의 닉네임 리스트 추출\n",
    "master_summoner_names_list = get_summoner_names_list(master_df)\n",
    "\n",
    "# grandmaster_df 의 닉네임 리스트 추출\n",
    "grandmaster_summoner_names_list = get_summoner_names_list(grandmaster_df)\n",
    "\n",
    "# 확인\n",
    "print(master_summoner_names_list[:3])\n",
    "\n",
    "print(grandmaster_summoner_names_list[:3])"
   ]
  },
  {
   "cell_type": "markdown",
   "metadata": {},
   "source": [
    "##### 닉네임의 리스트를 넣으면 puuid 의 리스트로 반환하는 함수 생성"
   ]
  },
  {
   "cell_type": "code",
   "execution_count": 14,
   "metadata": {},
   "outputs": [],
   "source": [
    "# 마스터 puuid 리스트 추출 함수\n",
    "def get_puuid_list(nickname_list):\n",
    "    puuid_list = []\n",
    "    \n",
    "    for nickname in nickname_list:\n",
    "        # 닉네임을 넣어줄 url 저장\n",
    "        id_url = base_url + f\"summoner/v1/summoners/by-name/{nickname}\"\n",
    "        \n",
    "        # 닉네임을 넣었을 때, 반환값 저장\n",
    "        random_id = requests.get(id_url, headers=request_header).json()\n",
    "        \n",
    "        # puuid 추출하여 리스트에 추가\n",
    "        if 'puuid' in random_id:\n",
    "           puuid_list.append(random_id['puuid'])\n",
    "    \n",
    "    return puuid_list\n",
    "\n",
    "# 마스터 puuid 리스트 추출해서 master_puuid_list 에 저장\n",
    "master_puuid_list = get_puuid_list(master_summoner_names_list)\n",
    "\n",
    "# 그랜드 puuid 리스트 추출\n",
    "grandmaster_puuid_list = get_puuid_list(grandmaster_summoner_names_list)"
   ]
  },
  {
   "cell_type": "code",
   "execution_count": 15,
   "metadata": {},
   "outputs": [
    {
     "name": "stdout",
     "output_type": "stream",
     "text": [
      "['kYhP68i62rIsuHRjgj08nyudp6z25E2T-ccqE-zYl3i_qkfznXO_7YhmFqZNp6M4bL7fTW1nYb83JQ', '8upXuKqJvCQvEmuMiyeHDtXJ7Qkj3Gl4hwFhqorDSVVUs2AL7hcLoqtdTgraRGxtJ8QSnBZQx1qubw', 'QaBjEGmoD-QWTZ7sF4Q6C2VkwIc_481e2feDOU8QHOC3ndbF2ceWuwzMnyvPvAaLu3NrZx_hA_gT7w']\n",
      "['rx1nmyxEddDyQujL2nvjfiHV_LDcBEo-zyf16l3BFnXQExOMoB6tNss-WGlc_GRgcac2tg1GhDgBhg', 'lskGGafPGWafTOrBtnSVRCyYdggWRybYvU_B0r65qQvnGCU2C4gmZmt9rMDAnruQuoloPyWnpeBiqQ', 'mptEuTzeZ2MWsLxe4KfwLTr2iJp2uUphE7maw8CwGfeeFKXOVZ0_E8GccCzgNUfy0wiRJ1BGd1LOGQ']\n"
     ]
    }
   ],
   "source": [
    "# 확인\n",
    "print(master_puuid_list[:3])\n",
    "\n",
    "print(grandmaster_puuid_list[:3])"
   ]
  },
  {
   "cell_type": "markdown",
   "metadata": {},
   "source": [
    "#### 추출한 puuid 리스트를 이용하여 GAME ID 추출"
   ]
  },
  {
   "cell_type": "markdown",
   "metadata": {},
   "source": [
    "##### 시험용 닉네임과 puuid 를 이용하여 게임 데이터 조회 후 한개의 게임 데이터를 조회(테스트)"
   ]
  },
  {
   "cell_type": "code",
   "execution_count": 16,
   "metadata": {},
   "outputs": [
    {
     "data": {
      "text/plain": [
       "['KR_7004133580',\n",
       " 'KR_7003836228',\n",
       " 'KR_7003780848',\n",
       " 'KR_7003725466',\n",
       " 'KR_7003636575',\n",
       " 'KR_7003576286',\n",
       " 'KR_7003496678',\n",
       " 'KR_7003415677',\n",
       " 'KR_7003339946',\n",
       " 'KR_7003289547',\n",
       " 'KR_7003237553',\n",
       " 'KR_7003190560',\n",
       " 'KR_7003121826',\n",
       " 'KR_7003089848',\n",
       " 'KR_7003060002',\n",
       " 'KR_7003019623',\n",
       " 'KR_7003002191',\n",
       " 'KR_7002969109',\n",
       " 'KR_7002933292',\n",
       " 'KR_7002843922']"
      ]
     },
     "execution_count": 16,
     "metadata": {},
     "output_type": "execute_result"
    }
   ],
   "source": [
    "# 앞에서 생성했던 시험용 닉네임과 puuid 를 이용해서 game id 추출 테스트\n",
    "\n",
    "random_puu_id = random_id['puuid']\n",
    "\n",
    "random_game_url = \"https://Asia.api.riotgames.com/tft/\" + f'match/v1/matches/by-puuid/{random_puu_id}/ids?count=20'\n",
    "\n",
    "random_game_id = requests.get(random_game_url, headers = request_header).json()\n",
    "\n",
    "# 확인\n",
    "random_game_id"
   ]
  },
  {
   "cell_type": "code",
   "execution_count": 28,
   "metadata": {},
   "outputs": [
    {
     "name": "stdout",
     "output_type": "stream",
     "text": [
      "<class 'dict'>\n",
      "{'metadata': {'data_version': '5', 'match_id': 'KR_7004133580', 'participants': ['7fwBtBreUky8V3NXRDc8R3ora47tJpR9E6Dy5puhlRiwX5v6xtTtkZmpVQWYTQ32fqjX6o9brdnAnw', 'f9B0WwvLVCQioMzQY50uhZb6ecPXvvkexY29FMX2QrvFgC_ulkRM08Iwvy0tt2Z_ecSHkxcMAtmn7A', 't_Wf-ad5Drr5FzTmxmkRnsEtBNUf-7PRoTll2k8kxN23sYTKJs2VOrOjeQ418PF31x2QQ2X02RrAtw', 'LZ6lv1UG0xUMVNyzu-R4xTNkHietPz1rLIdevEkkzaTzQc15A3FZvJR1BnDIVnDvXJHcRay84sZCQw', 'tJFb_m_KhxcX1PO8CTZemLkqx3k5N-c7ZxDdI_yvnPDmQ-xnclrXE0dr_SVLmr6SDDKWXLTL35jl1w', 'GEvycnX2BCHPJvYWxovKW0UaUjBhJ1lzWQVjmlMG5_8oV83TMr8Id-HYx-TXt7maxBDPvdu-E9p9JQ', 'LeGm9atIqxWUGhgqVJHQeZ3Sl38LfOIGLIfRtD_RZ2x-PFfPWVYwOMB235aQFpXZZQmCcmgMR-_fEw', 'i1YaFAt-zVs_YI4ag1WM8xjV4SYx0ThPYNAmr8GHYcj8TQOsQDHvCgLbxpH1TRgy5i6sZXkQ6T-Fpg']}, 'info': {'endOfGameResult': 'GameComplete', 'gameCreation': 1711513967000, 'gameId': 7004133580, 'game_datetime': 1711516380537, 'game_length': 2401.256103515625, 'game_version': 'Version 14.6.570.6276 (Mar 25 2024/14:00:15) [PUBLIC] <Releases/14.6>', 'mapId': 22, 'participants': [{'augments': ['TFT9_Augment_YouHaveMySword', 'TFT9_Augment_JeweledLotus', 'TFT9_Augment_CyberneticBulk3'], 'companion': {'content_ID': '695aeccf-59ba-40d3-be5c-0459548e7891', 'item_ID': 52012, 'skin_ID': 12, 'species': 'PetBunny'}, 'gold_left': 0, 'last_round': 28, 'level': 8, 'missions': {'Assists': 0, 'DamageDealt': 0, 'DamageDealtToObjectives': 50614, 'DamageDealtToTurrets': 3, 'DamageTaken': 0, 'Deaths': 0, 'DoubleKills': 0, 'GoldEarned': 0, 'GoldSpent': 0, 'InhibitorsDestroyed': 0, 'KillingSprees': 8, 'Kills': 0, 'LargestKillingSpree': 22896, 'LargestMultiKill': 118106, 'MagicDamageDealt': 0, 'MagicDamageDealtToChampions': 0, 'MagicDamageTaken': 0, 'NeutralMinionsKilledTeamJungle': 0, 'PentaKills': 1, 'PhysicalDamageDealt': 0, 'PhysicalDamageDealtToChampions': 19, 'PhysicalDamageTaken': 1, 'PlayerScore0': 6, 'PlayerScore1': 7, 'PlayerScore10': 0, 'PlayerScore11': 0, 'PlayerScore2': 83, 'PlayerScore3': 0, 'PlayerScore4': 1, 'PlayerScore5': 1, 'PlayerScore6': 9, 'PlayerScore9': 0, 'QuadraKills': 0, 'Spell1Casts': 0, 'Spell2Casts': 0, 'Spell3Casts': 0, 'Spell4Casts': 1668, 'SummonerSpell1Casts': 0, 'TimeCCOthers': 0, 'TotalDamageDealtToChampions': 0, 'TotalMinionsKilled': 0, 'TripleKills': 0, 'TrueDamageDealt': 1, 'TrueDamageDealtToChampions': 66, 'TrueDamageTaken': 7, 'UnrealKills': 0, 'VisionScore': 0, 'WardsKilled': 67}, 'placement': 6, 'players_eliminated': 0, 'puuid': '7fwBtBreUky8V3NXRDc8R3ora47tJpR9E6Dy5puhlRiwX5v6xtTtkZmpVQWYTQ32fqjX6o9brdnAnw', 'time_eliminated': 1662.605712890625, 'total_damage_to_players': 69, 'traits': [{'name': 'TFT11_Altruist', 'num_units': 1, 'style': 0, 'tier_current': 0, 'tier_total': 3}, {'name': 'TFT11_Bruiser', 'num_units': 4, 'style': 2, 'tier_current': 2, 'tier_total': 4}, {'name': 'TFT11_Dragonlord', 'num_units': 1, 'style': 0, 'tier_current': 0, 'tier_total': 4}, {'name': 'TFT11_Fortune', 'num_units': 1, 'style': 0, 'tier_current': 0, 'tier_total': 3}, {'name': 'TFT11_Ghostly', 'num_units': 1, 'style': 0, 'tier_current': 0, 'tier_total': 4}, {'name': 'TFT11_InkShadow', 'num_units': 2, 'style': 0, 'tier_current': 0, 'tier_total': 3}, {'name': 'TFT11_Lovers', 'num_units': 1, 'style': 5, 'tier_current': 1, 'tier_total': 1}, {'name': 'TFT11_Storyweaver', 'num_units': 3, 'style': 1, 'tier_current': 1, 'tier_total': 4}, {'name': 'TFT11_Trickshot', 'num_units': 4, 'style': 3, 'tier_current': 2, 'tier_total': 2}, {'name': 'TFT11_Umbral', 'num_units': 1, 'style': 0, 'tier_current': 0, 'tier_total': 4}], 'units': [{'character_id': 'TFT11_Sivir', 'itemNames': [], 'name': '', 'rarity': 0, 'tier': 2}, {'character_id': 'TFT11_Aatrox', 'itemNames': [], 'name': '', 'rarity': 1, 'tier': 2}, {'character_id': 'TFT11_Riven', 'itemNames': [], 'name': '', 'rarity': 1, 'tier': 2}, {'character_id': 'TFT11_Teemo', 'itemNames': [], 'name': '', 'rarity': 1, 'tier': 2}, {'character_id': 'TFT11_Galio', 'itemNames': ['TFT_Item_WarmogsArmor', 'TFT_Item_GargoyleStoneplate'], 'name': '', 'rarity': 4, 'tier': 1}, {'character_id': 'TFT11_Kaisa', 'itemNames': ['TFT_Item_GuinsoosRageblade', 'TFT_Item_InfinityEdge'], 'name': '', 'rarity': 4, 'tier': 2}, {'character_id': 'TFT11_Sylas', 'itemNames': ['TFT_Item_Bloodthirster', 'TFT_Item_TitansResolve', 'TFT_Item_TitansResolve'], 'name': '', 'rarity': 4, 'tier': 2}, {'character_id': 'TFT11_Xayah', 'itemNames': [], 'name': '', 'rarity': 6, 'tier': 1}, {'character_id': 'TFT11_Kayle', 'itemNames': ['TFT11_Storyweaver3_Support'], 'name': '', 'rarity': 9, 'tier': 1}]}, {'augments': ['TFT9_Augment_HealingOrbsII', 'TFT6_Augment_Diversify2', 'TFT9_Augment_GreaterJeweledLotus'], 'companion': {'content_ID': '1463333c-3219-4e5b-b820-5e4b486379aa', 'item_ID': 46013, 'skin_ID': 13, 'species': 'PetPupDragon'}, 'gold_left': 37, 'last_round': 23, 'level': 7, 'missions': {'Assists': 0, 'DamageDealt': 0, 'DamageDealtToObjectives': 34172, 'DamageDealtToTurrets': 3, 'DamageTaken': 0, 'Deaths': 0, 'DoubleKills': 0, 'GoldEarned': 0, 'GoldSpent': 0, 'InhibitorsDestroyed': 0, 'KillingSprees': 3, 'Kills': 0, 'LargestKillingSpree': 32300, 'LargestMultiKill': 47624, 'MagicDamageDealt': 0, 'MagicDamageDealtToChampions': 0, 'MagicDamageTaken': 0, 'NeutralMinionsKilledTeamJungle': 0, 'PentaKills': 0, 'PhysicalDamageDealt': 0, 'PhysicalDamageDealtToChampions': 12, 'PhysicalDamageTaken': 1, 'PlayerScore0': 8, 'PlayerScore1': 6, 'PlayerScore10': 0, 'PlayerScore11': 0, 'PlayerScore2': 68, 'PlayerScore3': 0, 'PlayerScore4': 1, 'PlayerScore5': 0, 'PlayerScore6': 12, 'PlayerScore9': 0, 'QuadraKills': 0, 'Spell1Casts': 0, 'Spell2Casts': 1, 'Spell3Casts': 0, 'Spell4Casts': 1101, 'SummonerSpell1Casts': 0, 'TimeCCOthers': 0, 'TotalDamageDealtToChampions': 0, 'TotalMinionsKilled': 0, 'TripleKills': 0, 'TrueDamageDealt': 0, 'TrueDamageDealtToChampions': 56, 'TrueDamageTaken': 4, 'UnrealKills': 0, 'VisionScore': 0, 'WardsKilled': 68}, 'placement': 8, 'players_eliminated': 0, 'puuid': 'f9B0WwvLVCQioMzQY50uhZb6ecPXvvkexY29FMX2QrvFgC_ulkRM08Iwvy0tt2Z_ecSHkxcMAtmn7A', 'time_eliminated': 1370.68212890625, 'total_damage_to_players': 26, 'traits': [{'name': 'TFT11_Altruist', 'num_units': 1, 'style': 0, 'tier_current': 0, 'tier_total': 3}, {'name': 'TFT11_Arcanist', 'num_units': 1, 'style': 0, 'tier_current': 0, 'tier_total': 4}, {'name': 'TFT11_Artist', 'num_units': 1, 'style': 5, 'tier_current': 1, 'tier_total': 1}, {'name': 'TFT11_Bruiser', 'num_units': 2, 'style': 1, 'tier_current': 1, 'tier_total': 4}, {'name': 'TFT11_Fortune', 'num_units': 1, 'style': 0, 'tier_current': 0, 'tier_total': 3}, {'name': 'TFT11_Heavenly', 'num_units': 1, 'style': 0, 'tier_current': 0, 'tier_total': 6}, {'name': 'TFT11_Mythic', 'num_units': 3, 'style': 1, 'tier_current': 1, 'tier_total': 4}, {'name': 'TFT11_Storyweaver', 'num_units': 3, 'style': 1, 'tier_current': 1, 'tier_total': 4}, {'name': 'TFT11_Trickshot', 'num_units': 2, 'style': 1, 'tier_current': 1, 'tier_total': 2}], 'units': [{'character_id': 'TFT11_Sivir', 'itemNames': [], 'name': '', 'rarity': 0, 'tier': 2}, {'character_id': 'TFT11_Bard', 'itemNames': ['TFT_Item_GuinsoosRageblade', 'TFT_Item_GuinsoosRageblade', 'TFT_Item_BFSword'], 'name': '', 'rarity': 2, 'tier': 2}, {'character_id': 'TFT11_Soraka', 'itemNames': [], 'name': '', 'rarity': 2, 'tier': 2}, {'character_id': 'TFT11_Zoe', 'itemNames': [], 'name': '', 'rarity': 2, 'tier': 2}, {'character_id': 'TFT11_TahmKench', 'itemNames': ['TFT_Item_Redemption', 'TFT_Item_GargoyleStoneplate'], 'name': '', 'rarity': 2, 'tier': 2}, {'character_id': 'TFT11_Galio', 'itemNames': [], 'name': '', 'rarity': 4, 'tier': 1}, {'character_id': 'TFT11_Hwei', 'itemNames': [], 'name': '', 'rarity': 6, 'tier': 1}, {'character_id': 'TFT11_Kayle', 'itemNames': ['TFT11_Storyweaver3_Support'], 'name': '', 'rarity': 9, 'tier': 1}]}, {'augments': ['TFT11_Augment_Epoch', 'TFT10_Augment_InspiringEpitaph', 'TFT6_Augment_ForceOfNature'], 'companion': {'content_ID': '127829e1-6a49-45f7-b59d-f63c3f8b6e58', 'item_ID': 49003, 'skin_ID': 3, 'species': 'PetChibiAhri'}, 'gold_left': 2, 'last_round': 41, 'level': 10, 'missions': {'Assists': 0, 'DamageDealt': 1, 'DamageDealtToObjectives': 126310, 'DamageDealtToTurrets': 3, 'DamageTaken': 0, 'Deaths': 19, 'DoubleKills': 0, 'GoldEarned': 35, 'GoldSpent': 0, 'InhibitorsDestroyed': 1, 'KillingSprees': 19, 'Kills': 0, 'LargestKillingSpree': 23756, 'LargestMultiKill': 286520, 'MagicDamageDealt': 0, 'MagicDamageDealtToChampions': 0, 'MagicDamageTaken': 0, 'NeutralMinionsKilledTeamJungle': 0, 'PentaKills': 1, 'PhysicalDamageDealt': 0, 'PhysicalDamageDealtToChampions': 30, 'PhysicalDamageTaken': 3, 'PlayerScore0': 1, 'PlayerScore1': 9, 'PlayerScore10': 0, 'PlayerScore11': 0, 'PlayerScore2': 239, 'PlayerScore3': 0, 'PlayerScore4': 1, 'PlayerScore5': 1, 'PlayerScore6': 14, 'PlayerScore9': 0, 'QuadraKills': 0, 'Spell1Casts': 0, 'Spell2Casts': 2, 'Spell3Casts': 0, 'Spell4Casts': 40355, 'SummonerSpell1Casts': 0, 'TimeCCOthers': 2, 'TotalDamageDealtToChampions': 0, 'TotalMinionsKilled': 0, 'TripleKills': 0, 'TrueDamageDealt': 1, 'TrueDamageDealtToChampions': 93, 'TrueDamageTaken': 9, 'UnrealKills': 1, 'VisionScore': 1, 'WardsKilled': 93}, 'placement': 1, 'players_eliminated': 2, 'puuid': 't_Wf-ad5Drr5FzTmxmkRnsEtBNUf-7PRoTll2k8kxN23sYTKJs2VOrOjeQ418PF31x2QQ2X02RrAtw', 'time_eliminated': 2393.11767578125, 'total_damage_to_players': 200, 'traits': [{'name': 'TFT11_Altruist', 'num_units': 3, 'style': 2, 'tier_current': 2, 'tier_total': 3}, {'name': 'TFT11_Arcanist', 'num_units': 2, 'style': 1, 'tier_current': 1, 'tier_total': 4}, {'name': 'TFT11_Bruiser', 'num_units': 2, 'style': 1, 'tier_current': 1, 'tier_total': 4}, {'name': 'TFT11_Dragonlord', 'num_units': 2, 'style': 1, 'tier_current': 1, 'tier_total': 4}, {'name': 'TFT11_Duelist', 'num_units': 2, 'style': 1, 'tier_current': 1, 'tier_total': 4}, {'name': 'TFT11_Exalted', 'num_units': 1, 'style': 0, 'tier_current': 0, 'tier_total': 2}, {'name': 'TFT11_Fortune', 'num_units': 1, 'style': 0, 'tier_current': 0, 'tier_total': 3}, {'name': 'TFT11_Great', 'num_units': 1, 'style': 5, 'tier_current': 1, 'tier_total': 1}, {'name': 'TFT11_Heavenly', 'num_units': 2, 'style': 1, 'tier_current': 1, 'tier_total': 6}, {'name': 'TFT11_Lovers', 'num_units': 1, 'style': 5, 'tier_current': 1, 'tier_total': 1}, {'name': 'TFT11_Porcelain', 'num_units': 1, 'style': 0, 'tier_current': 0, 'tier_total': 3}, {'name': 'TFT11_Sage', 'num_units': 2, 'style': 1, 'tier_current': 1, 'tier_total': 4}, {'name': 'TFT11_Storyweaver', 'num_units': 7, 'style': 3, 'tier_current': 3, 'tier_total': 4}, {'name': 'TFT11_Warden', 'num_units': 1, 'style': 0, 'tier_current': 0, 'tier_total': 3}], 'units': [{'character_id': 'TFT11_Garen', 'itemNames': [], 'name': '', 'rarity': 0, 'tier': 1}, {'character_id': 'TFT11_Riven', 'itemNames': [], 'name': '', 'rarity': 1, 'tier': 2}, {'character_id': 'TFT11_Zyra', 'itemNames': [], 'name': '', 'rarity': 1, 'tier': 2}, {'character_id': 'TFT11_Soraka', 'itemNames': [], 'name': '', 'rarity': 2, 'tier': 2}, {'character_id': 'TFT11_Zoe', 'itemNames': [], 'name': '', 'rarity': 2, 'tier': 2}, {'character_id': 'TFT11_Galio', 'itemNames': ['TFT_Item_GargoyleStoneplate', 'TFT_Item_GargoyleStoneplate', 'TFT_Item_Redemption'], 'name': '', 'rarity': 4, 'tier': 2}, {'character_id': 'TFT11_LeeSin', 'itemNames': ['TFT11_Item_StoryweaverEmblemItem', 'TFT_Item_Bloodthirster', 'TFT_Item_Bloodthirster'], 'name': '', 'rarity': 4, 'tier': 2}, {'character_id': 'TFT11_Lissandra', 'itemNames': ['TFT_Item_JeweledGauntlet', 'TFT_Item_SpearOfShojin', 'TFT_Item_GuinsoosRageblade'], 'name': '', 'rarity': 6, 'tier': 2}, {'character_id': 'TFT11_Irelia', 'itemNames': ['TFT_Item_MadredsBloodrazor', 'TFT_Item_LastWhisper', 'TFT_Item_RapidFireCannon'], 'name': '', 'rarity': 6, 'tier': 2}, {'character_id': 'TFT11_Rakan', 'itemNames': [], 'name': '', 'rarity': 6, 'tier': 1}, {'character_id': 'TFT11_WuKong', 'itemNames': ['TFT_Item_ThiefsGloves', 'TFT_Item_EmptyBag', 'TFT_Item_EmptyBag'], 'name': '', 'rarity': 6, 'tier': 2}, {'character_id': 'TFT11_Kayle', 'itemNames': ['TFT11_Storyweaver7_AS', 'TFT11_Storyweaver5_AS', 'TFT11_Storyweaver3_AS'], 'name': '', 'rarity': 9, 'tier': 3}]}, {'augments': ['TFT11_Augment_AltruistCrest', 'TFT6_Augment_PortableForgePlus', 'TFT11_Augment_TinyButDeadly'], 'companion': {'content_ID': '5897ad9f-4665-4372-8f3e-6c878adb8918', 'item_ID': 1, 'skin_ID': 1, 'species': 'PetTFTAvatar'}, 'gold_left': 8, 'last_round': 30, 'level': 8, 'missions': {'Assists': 0, 'DamageDealt': 0, 'DamageDealtToObjectives': 70867, 'DamageDealtToTurrets': 3, 'DamageTaken': 0, 'Deaths': 3, 'DoubleKills': 0, 'GoldEarned': 1, 'GoldSpent': 0, 'InhibitorsDestroyed': 0, 'KillingSprees': 7, 'Kills': 0, 'LargestKillingSpree': 41205, 'LargestMultiKill': 106124, 'MagicDamageDealt': 0, 'MagicDamageDealtToChampions': 0, 'MagicDamageTaken': 0, 'NeutralMinionsKilledTeamJungle': 0, 'PentaKills': 0, 'PhysicalDamageDealt': 7, 'PhysicalDamageDealtToChampions': 18, 'PhysicalDamageTaken': 1, 'PlayerScore0': 4, 'PlayerScore1': 7, 'PlayerScore10': 0, 'PlayerScore11': 0, 'PlayerScore2': 177, 'PlayerScore3': 0, 'PlayerScore4': 1, 'PlayerScore5': 1, 'PlayerScore6': 11, 'PlayerScore9': 0, 'QuadraKills': 0, 'Spell1Casts': 0, 'Spell2Casts': 2, 'Spell3Casts': 0, 'Spell4Casts': 6591, 'SummonerSpell1Casts': 0, 'TimeCCOthers': 0, 'TotalDamageDealtToChampions': 0, 'TotalMinionsKilled': 0, 'TripleKills': 0, 'TrueDamageDealt': 1, 'TrueDamageDealtToChampions': 59, 'TrueDamageTaken': 6, 'UnrealKills': 1, 'VisionScore': 0, 'WardsKilled': 62}, 'placement': 4, 'players_eliminated': 0, 'puuid': 'LZ6lv1UG0xUMVNyzu-R4xTNkHietPz1rLIdevEkkzaTzQc15A3FZvJR1BnDIVnDvXJHcRay84sZCQw', 'time_eliminated': 1764.3370361328125, 'total_damage_to_players': 73, 'traits': [{'name': 'TFT11_Altruist', 'num_units': 3, 'style': 2, 'tier_current': 2, 'tier_total': 3}, {'name': 'TFT11_Bruiser', 'num_units': 1, 'style': 0, 'tier_current': 0, 'tier_total': 4}, {'name': 'TFT11_Dragonlord', 'num_units': 3, 'style': 2, 'tier_current': 2, 'tier_total': 4}, {'name': 'TFT11_Duelist', 'num_units': 2, 'style': 1, 'tier_current': 1, 'tier_total': 4}, {'name': 'TFT11_Exalted', 'num_units': 1, 'style': 0, 'tier_current': 0, 'tier_total': 2}, {'name': 'TFT11_Fortune', 'num_units': 1, 'style': 0, 'tier_current': 0, 'tier_total': 3}, {'name': 'TFT11_Great', 'num_units': 1, 'style': 5, 'tier_current': 1, 'tier_total': 1}, {'name': 'TFT11_Heavenly', 'num_units': 1, 'style': 0, 'tier_current': 0, 'tier_total': 6}, {'name': 'TFT11_Invoker', 'num_units': 2, 'style': 1, 'tier_current': 1, 'tier_total': 3}, {'name': 'TFT11_Lovers', 'num_units': 1, 'style': 5, 'tier_current': 1, 'tier_total': 1}, {'name': 'TFT11_Sage', 'num_units': 1, 'style': 0, 'tier_current': 0, 'tier_total': 4}, {'name': 'TFT11_Storyweaver', 'num_units': 3, 'style': 1, 'tier_current': 1, 'tier_total': 4}, {'name': 'TFT11_Warden', 'num_units': 1, 'style': 0, 'tier_current': 0, 'tier_total': 3}], 'units': [{'character_id': 'TFT11_Garen', 'itemNames': [], 'name': '', 'rarity': 0, 'tier': 1}, {'character_id': 'TFT11_Janna', 'itemNames': [], 'name': '', 'rarity': 1, 'tier': 2}, {'character_id': 'TFT11_Riven', 'itemNames': [], 'name': '', 'rarity': 1, 'tier': 2}, {'character_id': 'TFT11_Annie', 'itemNames': ['TFT7_Item_ShimmerscaleDiamondHands', 'TFT_Item_Redemption', 'TFT11_Item_AltruistEmblemItem'], 'name': '', 'rarity': 4, 'tier': 2}, {'character_id': 'TFT11_LeeSin', 'itemNames': [], 'name': '', 'rarity': 4, 'tier': 1}, {'character_id': 'TFT11_Irelia', 'itemNames': ['TFT_Item_InfinityEdge', 'TFT_Item_MadredsBloodrazor'], 'name': '', 'rarity': 6, 'tier': 2}, {'character_id': 'TFT11_Rakan', 'itemNames': ['TFT_Item_JeweledGauntlet', 'TFT_Item_Morellonomicon', 'TFT_Item_GargoyleStoneplate'], 'name': '', 'rarity': 6, 'tier': 1}, {'character_id': 'TFT11_WuKong', 'itemNames': ['TFT_Item_TitansResolve'], 'name': '', 'rarity': 6, 'tier': 1}, {'character_id': 'TFT11_Kayle', 'itemNames': ['TFT11_Storyweaver3_Support'], 'name': '', 'rarity': 9, 'tier': 1}]}, {'augments': ['TFT9_Augment_Martyr', 'TFT9_Augment_Idealism', 'TFT11_Augment_TinyButDeadly'], 'companion': {'content_ID': '87f906e8-27c1-48f9-86e2-a7d74a39c9cf', 'item_ID': 68002, 'skin_ID': 2, 'species': 'PetChibiGwen'}, 'gold_left': 12, 'last_round': 30, 'level': 7, 'missions': {'Assists': 0, 'DamageDealt': 1, 'DamageDealtToObjectives': 40030, 'DamageDealtToTurrets': 3, 'DamageTaken': 0, 'Deaths': 8, 'DoubleKills': 0, 'GoldEarned': 0, 'GoldSpent': 0, 'InhibitorsDestroyed': 0, 'KillingSprees': 7, 'Kills': 0, 'LargestKillingSpree': 92611, 'LargestMultiKill': 147257, 'MagicDamageDealt': 0, 'MagicDamageDealtToChampions': 0, 'MagicDamageTaken': 0, 'NeutralMinionsKilledTeamJungle': 0, 'PentaKills': 2, 'PhysicalDamageDealt': 4, 'PhysicalDamageDealtToChampions': 19, 'PhysicalDamageTaken': 0, 'PlayerScore0': 5, 'PlayerScore1': 6, 'PlayerScore10': 0, 'PlayerScore11': 0, 'PlayerScore2': 88, 'PlayerScore3': 0, 'PlayerScore4': 1, 'PlayerScore5': 1, 'PlayerScore6': 18, 'PlayerScore9': 0, 'QuadraKills': 0, 'Spell1Casts': 0, 'Spell2Casts': 0, 'Spell3Casts': 0, 'Spell4Casts': 10371, 'SummonerSpell1Casts': 0, 'TimeCCOthers': 0, 'TotalDamageDealtToChampions': 0, 'TotalMinionsKilled': 0, 'TripleKills': 1, 'TrueDamageDealt': 0, 'TrueDamageDealtToChampions': 53, 'TrueDamageTaken': 6, 'UnrealKills': 0, 'VisionScore': 1, 'WardsKilled': 66}, 'placement': 5, 'players_eliminated': 0, 'puuid': 'tJFb_m_KhxcX1PO8CTZemLkqx3k5N-c7ZxDdI_yvnPDmQ-xnclrXE0dr_SVLmr6SDDKWXLTL35jl1w', 'time_eliminated': 1776.7420654296875, 'total_damage_to_players': 56, 'traits': [{'name': 'TFT11_Arcanist', 'num_units': 2, 'style': 1, 'tier_current': 1, 'tier_total': 4}, {'name': 'TFT11_Behemoth', 'num_units': 2, 'style': 1, 'tier_current': 1, 'tier_total': 3}, {'name': 'TFT11_Fated', 'num_units': 3, 'style': 1, 'tier_current': 1, 'tier_total': 4}, {'name': 'TFT11_Ghostly', 'num_units': 2, 'style': 1, 'tier_current': 1, 'tier_total': 4}, {'name': 'TFT11_Porcelain', 'num_units': 3, 'style': 1, 'tier_current': 1, 'tier_total': 3}, {'name': 'TFT11_Sniper', 'num_units': 2, 'style': 1, 'tier_current': 1, 'tier_total': 3}, {'name': 'TFT11_Warden', 'num_units': 2, 'style': 1, 'tier_current': 1, 'tier_total': 3}], 'units': [{'character_id': 'TFT11_Shen', 'itemNames': [], 'name': '', 'rarity': 1, 'tier': 2}, {'character_id': 'TFT11_Amumu', 'itemNames': ['TFT_Item_GargoyleStoneplate', 'TFT_Item_RedBuff', 'TFT_Item_WarmogsArmor'], 'name': '', 'rarity': 2, 'tier': 3}, {'character_id': 'TFT11_Aphelios', 'itemNames': ['TFT_Item_GuinsoosRageblade', 'TFT_Item_UnstableConcoction', 'TFT_Item_MadredsBloodrazor'], 'name': '', 'rarity': 2, 'tier': 3}, {'character_id': 'TFT11_Thresh', 'itemNames': ['TFT11_Item_PorcelainEmblemItem'], 'name': '', 'rarity': 2, 'tier': 2}, {'character_id': 'TFT11_Illaoi', 'itemNames': ['TFT_Item_ThiefsGloves', 'TFT_Item_PowerGauntlet', 'TFT_Item_FrozenHeart'], 'name': '', 'rarity': 2, 'tier': 3}, {'character_id': 'TFT11_Ashe', 'itemNames': [], 'name': '', 'rarity': 4, 'tier': 1}, {'character_id': 'TFT11_Syndra', 'itemNames': [], 'name': '', 'rarity': 4, 'tier': 1}]}, {'augments': ['TFT9_Augment_EscortQuest', 'TFT11_Augment_Bruiser', 'TFT6_Augment_RadiantRelics'], 'companion': {'content_ID': '1b860b17-e947-4151-9456-ae38097bb6fb', 'item_ID': 4007, 'skin_ID': 7, 'species': 'PetMiner'}, 'gold_left': 0, 'last_round': 41, 'level': 8, 'missions': {'Assists': 0, 'DamageDealt': 0, 'DamageDealtToObjectives': 170999, 'DamageDealtToTurrets': 3, 'DamageTaken': 0, 'Deaths': 21, 'DoubleKills': 0, 'GoldEarned': 0, 'GoldSpent': 0, 'InhibitorsDestroyed': 0, 'KillingSprees': 18, 'Kills': 0, 'LargestKillingSpree': 142054, 'LargestMultiKill': 162453, 'MagicDamageDealt': 0, 'MagicDamageDealtToChampions': 0, 'MagicDamageTaken': 0, 'NeutralMinionsKilledTeamJungle': 0, 'PentaKills': 2, 'PhysicalDamageDealt': 0, 'PhysicalDamageDealtToChampions': 26, 'PhysicalDamageTaken': 1, 'PlayerScore0': 2, 'PlayerScore1': 7, 'PlayerScore10': 0, 'PlayerScore11': 0, 'PlayerScore2': 239, 'PlayerScore3': 0, 'PlayerScore4': 1, 'PlayerScore5': 1, 'PlayerScore6': 19, 'PlayerScore9': 0, 'QuadraKills': 0, 'Spell1Casts': 0, 'Spell2Casts': 1, 'Spell3Casts': 0, 'Spell4Casts': 32188, 'SummonerSpell1Casts': 0, 'TimeCCOthers': 2, 'TotalDamageDealtToChampions': 0, 'TotalMinionsKilled': 0, 'TripleKills': 1, 'TrueDamageDealt': 1, 'TrueDamageDealtToChampions': 68, 'TrueDamageTaken': 7, 'UnrealKills': 1, 'VisionScore': 1, 'WardsKilled': 83}, 'placement': 2, 'players_eliminated': 1, 'puuid': 'GEvycnX2BCHPJvYWxovKW0UaUjBhJ1lzWQVjmlMG5_8oV83TMr8Id-HYx-TXt7maxBDPvdu-E9p9JQ', 'time_eliminated': 2393.11767578125, 'total_damage_to_players': 179, 'traits': [{'name': 'TFT11_Altruist', 'num_units': 2, 'style': 1, 'tier_current': 1, 'tier_total': 3}, {'name': 'TFT11_Arcanist', 'num_units': 2, 'style': 1, 'tier_current': 1, 'tier_total': 4}, {'name': 'TFT11_Bruiser', 'num_units': 2, 'style': 1, 'tier_current': 1, 'tier_total': 4}, {'name': 'TFT11_Fortune', 'num_units': 1, 'style': 0, 'tier_current': 0, 'tier_total': 3}, {'name': 'TFT11_Heavenly', 'num_units': 2, 'style': 1, 'tier_current': 1, 'tier_total': 6}, {'name': 'TFT11_Mythic', 'num_units': 5, 'style': 2, 'tier_current': 2, 'tier_total': 4}, {'name': 'TFT11_Storyweaver', 'num_units': 3, 'style': 1, 'tier_current': 1, 'tier_total': 4}, {'name': 'TFT11_Trickshot', 'num_units': 2, 'style': 1, 'tier_current': 1, 'tier_total': 2}, {'name': 'TFT11_Warden', 'num_units': 1, 'style': 0, 'tier_current': 0, 'tier_total': 3}], 'units': [{'character_id': 'TFT11_Sivir', 'itemNames': [], 'name': '', 'rarity': 0, 'tier': 2}, {'character_id': 'TFT11_Neeko', 'itemNames': [], 'name': '', 'rarity': 1, 'tier': 2}, {'character_id': 'TFT11_Riven', 'itemNames': [], 'name': '', 'rarity': 1, 'tier': 2}, {'character_id': 'TFT11_Bard', 'itemNames': ['TFT5_Item_RapidFirecannonRadiant', 'TFT_Item_HextechGunblade', 'TFT_Item_GuinsoosRageblade'], 'name': '', 'rarity': 2, 'tier': 3}, {'character_id': 'TFT11_Soraka', 'itemNames': ['TFT_Item_GuinsoosRageblade', 'TFT11_Item_MythicEmblemItem', 'TFT_Item_JeweledGauntlet'], 'name': '', 'rarity': 2, 'tier': 2}, {'character_id': 'TFT11_Zoe', 'itemNames': ['TFT_Item_ThiefsGloves', 'TFT_Item_BrambleVest', 'TFT_Item_TitansResolve'], 'name': '', 'rarity': 2, 'tier': 3}, {'character_id': 'TFT11_TahmKench', 'itemNames': ['TFT_Item_GargoyleStoneplate', 'TFT_Item_Redemption', 'TFT_Item_DragonsClaw'], 'name': '', 'rarity': 2, 'tier': 3}, {'character_id': 'TFT11_Nautilus', 'itemNames': ['TFT_Item_NightHarvester', 'TFT_Item_BlueBuff'], 'name': '', 'rarity': 4, 'tier': 2}, {'character_id': 'TFT11_Kayle', 'itemNames': ['TFT11_Storyweaver3_Support'], 'name': '', 'rarity': 9, 'tier': 1}]}, {'augments': ['TFT9_Augment_TwoHealthy', 'TFT11_Augment_ScoreboardScrapper', 'TFT9_Augment_UnleashedArcana'], 'companion': {'content_ID': '5f5a22be-ecf1-40b5-9caa-5d2a80a5fffa', 'item_ID': 50002, 'skin_ID': 2, 'species': 'PetChibiLux'}, 'gold_left': 25, 'last_round': 26, 'level': 7, 'missions': {'Assists': 0, 'DamageDealt': 0, 'DamageDealtToObjectives': 72224, 'DamageDealtToTurrets': 3, 'DamageTaken': 0, 'Deaths': 0, 'DoubleKills': 0, 'GoldEarned': 0, 'GoldSpent': 0, 'InhibitorsDestroyed': 0, 'KillingSprees': 4, 'Kills': 0, 'LargestKillingSpree': 24614, 'LargestMultiKill': 50940, 'MagicDamageDealt': 0, 'MagicDamageDealtToChampions': 0, 'MagicDamageTaken': 0, 'NeutralMinionsKilledTeamJungle': 0, 'PentaKills': 0, 'PhysicalDamageDealt': 12, 'PhysicalDamageDealtToChampions': 19, 'PhysicalDamageTaken': 0, 'PlayerScore0': 7, 'PlayerScore1': 6, 'PlayerScore10': 0, 'PlayerScore11': 0, 'PlayerScore2': 76, 'PlayerScore3': 0, 'PlayerScore4': 1, 'PlayerScore5': 1, 'PlayerScore6': 16, 'PlayerScore9': 0, 'QuadraKills': 0, 'Spell1Casts': 0, 'Spell2Casts': 2, 'Spell3Casts': 0, 'Spell4Casts': 4295, 'SummonerSpell1Casts': 0, 'TimeCCOthers': 0, 'TotalDamageDealtToChampions': 0, 'TotalMinionsKilled': 0, 'TripleKills': 0, 'TrueDamageDealt': 0, 'TrueDamageDealtToChampions': 62, 'TrueDamageTaken': 7, 'UnrealKills': 0, 'VisionScore': 0, 'WardsKilled': 68}, 'placement': 7, 'players_eliminated': 0, 'puuid': 'LeGm9atIqxWUGhgqVJHQeZ3Sl38LfOIGLIfRtD_RZ2x-PFfPWVYwOMB235aQFpXZZQmCcmgMR-_fEw', 'time_eliminated': 1536.1483154296875, 'total_damage_to_players': 30, 'traits': [{'name': 'TFT11_Arcanist', 'num_units': 2, 'style': 1, 'tier_current': 1, 'tier_total': 4}, {'name': 'TFT11_Dragonlord', 'num_units': 2, 'style': 1, 'tier_current': 1, 'tier_total': 4}, {'name': 'TFT11_Dryad', 'num_units': 1, 'style': 0, 'tier_current': 0, 'tier_total': 3}, {'name': 'TFT11_Duelist', 'num_units': 1, 'style': 0, 'tier_current': 0, 'tier_total': 4}, {'name': 'TFT11_Exalted', 'num_units': 5, 'style': 3, 'tier_current': 2, 'tier_total': 2}, {'name': 'TFT11_Heavenly', 'num_units': 2, 'style': 1, 'tier_current': 1, 'tier_total': 6}, {'name': 'TFT11_Invoker', 'num_units': 1, 'style': 0, 'tier_current': 0, 'tier_total': 3}, {'name': 'TFT11_Mythic', 'num_units': 1, 'style': 0, 'tier_current': 0, 'tier_total': 4}, {'name': 'TFT11_Porcelain', 'num_units': 1, 'style': 0, 'tier_current': 0, 'tier_total': 3}, {'name': 'TFT11_Sage', 'num_units': 2, 'style': 1, 'tier_current': 1, 'tier_total': 4}, {'name': 'TFT11_Storyweaver', 'num_units': 1, 'style': 0, 'tier_current': 0, 'tier_total': 4}, {'name': 'TFT11_Warden', 'num_units': 1, 'style': 0, 'tier_current': 0, 'tier_total': 3}], 'units': [{'character_id': 'TFT11_Lux', 'itemNames': ['TFT_Item_JeweledGauntlet', 'TFT_Item_RabadonsDeathcap', 'TFT_Item_SpearOfShojin'], 'name': '', 'rarity': 1, 'tier': 3}, {'character_id': 'TFT11_Janna', 'itemNames': [], 'name': '', 'rarity': 1, 'tier': 2}, {'character_id': 'TFT11_Neeko', 'itemNames': [], 'name': '', 'rarity': 1, 'tier': 2}, {'character_id': 'TFT11_Qiyana', 'itemNames': [], 'name': '', 'rarity': 1, 'tier': 2}, {'character_id': 'TFT11_Zyra', 'itemNames': ['TFT_Item_MadredsBloodrazor', 'TFT_Item_GuinsoosRageblade', 'TFT_Item_ArchangelsStaff'], 'name': '', 'rarity': 1, 'tier': 3}, {'character_id': 'TFT11_Gnar', 'itemNames': [], 'name': '', 'rarity': 1, 'tier': 1}, {'character_id': 'TFT11_Diana', 'itemNames': ['TFT_Item_Bloodthirster', 'TFT_Item_TitansResolve', 'TFT_Item_RedBuff'], 'name': '', 'rarity': 2, 'tier': 2}]}, {'augments': ['TFT6_Augment_Keepers2', 'TFT9_Augment_GargantuanResolve', 'TFT9_Augment_InfernalContract'], 'companion': {'content_ID': 'b8a75caf-97f5-442f-ab0e-bd81e9c31f7a', 'item_ID': 27004, 'skin_ID': 4, 'species': 'PetChoncc'}, 'gold_left': 1, 'last_round': 37, 'level': 7, 'missions': {'Assists': 0, 'DamageDealt': 1, 'DamageDealtToObjectives': 61425, 'DamageDealtToTurrets': 3, 'DamageTaken': 0, 'Deaths': 0, 'DoubleKills': 0, 'GoldEarned': 0, 'GoldSpent': 0, 'InhibitorsDestroyed': 0, 'KillingSprees': 18, 'Kills': 0, 'LargestKillingSpree': 88626, 'LargestMultiKill': 249970, 'MagicDamageDealt': 0, 'MagicDamageDealtToChampions': 0, 'MagicDamageTaken': 0, 'NeutralMinionsKilledTeamJungle': 0, 'PentaKills': 0, 'PhysicalDamageDealt': 0, 'PhysicalDamageDealtToChampions': 22, 'PhysicalDamageTaken': 0, 'PlayerScore0': 3, 'PlayerScore1': 6, 'PlayerScore10': 0, 'PlayerScore11': 0, 'PlayerScore2': 217, 'PlayerScore3': 0, 'PlayerScore4': 1, 'PlayerScore5': 1, 'PlayerScore6': 22, 'PlayerScore9': 0, 'QuadraKills': 0, 'Spell1Casts': 0, 'Spell2Casts': 0, 'Spell3Casts': 0, 'Spell4Casts': 5262, 'SummonerSpell1Casts': 0, 'TimeCCOthers': 3, 'TotalDamageDealtToChampions': 0, 'TotalMinionsKilled': 0, 'TripleKills': 1, 'TrueDamageDealt': 1, 'TrueDamageDealtToChampions': 68, 'TrueDamageTaken': 7, 'UnrealKills': 1, 'VisionScore': 0, 'WardsKilled': 88}, 'placement': 3, 'players_eliminated': 1, 'puuid': 'i1YaFAt-zVs_YI4ag1WM8xjV4SYx0ThPYNAmr8GHYcj8TQOsQDHvCgLbxpH1TRgy5i6sZXkQ6T-Fpg', 'time_eliminated': 2172.001220703125, 'total_damage_to_players': 173, 'traits': [{'name': 'TFT11_Dragonlord', 'num_units': 2, 'style': 1, 'tier_current': 1, 'tier_total': 4}, {'name': 'TFT11_Duelist', 'num_units': 6, 'style': 3, 'tier_current': 3, 'tier_total': 4}, {'name': 'TFT11_Exalted', 'num_units': 1, 'style': 0, 'tier_current': 0, 'tier_total': 2}, {'name': 'TFT11_Fortune', 'num_units': 1, 'style': 0, 'tier_current': 0, 'tier_total': 3}, {'name': 'TFT11_Heavenly', 'num_units': 1, 'style': 0, 'tier_current': 0, 'tier_total': 6}, {'name': 'TFT11_InkShadow', 'num_units': 1, 'style': 0, 'tier_current': 0, 'tier_total': 3}, {'name': 'TFT11_Sage', 'num_units': 1, 'style': 0, 'tier_current': 0, 'tier_total': 4}, {'name': 'TFT11_Storyweaver', 'num_units': 1, 'style': 0, 'tier_current': 0, 'tier_total': 4}, {'name': 'TFT11_Umbral', 'num_units': 1, 'style': 0, 'tier_current': 0, 'tier_total': 4}], 'units': [{'character_id': 'TFT11_Darius', 'itemNames': [], 'name': '', 'rarity': 0, 'tier': 2}, {'character_id': 'TFT11_Qiyana', 'itemNames': ['TFT_Item_Bloodthirster', 'TFT_Item_TitansResolve'], 'name': '', 'rarity': 1, 'tier': 3}, {'character_id': 'TFT11_Volibear', 'itemNames': ['TFT_Item_TitansResolve', 'TFT_Item_TitansResolve', 'TFT_Item_TitansResolve'], 'name': '', 'rarity': 2, 'tier': 3}, {'character_id': 'TFT11_Tristana', 'itemNames': ['TFT_Item_LastWhisper', 'TFT_Item_GuinsoosRageblade', 'TFT_Item_InfinityEdge'], 'name': '', 'rarity': 2, 'tier': 3}, {'character_id': 'TFT11_Diana', 'itemNames': [], 'name': '', 'rarity': 2, 'tier': 3}, {'character_id': 'TFT11_LeeSin', 'itemNames': ['TFT_Item_Bloodthirster'], 'name': '', 'rarity': 4, 'tier': 2}, {'character_id': 'TFT11_Irelia', 'itemNames': ['TFT_Item_Morellonomicon'], 'name': '', 'rarity': 6, 'tier': 1}]}], 'queueId': 1100, 'queue_id': 1100, 'tft_game_type': 'standard', 'tft_set_core_name': 'TFTSet11', 'tft_set_number': 11}}\n"
     ]
    }
   ],
   "source": [
    "# 리스트에서 첫번째 GAME ID 를 선택\n",
    "random_first_game_id = random_game_id[0]\n",
    "\n",
    "# 첫번쨰 GAEM ID 를 API 를 통해 게임 데이터 조회\n",
    "random_game_result_url = \"https://Asia.api.riotgames.com/tft/\" + f\"match/v1/matches/{random_first_game_id}\"\n",
    "\n",
    "# 조회한 결과를 game_result 에 저장\n",
    "random_game_result = requests.get(random_game_result_url, headers=request_header).json()\n",
    "\n",
    "# 확인\n",
    "print(type(random_game_result)) #json타입 확인\n",
    "\n",
    "print(random_game_result)"
   ]
  },
  {
   "cell_type": "code",
   "execution_count": 19,
   "metadata": {},
   "outputs": [],
   "source": [
    "# 딕셔너리 안에서 info key 에 속하는 딕셔너리를 dataframe 으로 만들기\n",
    "game_result_df = pd.DataFrame(random_game_result['info'])"
   ]
  },
  {
   "cell_type": "code",
   "execution_count": 20,
   "metadata": {},
   "outputs": [
    {
     "data": {
      "text/html": [
       "<div>\n",
       "<style scoped>\n",
       "    .dataframe tbody tr th:only-of-type {\n",
       "        vertical-align: middle;\n",
       "    }\n",
       "\n",
       "    .dataframe tbody tr th {\n",
       "        vertical-align: top;\n",
       "    }\n",
       "\n",
       "    .dataframe thead th {\n",
       "        text-align: right;\n",
       "    }\n",
       "</style>\n",
       "<table border=\"1\" class=\"dataframe\">\n",
       "  <thead>\n",
       "    <tr style=\"text-align: right;\">\n",
       "      <th></th>\n",
       "      <th>augments</th>\n",
       "      <th>companion</th>\n",
       "      <th>gold_left</th>\n",
       "      <th>last_round</th>\n",
       "      <th>level</th>\n",
       "      <th>missions</th>\n",
       "      <th>placement</th>\n",
       "      <th>players_eliminated</th>\n",
       "      <th>puuid</th>\n",
       "      <th>time_eliminated</th>\n",
       "      <th>total_damage_to_players</th>\n",
       "      <th>traits</th>\n",
       "      <th>units</th>\n",
       "    </tr>\n",
       "  </thead>\n",
       "  <tbody>\n",
       "    <tr>\n",
       "      <th>0</th>\n",
       "      <td>[TFT9_Augment_YouHaveMySword, TFT9_Augment_JeweledLotus, TFT9_Augment_CyberneticBulk3]</td>\n",
       "      <td>{'content_ID': '695aeccf-59ba-40d3-be5c-0459548e7891', 'item_ID': 52012, 'skin_ID': 12, 'species': 'PetBunny'}</td>\n",
       "      <td>0</td>\n",
       "      <td>28</td>\n",
       "      <td>8</td>\n",
       "      <td>{'Assists': 0, 'DamageDealt': 0, 'DamageDealtToObjectives': 50614, 'DamageDealtToTurrets': 3, 'DamageTaken': 0, 'Deaths': 0, 'DoubleKills': 0, 'GoldEarned': 0, 'GoldSpent': 0, 'InhibitorsDestroyed': 0, 'KillingSprees': 8, 'Kills': 0, 'LargestKillingSpree': 22896, 'LargestMultiKill': 118106, 'MagicDamageDealt': 0, 'MagicDamageDealtToChampions': 0, 'MagicDamageTaken': 0, 'NeutralMinionsKilledTeamJungle': 0, 'PentaKills': 1, 'PhysicalDamageDealt': 0, 'PhysicalDamageDealtToChampions': 19, 'PhysicalDamageTaken': 1, 'PlayerScore0': 6, 'PlayerScore1': 7, 'PlayerScore10': 0, 'PlayerScore11': 0, 'PlayerScore2': 83, 'PlayerScore3': 0, 'PlayerScore4': 1, 'PlayerScore5': 1, 'PlayerScore6': 9, 'PlayerScore9': 0, 'QuadraKills': 0, 'Spell1Casts': 0, 'Spell2Casts': 0, 'Spell3Casts': 0, 'Spell4Casts': 1668, 'SummonerSpell1Casts': 0, 'TimeCCOthers': 0, 'TotalDamageDealtToChampions': 0, 'TotalMinionsKilled': 0, 'TripleKills': 0, 'TrueDamageDealt': 1, 'TrueDamageDealtToChampions': 66, 'TrueDamageTaken': 7, 'UnrealKills': 0, 'VisionScore': 0, 'WardsKilled': 67}</td>\n",
       "      <td>6</td>\n",
       "      <td>0</td>\n",
       "      <td>7fwBtBreUky8V3NXRDc8R3ora47tJpR9E6Dy5puhlRiwX5v6xtTtkZmpVQWYTQ32fqjX6o9brdnAnw</td>\n",
       "      <td>1662.605713</td>\n",
       "      <td>69</td>\n",
       "      <td>[{'name': 'TFT11_Altruist', 'num_units': 1, 'style': 0, 'tier_current': 0, 'tier_total': 3}, {'name': 'TFT11_Bruiser', 'num_units': 4, 'style': 2, 'tier_current': 2, 'tier_total': 4}, {'name': 'TFT11_Dragonlord', 'num_units': 1, 'style': 0, 'tier_current': 0, 'tier_total': 4}, {'name': 'TFT11_Fortune', 'num_units': 1, 'style': 0, 'tier_current': 0, 'tier_total': 3}, {'name': 'TFT11_Ghostly', 'num_units': 1, 'style': 0, 'tier_current': 0, 'tier_total': 4}, {'name': 'TFT11_InkShadow', 'num_units': 2, 'style': 0, 'tier_current': 0, 'tier_total': 3}, {'name': 'TFT11_Lovers', 'num_units': 1, 'style': 5, 'tier_current': 1, 'tier_total': 1}, {'name': 'TFT11_Storyweaver', 'num_units': 3, 'style': 1, 'tier_current': 1, 'tier_total': 4}, {'name': 'TFT11_Trickshot', 'num_units': 4, 'style': 3, 'tier_current': 2, 'tier_total': 2}, {'name': 'TFT11_Umbral', 'num_units': 1, 'style': 0, 'tier_current': 0, 'tier_total': 4}]</td>\n",
       "      <td>[{'character_id': 'TFT11_Sivir', 'itemNames': [], 'name': '', 'rarity': 0, 'tier': 2}, {'character_id': 'TFT11_Aatrox', 'itemNames': [], 'name': '', 'rarity': 1, 'tier': 2}, {'character_id': 'TFT11_Riven', 'itemNames': [], 'name': '', 'rarity': 1, 'tier': 2}, {'character_id': 'TFT11_Teemo', 'itemNames': [], 'name': '', 'rarity': 1, 'tier': 2}, {'character_id': 'TFT11_Galio', 'itemNames': ['TFT_Item_WarmogsArmor', 'TFT_Item_GargoyleStoneplate'], 'name': '', 'rarity': 4, 'tier': 1}, {'character_id': 'TFT11_Kaisa', 'itemNames': ['TFT_Item_GuinsoosRageblade', 'TFT_Item_InfinityEdge'], 'name': '', 'rarity': 4, 'tier': 2}, {'character_id': 'TFT11_Sylas', 'itemNames': ['TFT_Item_Bloodthirster', 'TFT_Item_TitansResolve', 'TFT_Item_TitansResolve'], 'name': '', 'rarity': 4, 'tier': 2}, {'character_id': 'TFT11_Xayah', 'itemNames': [], 'name': '', 'rarity': 6, 'tier': 1}, {'character_id': 'TFT11_Kayle', 'itemNames': ['TFT11_Storyweaver3_Support'], 'name': '', 'rarity': 9, 'tier': 1}]</td>\n",
       "    </tr>\n",
       "  </tbody>\n",
       "</table>\n",
       "</div>"
      ],
      "text/plain": [
       "                                                                                 augments  \\\n",
       "0  [TFT9_Augment_YouHaveMySword, TFT9_Augment_JeweledLotus, TFT9_Augment_CyberneticBulk3]   \n",
       "\n",
       "                                                                                                        companion  \\\n",
       "0  {'content_ID': '695aeccf-59ba-40d3-be5c-0459548e7891', 'item_ID': 52012, 'skin_ID': 12, 'species': 'PetBunny'}   \n",
       "\n",
       "   gold_left  last_round  level  \\\n",
       "0          0          28      8   \n",
       "\n",
       "                                                                                                                                                                                                                                                                                                                                                                                                                                                                                                                                                                                                                                                                                                                                                                                                                                                                                                                                                                                                                                                                                           missions  \\\n",
       "0  {'Assists': 0, 'DamageDealt': 0, 'DamageDealtToObjectives': 50614, 'DamageDealtToTurrets': 3, 'DamageTaken': 0, 'Deaths': 0, 'DoubleKills': 0, 'GoldEarned': 0, 'GoldSpent': 0, 'InhibitorsDestroyed': 0, 'KillingSprees': 8, 'Kills': 0, 'LargestKillingSpree': 22896, 'LargestMultiKill': 118106, 'MagicDamageDealt': 0, 'MagicDamageDealtToChampions': 0, 'MagicDamageTaken': 0, 'NeutralMinionsKilledTeamJungle': 0, 'PentaKills': 1, 'PhysicalDamageDealt': 0, 'PhysicalDamageDealtToChampions': 19, 'PhysicalDamageTaken': 1, 'PlayerScore0': 6, 'PlayerScore1': 7, 'PlayerScore10': 0, 'PlayerScore11': 0, 'PlayerScore2': 83, 'PlayerScore3': 0, 'PlayerScore4': 1, 'PlayerScore5': 1, 'PlayerScore6': 9, 'PlayerScore9': 0, 'QuadraKills': 0, 'Spell1Casts': 0, 'Spell2Casts': 0, 'Spell3Casts': 0, 'Spell4Casts': 1668, 'SummonerSpell1Casts': 0, 'TimeCCOthers': 0, 'TotalDamageDealtToChampions': 0, 'TotalMinionsKilled': 0, 'TripleKills': 0, 'TrueDamageDealt': 1, 'TrueDamageDealtToChampions': 66, 'TrueDamageTaken': 7, 'UnrealKills': 0, 'VisionScore': 0, 'WardsKilled': 67}   \n",
       "\n",
       "   placement  players_eliminated  \\\n",
       "0          6                   0   \n",
       "\n",
       "                                                                            puuid  \\\n",
       "0  7fwBtBreUky8V3NXRDc8R3ora47tJpR9E6Dy5puhlRiwX5v6xtTtkZmpVQWYTQ32fqjX6o9brdnAnw   \n",
       "\n",
       "   time_eliminated  total_damage_to_players  \\\n",
       "0      1662.605713                       69   \n",
       "\n",
       "                                                                                                                                                                                                                                                                                                                                                                                                                                                                                                                                                                                                                                                                                                                                                                                                                                                                                                                                                     traits  \\\n",
       "0  [{'name': 'TFT11_Altruist', 'num_units': 1, 'style': 0, 'tier_current': 0, 'tier_total': 3}, {'name': 'TFT11_Bruiser', 'num_units': 4, 'style': 2, 'tier_current': 2, 'tier_total': 4}, {'name': 'TFT11_Dragonlord', 'num_units': 1, 'style': 0, 'tier_current': 0, 'tier_total': 4}, {'name': 'TFT11_Fortune', 'num_units': 1, 'style': 0, 'tier_current': 0, 'tier_total': 3}, {'name': 'TFT11_Ghostly', 'num_units': 1, 'style': 0, 'tier_current': 0, 'tier_total': 4}, {'name': 'TFT11_InkShadow', 'num_units': 2, 'style': 0, 'tier_current': 0, 'tier_total': 3}, {'name': 'TFT11_Lovers', 'num_units': 1, 'style': 5, 'tier_current': 1, 'tier_total': 1}, {'name': 'TFT11_Storyweaver', 'num_units': 3, 'style': 1, 'tier_current': 1, 'tier_total': 4}, {'name': 'TFT11_Trickshot', 'num_units': 4, 'style': 3, 'tier_current': 2, 'tier_total': 2}, {'name': 'TFT11_Umbral', 'num_units': 1, 'style': 0, 'tier_current': 0, 'tier_total': 4}]   \n",
       "\n",
       "                                                                                                                                                                                                                                                                                                                                                                                                                                                                                                                                                                                                                                                                                                                                                                                                                                                                                                                                                                                                                        units  \n",
       "0  [{'character_id': 'TFT11_Sivir', 'itemNames': [], 'name': '', 'rarity': 0, 'tier': 2}, {'character_id': 'TFT11_Aatrox', 'itemNames': [], 'name': '', 'rarity': 1, 'tier': 2}, {'character_id': 'TFT11_Riven', 'itemNames': [], 'name': '', 'rarity': 1, 'tier': 2}, {'character_id': 'TFT11_Teemo', 'itemNames': [], 'name': '', 'rarity': 1, 'tier': 2}, {'character_id': 'TFT11_Galio', 'itemNames': ['TFT_Item_WarmogsArmor', 'TFT_Item_GargoyleStoneplate'], 'name': '', 'rarity': 4, 'tier': 1}, {'character_id': 'TFT11_Kaisa', 'itemNames': ['TFT_Item_GuinsoosRageblade', 'TFT_Item_InfinityEdge'], 'name': '', 'rarity': 4, 'tier': 2}, {'character_id': 'TFT11_Sylas', 'itemNames': ['TFT_Item_Bloodthirster', 'TFT_Item_TitansResolve', 'TFT_Item_TitansResolve'], 'name': '', 'rarity': 4, 'tier': 2}, {'character_id': 'TFT11_Xayah', 'itemNames': [], 'name': '', 'rarity': 6, 'tier': 1}, {'character_id': 'TFT11_Kayle', 'itemNames': ['TFT11_Storyweaver3_Support'], 'name': '', 'rarity': 9, 'tier': 1}]  "
      ]
     },
     "execution_count": 20,
     "metadata": {},
     "output_type": "execute_result"
    }
   ],
   "source": [
    "participants = pd.DataFrame(random_game_result['info']['participants'])\n",
    "\n",
    "participants[:1]  ## 한게임에 8명이 참가하므로 총 8개의 데이터가 생기는 것을 확인"
   ]
  },
  {
   "cell_type": "code",
   "execution_count": 23,
   "metadata": {},
   "outputs": [
    {
     "name": "stdout",
     "output_type": "stream",
     "text": [
      "<class 'pandas.core.frame.DataFrame'>\n",
      "RangeIndex: 8 entries, 0 to 7\n",
      "Data columns (total 13 columns):\n",
      " #   Column                   Non-Null Count  Dtype  \n",
      "---  ------                   --------------  -----  \n",
      " 0   augments                 8 non-null      object \n",
      " 1   companion                8 non-null      object \n",
      " 2   gold_left                8 non-null      int64  \n",
      " 3   last_round               8 non-null      int64  \n",
      " 4   level                    8 non-null      int64  \n",
      " 5   missions                 8 non-null      object \n",
      " 6   placement                8 non-null      int64  \n",
      " 7   players_eliminated       8 non-null      int64  \n",
      " 8   puuid                    8 non-null      object \n",
      " 9   time_eliminated          8 non-null      float64\n",
      " 10  total_damage_to_players  8 non-null      int64  \n",
      " 11  traits                   8 non-null      object \n",
      " 12  units                    8 non-null      object \n",
      "dtypes: float64(1), int64(6), object(6)\n",
      "memory usage: 960.0+ bytes\n"
     ]
    }
   ],
   "source": [
    "participants.info()"
   ]
  },
  {
   "cell_type": "code",
   "execution_count": 21,
   "metadata": {},
   "outputs": [
    {
     "data": {
      "text/html": [
       "<div>\n",
       "<style scoped>\n",
       "    .dataframe tbody tr th:only-of-type {\n",
       "        vertical-align: middle;\n",
       "    }\n",
       "\n",
       "    .dataframe tbody tr th {\n",
       "        vertical-align: top;\n",
       "    }\n",
       "\n",
       "    .dataframe thead th {\n",
       "        text-align: right;\n",
       "    }\n",
       "</style>\n",
       "<table border=\"1\" class=\"dataframe\">\n",
       "  <thead>\n",
       "    <tr style=\"text-align: right;\">\n",
       "      <th></th>\n",
       "      <th>name</th>\n",
       "      <th>num_units</th>\n",
       "      <th>style</th>\n",
       "      <th>tier_current</th>\n",
       "      <th>tier_total</th>\n",
       "    </tr>\n",
       "  </thead>\n",
       "  <tbody>\n",
       "    <tr>\n",
       "      <th>0</th>\n",
       "      <td>TFT11_Altruist</td>\n",
       "      <td>1</td>\n",
       "      <td>0</td>\n",
       "      <td>0</td>\n",
       "      <td>3</td>\n",
       "    </tr>\n",
       "    <tr>\n",
       "      <th>1</th>\n",
       "      <td>TFT11_Bruiser</td>\n",
       "      <td>4</td>\n",
       "      <td>2</td>\n",
       "      <td>2</td>\n",
       "      <td>4</td>\n",
       "    </tr>\n",
       "    <tr>\n",
       "      <th>2</th>\n",
       "      <td>TFT11_Dragonlord</td>\n",
       "      <td>1</td>\n",
       "      <td>0</td>\n",
       "      <td>0</td>\n",
       "      <td>4</td>\n",
       "    </tr>\n",
       "    <tr>\n",
       "      <th>3</th>\n",
       "      <td>TFT11_Fortune</td>\n",
       "      <td>1</td>\n",
       "      <td>0</td>\n",
       "      <td>0</td>\n",
       "      <td>3</td>\n",
       "    </tr>\n",
       "    <tr>\n",
       "      <th>4</th>\n",
       "      <td>TFT11_Ghostly</td>\n",
       "      <td>1</td>\n",
       "      <td>0</td>\n",
       "      <td>0</td>\n",
       "      <td>4</td>\n",
       "    </tr>\n",
       "    <tr>\n",
       "      <th>5</th>\n",
       "      <td>TFT11_InkShadow</td>\n",
       "      <td>2</td>\n",
       "      <td>0</td>\n",
       "      <td>0</td>\n",
       "      <td>3</td>\n",
       "    </tr>\n",
       "    <tr>\n",
       "      <th>6</th>\n",
       "      <td>TFT11_Lovers</td>\n",
       "      <td>1</td>\n",
       "      <td>5</td>\n",
       "      <td>1</td>\n",
       "      <td>1</td>\n",
       "    </tr>\n",
       "    <tr>\n",
       "      <th>7</th>\n",
       "      <td>TFT11_Storyweaver</td>\n",
       "      <td>3</td>\n",
       "      <td>1</td>\n",
       "      <td>1</td>\n",
       "      <td>4</td>\n",
       "    </tr>\n",
       "    <tr>\n",
       "      <th>8</th>\n",
       "      <td>TFT11_Trickshot</td>\n",
       "      <td>4</td>\n",
       "      <td>3</td>\n",
       "      <td>2</td>\n",
       "      <td>2</td>\n",
       "    </tr>\n",
       "    <tr>\n",
       "      <th>9</th>\n",
       "      <td>TFT11_Umbral</td>\n",
       "      <td>1</td>\n",
       "      <td>0</td>\n",
       "      <td>0</td>\n",
       "      <td>4</td>\n",
       "    </tr>\n",
       "  </tbody>\n",
       "</table>\n",
       "</div>"
      ],
      "text/plain": [
       "                name  num_units  style  tier_current  tier_total\n",
       "0     TFT11_Altruist          1      0             0           3\n",
       "1      TFT11_Bruiser          4      2             2           4\n",
       "2   TFT11_Dragonlord          1      0             0           4\n",
       "3      TFT11_Fortune          1      0             0           3\n",
       "4      TFT11_Ghostly          1      0             0           4\n",
       "5    TFT11_InkShadow          2      0             0           3\n",
       "6       TFT11_Lovers          1      5             1           1\n",
       "7  TFT11_Storyweaver          3      1             1           4\n",
       "8    TFT11_Trickshot          4      3             2           2\n",
       "9       TFT11_Umbral          1      0             0           4"
      ]
     },
     "execution_count": 21,
     "metadata": {},
     "output_type": "execute_result"
    }
   ],
   "source": [
    "# 게임 참가자 중 첫번째 유저가 활성화한 시너지의 정보 조회\n",
    "\n",
    "random_first_user_trait = pd.DataFrame(participants.loc[0, 'traits'])\n",
    "\n",
    "random_first_user_trait # num_units 는 유닛수, tier_current / tier_total 총 몇단계까지 있는 시너지에서 현재 몇단계까지 켰는지"
   ]
  },
  {
   "cell_type": "code",
   "execution_count": 22,
   "metadata": {},
   "outputs": [
    {
     "data": {
      "text/html": [
       "<div>\n",
       "<style scoped>\n",
       "    .dataframe tbody tr th:only-of-type {\n",
       "        vertical-align: middle;\n",
       "    }\n",
       "\n",
       "    .dataframe tbody tr th {\n",
       "        vertical-align: top;\n",
       "    }\n",
       "\n",
       "    .dataframe thead th {\n",
       "        text-align: right;\n",
       "    }\n",
       "</style>\n",
       "<table border=\"1\" class=\"dataframe\">\n",
       "  <thead>\n",
       "    <tr style=\"text-align: right;\">\n",
       "      <th></th>\n",
       "      <th>character_id</th>\n",
       "      <th>itemNames</th>\n",
       "      <th>name</th>\n",
       "      <th>rarity</th>\n",
       "      <th>tier</th>\n",
       "    </tr>\n",
       "  </thead>\n",
       "  <tbody>\n",
       "    <tr>\n",
       "      <th>0</th>\n",
       "      <td>TFT11_Sivir</td>\n",
       "      <td>[]</td>\n",
       "      <td></td>\n",
       "      <td>0</td>\n",
       "      <td>2</td>\n",
       "    </tr>\n",
       "    <tr>\n",
       "      <th>1</th>\n",
       "      <td>TFT11_Aatrox</td>\n",
       "      <td>[]</td>\n",
       "      <td></td>\n",
       "      <td>1</td>\n",
       "      <td>2</td>\n",
       "    </tr>\n",
       "    <tr>\n",
       "      <th>2</th>\n",
       "      <td>TFT11_Riven</td>\n",
       "      <td>[]</td>\n",
       "      <td></td>\n",
       "      <td>1</td>\n",
       "      <td>2</td>\n",
       "    </tr>\n",
       "    <tr>\n",
       "      <th>3</th>\n",
       "      <td>TFT11_Teemo</td>\n",
       "      <td>[]</td>\n",
       "      <td></td>\n",
       "      <td>1</td>\n",
       "      <td>2</td>\n",
       "    </tr>\n",
       "    <tr>\n",
       "      <th>4</th>\n",
       "      <td>TFT11_Galio</td>\n",
       "      <td>[TFT_Item_WarmogsArmor, TFT_Item_GargoyleStoneplate]</td>\n",
       "      <td></td>\n",
       "      <td>4</td>\n",
       "      <td>1</td>\n",
       "    </tr>\n",
       "    <tr>\n",
       "      <th>5</th>\n",
       "      <td>TFT11_Kaisa</td>\n",
       "      <td>[TFT_Item_GuinsoosRageblade, TFT_Item_InfinityEdge]</td>\n",
       "      <td></td>\n",
       "      <td>4</td>\n",
       "      <td>2</td>\n",
       "    </tr>\n",
       "    <tr>\n",
       "      <th>6</th>\n",
       "      <td>TFT11_Sylas</td>\n",
       "      <td>[TFT_Item_Bloodthirster, TFT_Item_TitansResolve, TFT_Item_TitansResolve]</td>\n",
       "      <td></td>\n",
       "      <td>4</td>\n",
       "      <td>2</td>\n",
       "    </tr>\n",
       "    <tr>\n",
       "      <th>7</th>\n",
       "      <td>TFT11_Xayah</td>\n",
       "      <td>[]</td>\n",
       "      <td></td>\n",
       "      <td>6</td>\n",
       "      <td>1</td>\n",
       "    </tr>\n",
       "    <tr>\n",
       "      <th>8</th>\n",
       "      <td>TFT11_Kayle</td>\n",
       "      <td>[TFT11_Storyweaver3_Support]</td>\n",
       "      <td></td>\n",
       "      <td>9</td>\n",
       "      <td>1</td>\n",
       "    </tr>\n",
       "  </tbody>\n",
       "</table>\n",
       "</div>"
      ],
      "text/plain": [
       "   character_id  \\\n",
       "0   TFT11_Sivir   \n",
       "1  TFT11_Aatrox   \n",
       "2   TFT11_Riven   \n",
       "3   TFT11_Teemo   \n",
       "4   TFT11_Galio   \n",
       "5   TFT11_Kaisa   \n",
       "6   TFT11_Sylas   \n",
       "7   TFT11_Xayah   \n",
       "8   TFT11_Kayle   \n",
       "\n",
       "                                                                  itemNames  \\\n",
       "0                                                                        []   \n",
       "1                                                                        []   \n",
       "2                                                                        []   \n",
       "3                                                                        []   \n",
       "4                      [TFT_Item_WarmogsArmor, TFT_Item_GargoyleStoneplate]   \n",
       "5                       [TFT_Item_GuinsoosRageblade, TFT_Item_InfinityEdge]   \n",
       "6  [TFT_Item_Bloodthirster, TFT_Item_TitansResolve, TFT_Item_TitansResolve]   \n",
       "7                                                                        []   \n",
       "8                                              [TFT11_Storyweaver3_Support]   \n",
       "\n",
       "  name  rarity  tier  \n",
       "0            0     2  \n",
       "1            1     2  \n",
       "2            1     2  \n",
       "3            1     2  \n",
       "4            4     1  \n",
       "5            4     2  \n",
       "6            4     2  \n",
       "7            6     1  \n",
       "8            9     1  "
      ]
     },
     "execution_count": 22,
     "metadata": {},
     "output_type": "execute_result"
    }
   ],
   "source": [
    "# 첫번쨰 유저가 게임 종료시 가지고 있던 유닛 조회\n",
    "\n",
    "random_first_user_unit = pd.DataFrame(participants.loc[0, 'units'])\n",
    "\n",
    "random_first_user_unit # 캐릭터에게 준 아이템과 몇성인지 조회 가능 / rarity 는 희귀도로 코스트와는 다른값"
   ]
  }
 ],
 "metadata": {
  "kernelspec": {
   "display_name": "Python 3",
   "language": "python",
   "name": "python3"
  },
  "language_info": {
   "codemirror_mode": {
    "name": "ipython",
    "version": 3
   },
   "file_extension": ".py",
   "mimetype": "text/x-python",
   "name": "python",
   "nbconvert_exporter": "python",
   "pygments_lexer": "ipython3",
   "version": "3.8.6"
  }
 },
 "nbformat": 4,
 "nbformat_minor": 2
}
