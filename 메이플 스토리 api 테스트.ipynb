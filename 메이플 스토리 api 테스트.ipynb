{
 "cells": [
  {
   "cell_type": "markdown",
   "metadata": {},
   "source": [
    "#### 가이드 라인에 따라서 넥슨 open api 조회 테스트"
   ]
  },
  {
   "cell_type": "code",
   "execution_count": null,
   "metadata": {},
   "outputs": [],
   "source": [
    "## 넥슨 API 키 : test_3b341b04580056706630a7005aa630353dc098849203dc369a4dcd875acf97c7c5c4379a7a07b52f361ffef5fab87a55\n",
    "## 던파 API 키 : ZWBQ5Hcf27Dz494NprIOqSpXUZqubuLG\n",
    "## 라이엇 API 키 : RGAPI-51594ed7-aa70-4a72-b8bf-314c7f733d71"
   ]
  },
  {
   "cell_type": "code",
   "execution_count": 1,
   "metadata": {},
   "outputs": [
    {
     "name": "stdout",
     "output_type": "stream",
     "text": [
      "{'error': {'name': 'OPENAPI00002', 'message': 'Access Denied'}}\n"
     ]
    }
   ],
   "source": [
    "import requests\n",
    "\n",
    "headers = {\n",
    "    \"x-nxopen-api-key\": \"test_3b341b04580056706630a7005aa630353dc098849203dc369a4dcd875acf97c7c5c4379a7a07b52f361ffef5fab87a55\"\n",
    "}\n",
    "  \n",
    "characterName = \"오지환\"\n",
    "urlString = \"https://open.api.nexon.com/maplestory/v1/id\" + characterName\n",
    "response = requests.get(urlString, headers = headers)\n",
    "  \n",
    "print(response.json())"
   ]
  }
 ],
 "metadata": {
  "kernelspec": {
   "display_name": "Python 3",
   "language": "python",
   "name": "python3"
  },
  "language_info": {
   "codemirror_mode": {
    "name": "ipython",
    "version": 3
   },
   "file_extension": ".py",
   "mimetype": "text/x-python",
   "name": "python",
   "nbconvert_exporter": "python",
   "pygments_lexer": "ipython3",
   "version": "3.8.6"
  }
 },
 "nbformat": 4,
 "nbformat_minor": 2
}
