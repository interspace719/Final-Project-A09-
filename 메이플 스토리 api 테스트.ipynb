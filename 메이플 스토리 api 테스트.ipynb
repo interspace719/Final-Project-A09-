{
 "cells": [
  {
   "cell_type": "markdown",
   "metadata": {},
   "source": [
    "#### 가이드 라인에 따라서 넥슨 open api 조회 테스트"
   ]
  },
  {
   "cell_type": "code",
   "execution_count": null,
   "metadata": {},
   "outputs": [],
   "source": [
    "## 넥슨 API 키 : test_3b341b04580056706630a7005aa630353dc098849203dc369a4dcd875acf97c7c5c4379a7a07b52f361ffef5fab87a55\n",
    "## 던파 API 키 : ZWBQ5Hcf27Dz494NprIOqSpXUZqubuLG\n",
    "## 라이엇 API 키 : RGAPI-51594ed7-aa70-4a72-b8bf-314c7f733d71"
   ]
  },
  {
   "cell_type": "code",
   "execution_count": 14,
   "metadata": {},
   "outputs": [
    {
     "name": "stdout",
     "output_type": "stream",
     "text": [
      "{'error': {'name': 'OPENAPI00002', 'message': 'Access Denied'}}\n"
     ]
    }
   ],
   "source": [
    "import requests\n",
    "\n",
    "headers = {\n",
    "    \"x-nxopen-api-key\": \"test_3b341b04580056706630a7005aa630353dc098849203dc369a4dcd875acf97c7c5c4379a7a07b52f361ffef5fab87a55\"\n",
    "}\n",
    "  \n",
    "characterName = \"오지환\"\n",
    "urlString = \"https://open.api.nexon.com/maplestory/v1/id\" + characterName\n",
    "response = requests.get(urlString, headers = headers)\n",
    "  \n",
    "print(response.json())"
   ]
  },
  {
   "cell_type": "code",
   "execution_count": 22,
   "metadata": {},
   "outputs": [
    {
     "name": "stdout",
     "output_type": "stream",
     "text": [
      "{'ocid': 'b721776c4817ce367ff25d8f29e2c84a'}\n"
     ]
    }
   ],
   "source": [
    "import requests\n",
    "\n",
    "headers = {\n",
    "    \"x-nxopen-api-key\": \"test_3b341b04580056706630a7005aa630353dc098849203dc369a4dcd875acf97c7c5c4379a7a07b52f361ffef5fab87a55\"\n",
    "  }\n",
    "  \n",
    "characterName = \"아델\"\n",
    "urlString = \"https://open.api.nexon.com/maplestory/v1/id?character_name=%EC%95%84%EB%8D%B8\" + characterName\n",
    "response = requests.get(urlString, headers = headers)\n",
    "  \n",
    "print(response.json())"
   ]
  },
  {
   "cell_type": "code",
   "execution_count": 18,
   "metadata": {},
   "outputs": [
    {
     "name": "stdout",
     "output_type": "stream",
     "text": [
      "{'error': {'name': 'OPENAPI00004', 'message': 'Please input valid parameter'}}\n"
     ]
    }
   ],
   "source": [
    "import requests\n",
    "\n",
    "headers = {\n",
    "    \"x-nxopen-api-key\": \"test_3b341b04580056706630a7005aa630353dc098849203dc369a4dcd875acf97c7c5c4379a7a07b52f361ffef5fab87a55\"\n",
    "}\n",
    "\n",
    "characterName = \"get_all_characters\"\n",
    "urlString = \"https://open.api.nexon.com/maplestory/v1/id\"\n",
    "response = requests.get(urlString, headers=headers)\n",
    "\n",
    "print(response.json())"
   ]
  },
  {
   "cell_type": "code",
   "execution_count": 20,
   "metadata": {},
   "outputs": [
    {
     "ename": "KeyError",
     "evalue": "'puuid'",
     "output_type": "error",
     "traceback": [
      "\u001b[1;31m---------------------------------------------------------------------------\u001b[0m",
      "\u001b[1;31mKeyError\u001b[0m                                  Traceback (most recent call last)",
      "Cell \u001b[1;32mIn[20], line 14\u001b[0m\n\u001b[0;32m     12\u001b[0m r \u001b[38;5;241m=\u001b[39m requests\u001b[38;5;241m.\u001b[39mget(url)\n\u001b[0;32m     13\u001b[0m r \u001b[38;5;241m=\u001b[39m r\u001b[38;5;241m.\u001b[39mjson()\n\u001b[1;32m---> 14\u001b[0m puuid \u001b[38;5;241m=\u001b[39m \u001b[43mr\u001b[49m\u001b[43m[\u001b[49m\u001b[38;5;124;43m'\u001b[39;49m\u001b[38;5;124;43mpuuid\u001b[39;49m\u001b[38;5;124;43m'\u001b[39;49m\u001b[43m]\u001b[49m \u001b[38;5;66;03m# 해당 유저의 puuid 값 가져오기\u001b[39;00m\n\u001b[0;32m     16\u001b[0m \u001b[38;5;66;03m# 랭크 n경기 매치아이디 가져오기\u001b[39;00m\n\u001b[0;32m     17\u001b[0m n \u001b[38;5;241m=\u001b[39m \u001b[38;5;28mstr\u001b[39m(\u001b[38;5;241m10\u001b[39m)\n",
      "\u001b[1;31mKeyError\u001b[0m: 'puuid'"
     ]
    }
   ],
   "source": [
    "import pandas as pd\n",
    "import requests\n",
    "from urllib import parse\n",
    "\n",
    "apiKey = 'RGAPI-51594ed7-aa70-4a72-b8bf-314c7f733d71'\n",
    "username = '엉덩이요리사요한' # 유저아이디\n",
    "champ = 'Udyr' # 원하는 챔프(머신러닝결과값)\n",
    "\n",
    "id = parse.quote(username) # 아이디를 URL 인코딩\n",
    "\n",
    "url = 'https://kr.api.riotgames.com/lol/summoner/v4/summoners/by-name/' + id +'?api_key=' + apiKey #puuid값을 가져오기 위한 주소\n",
    "r = requests.get(url)\n",
    "r = r.json()\n",
    "puuid = r['puuid'] # 해당 유저의 puuid 값 가져오기\n",
    "\n",
    "# 랭크 n경기 매치아이디 가져오기\n",
    "n = str(10)\n",
    "rankUrl = 'https://asia.api.riotgames.com/lol/match/v5/matches/by-puuid/' + puuid + '/ids?queue=420&type=ranked&start=0&count='+n+'&api_key='+ apiKey\n",
    "r = requests.get(rankUrl)\n",
    "r = r.json()\n",
    "\n",
    "rankId = r\n",
    "print(rankId)"
   ]
  }
 ],
 "metadata": {
  "kernelspec": {
   "display_name": "Python 3",
   "language": "python",
   "name": "python3"
  },
  "language_info": {
   "codemirror_mode": {
    "name": "ipython",
    "version": 3
   },
   "file_extension": ".py",
   "mimetype": "text/x-python",
   "name": "python",
   "nbconvert_exporter": "python",
   "pygments_lexer": "ipython3",
   "version": "3.8.6"
  }
 },
 "nbformat": 4,
 "nbformat_minor": 2
}
