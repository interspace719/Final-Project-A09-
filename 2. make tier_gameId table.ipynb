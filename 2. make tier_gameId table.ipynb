{
 "cells": [
  {
   "cell_type": "code",
   "execution_count": 1,
   "metadata": {},
   "outputs": [],
   "source": [
    "import pandas as pd\n",
    "import requests\n",
    "import pprint\n",
    "import json\n",
    "import time\n",
    "from pandas import json_normalize\n",
    "\n",
    "pd.set_option('display.max_colwidth', None) ## 셀 최대 너비 제한 해제"
   ]
  },
  {
   "cell_type": "code",
   "execution_count": 2,
   "metadata": {},
   "outputs": [],
   "source": [
    "# api_key 저장\n",
    "api_key = 'RGAPI-ca44b272-60ec-4589-8980-8f28e65ca212' ## 만료되면 갱신해줘야함 거의 하루마다\n",
    "\n",
    "# request header 저장\n",
    "request_header = {\n",
    "    \"User-Agent\": \"Mozilla/5.0 (Windows NT 10.0; Win64; x64) AppleWebKit/537.36 (KHTML, like Gecko) Chrome/123.0.0.0 Safari/537.36\",\n",
    "    \"Accept-Language\": \"ko-KR,ko;q=0.9,en-US;q=0.8,en;q=0.7\",\n",
    "    \"Accept-Charset\": \"application/x-www-form-urlencoded; charset=UTF-8\",\n",
    "    \"Origin\": \"https://developer.riotgames.com\",\n",
    "    \"X-Riot-Token\": api_key \n",
    "    }\n",
    "\n",
    "# base_url 저장\n",
    "base_url = \"https://kr.api.riotgames.com/tft/\" ## 이 뒤에다가 + 로 그때그떄 필요한 URL 을 더해줄 것"
   ]
  },
  {
   "cell_type": "markdown",
   "metadata": {},
   "source": [
    "#### ranker name puuid CSV 파일의 puuid 사용해서 모든 puuid 의 최근 20게임 game id 추출, 테이블화"
   ]
  },
  {
   "cell_type": "markdown",
   "metadata": {},
   "source": [
    "##### 만들었던 csv 파일 불러와서 df 에 저장"
   ]
  },
  {
   "cell_type": "code",
   "execution_count": 3,
   "metadata": {},
   "outputs": [],
   "source": [
    "df = pd.read_csv('C:/Users/user/Documents/GitHub/Final-Project-A09-/ranker_name_puuid.csv')"
   ]
  },
  {
   "cell_type": "code",
   "execution_count": 4,
   "metadata": {},
   "outputs": [
    {
     "data": {
      "text/html": [
       "<div>\n",
       "<style scoped>\n",
       "    .dataframe tbody tr th:only-of-type {\n",
       "        vertical-align: middle;\n",
       "    }\n",
       "\n",
       "    .dataframe tbody tr th {\n",
       "        vertical-align: top;\n",
       "    }\n",
       "\n",
       "    .dataframe thead th {\n",
       "        text-align: right;\n",
       "    }\n",
       "</style>\n",
       "<table border=\"1\" class=\"dataframe\">\n",
       "  <thead>\n",
       "    <tr style=\"text-align: right;\">\n",
       "      <th></th>\n",
       "      <th>tier</th>\n",
       "      <th>summonerId</th>\n",
       "      <th>summonerName</th>\n",
       "      <th>leaguePoints</th>\n",
       "      <th>wins</th>\n",
       "      <th>losses</th>\n",
       "      <th>puuid</th>\n",
       "    </tr>\n",
       "  </thead>\n",
       "  <tbody>\n",
       "    <tr>\n",
       "      <th>0</th>\n",
       "      <td>CHALLENGER</td>\n",
       "      <td>UF2IeZC87PAxxS0F7xg6VQNADum-YqoBLfYCOAb0LdmQL7WIfnII-3Cm1Q</td>\n",
       "      <td>kscv05</td>\n",
       "      <td>525</td>\n",
       "      <td>105</td>\n",
       "      <td>57</td>\n",
       "      <td>mptEuTzeZ2MWsLxe4KfwLTr2iJp2uUphE7maw8CwGfeeFKXOVZ0_E8GccCzgNUfy0wiRJ1BGd1LOGQ</td>\n",
       "    </tr>\n",
       "    <tr>\n",
       "      <th>1</th>\n",
       "      <td>CHALLENGER</td>\n",
       "      <td>80HtOC_fs-G1sNBcJFSlZXfNcYfz6he1pHYfBpJHkBs_2TM</td>\n",
       "      <td>COPY O</td>\n",
       "      <td>764</td>\n",
       "      <td>98</td>\n",
       "      <td>45</td>\n",
       "      <td>t_Wf-ad5Drr5FzTmxmkRnsEtBNUf-7PRoTll2k8kxN23sYTKJs2VOrOjeQ418PF31x2QQ2X02RrAtw</td>\n",
       "    </tr>\n",
       "    <tr>\n",
       "      <th>2</th>\n",
       "      <td>CHALLENGER</td>\n",
       "      <td>BhJKOIvlHJRa_Ra0uNNDlrqN46i6snagNkH_p8VZR28GJA</td>\n",
       "      <td>Teukhan</td>\n",
       "      <td>586</td>\n",
       "      <td>103</td>\n",
       "      <td>65</td>\n",
       "      <td>Qd68F2UMKe7FMb-qpbUs3njG6k_4ZLwr2FRG0zHruSDr9XTtZOZ1cdAXyLd_kGAt0_IheL5QMQLdvQ</td>\n",
       "    </tr>\n",
       "    <tr>\n",
       "      <th>3</th>\n",
       "      <td>CHALLENGER</td>\n",
       "      <td>0sgFw0oa2pxGV5rZR3Fi96VY8t6500V3t3TEso8XyyKmqHhQ4xURXo5oKA</td>\n",
       "      <td>lllIlIllIlIlIllI</td>\n",
       "      <td>646</td>\n",
       "      <td>76</td>\n",
       "      <td>19</td>\n",
       "      <td>M6OtnT2Ad4fhM9Sj1fh1odtr0p4oO6rqxc6qtW_lPlrkX8wfqUm-LMYHb_SRi56T8-X0npFDIZj9GQ</td>\n",
       "    </tr>\n",
       "    <tr>\n",
       "      <th>4</th>\n",
       "      <td>CHALLENGER</td>\n",
       "      <td>xszNgAg-6vRPAVyxqeu3L9oAeiFW8OnunPj6wbAbwAq_wVw</td>\n",
       "      <td>존잘인천피스트</td>\n",
       "      <td>529</td>\n",
       "      <td>101</td>\n",
       "      <td>78</td>\n",
       "      <td>7ITuO8wSX3-KnWipQVyAnnx7y75RPmOOU2TVy42-fSya7UXdwHfioyIG7jn6owP-tkUzrPfOU7Q4RQ</td>\n",
       "    </tr>\n",
       "  </tbody>\n",
       "</table>\n",
       "</div>"
      ],
      "text/plain": [
       "         tier                                                  summonerId  \\\n",
       "0  CHALLENGER  UF2IeZC87PAxxS0F7xg6VQNADum-YqoBLfYCOAb0LdmQL7WIfnII-3Cm1Q   \n",
       "1  CHALLENGER             80HtOC_fs-G1sNBcJFSlZXfNcYfz6he1pHYfBpJHkBs_2TM   \n",
       "2  CHALLENGER              BhJKOIvlHJRa_Ra0uNNDlrqN46i6snagNkH_p8VZR28GJA   \n",
       "3  CHALLENGER  0sgFw0oa2pxGV5rZR3Fi96VY8t6500V3t3TEso8XyyKmqHhQ4xURXo5oKA   \n",
       "4  CHALLENGER             xszNgAg-6vRPAVyxqeu3L9oAeiFW8OnunPj6wbAbwAq_wVw   \n",
       "\n",
       "       summonerName  leaguePoints  wins  losses  \\\n",
       "0            kscv05           525   105      57   \n",
       "1            COPY O           764    98      45   \n",
       "2           Teukhan           586   103      65   \n",
       "3  lllIlIllIlIlIllI           646    76      19   \n",
       "4           존잘인천피스트           529   101      78   \n",
       "\n",
       "                                                                            puuid  \n",
       "0  mptEuTzeZ2MWsLxe4KfwLTr2iJp2uUphE7maw8CwGfeeFKXOVZ0_E8GccCzgNUfy0wiRJ1BGd1LOGQ  \n",
       "1  t_Wf-ad5Drr5FzTmxmkRnsEtBNUf-7PRoTll2k8kxN23sYTKJs2VOrOjeQ418PF31x2QQ2X02RrAtw  \n",
       "2  Qd68F2UMKe7FMb-qpbUs3njG6k_4ZLwr2FRG0zHruSDr9XTtZOZ1cdAXyLd_kGAt0_IheL5QMQLdvQ  \n",
       "3  M6OtnT2Ad4fhM9Sj1fh1odtr0p4oO6rqxc6qtW_lPlrkX8wfqUm-LMYHb_SRi56T8-X0npFDIZj9GQ  \n",
       "4  7ITuO8wSX3-KnWipQVyAnnx7y75RPmOOU2TVy42-fSya7UXdwHfioyIG7jn6owP-tkUzrPfOU7Q4RQ  "
      ]
     },
     "execution_count": 4,
     "metadata": {},
     "output_type": "execute_result"
    }
   ],
   "source": [
    "# 불러온 테이블 확인\n",
    "df.head()"
   ]
  },
  {
   "cell_type": "markdown",
   "metadata": {},
   "source": [
    "##### puuid 를 넣으면 최근 20게임의 game id 를 반환하는 함수 생성"
   ]
  },
  {
   "cell_type": "code",
   "execution_count": 5,
   "metadata": {},
   "outputs": [],
   "source": [
    "def get_20_gameId(puuid):\n",
    "\n",
    "    # puuid 을 넣어줄 url 저장\n",
    "    puuid_url = \"https://Asia.api.riotgames.com/tft/\" + f'match/v1/matches/by-puuid/{puuid}/ids?count=20'\n",
    "\n",
    "    # puuid 넣었을 때, 반환값 저장\n",
    "    gameId_list = requests.get(puuid_url, headers = request_header).json()\n",
    "\n",
    "    # puuid 추출\n",
    "    return gameId_list"
   ]
  },
  {
   "cell_type": "code",
   "execution_count": 6,
   "metadata": {},
   "outputs": [
    {
     "data": {
      "text/plain": [
       "['KR_7005813127', 'KR_7005746572', 'KR_7005704610']"
      ]
     },
     "execution_count": 6,
     "metadata": {},
     "output_type": "execute_result"
    }
   ],
   "source": [
    "# 함수 작동 테스트\n",
    "get_20_gameId('x5Aluxt-SEq_IUikKvH83sk0EkLXS7CP41bf66M_mBNdsiIUKYdavmHUPDKeWUBL6Ki5WwihBw2kQg')[:3]"
   ]
  },
  {
   "cell_type": "markdown",
   "metadata": {},
   "source": [
    "##### get_20_gameId 함수를 활용하여 모든 puuid 의 최근 20 게임 gameId 를 gameId 컬럼을 만들어 추가"
   ]
  },
  {
   "cell_type": "code",
   "execution_count": 7,
   "metadata": {},
   "outputs": [],
   "source": [
    "# 위에서 정의한 함수를 사용하여 모든 puuid에 대한 게임 ID 목록을 가져와서 저장할 빈 리스트 생성\n",
    "gameId_list = []\n",
    "\n",
    "# 각 행의 puuid를 함수에 넣어 게임 ID 목록을 가져와서 리스트에 추가\n",
    "for puuid in df['puuid']:\n",
    "    gameId_list.append(get_20_gameId(puuid))\n",
    "\n",
    "# 새로운 DataFrame인 gameId_df 생성하여 gameId_list를 해당 컬럼에 추가\n",
    "gameId_df = pd.DataFrame({'gameId': gameId_list})\n",
    "\n",
    "# 기존 DataFrame(df)와 gameId_df를 합쳐서 새로운 DataFrame인 final_df를 생성\n",
    "final_df = pd.concat([df, gameId_df], axis=1)"
   ]
  },
  {
   "cell_type": "code",
   "execution_count": 8,
   "metadata": {},
   "outputs": [
    {
     "data": {
      "text/html": [
       "<div>\n",
       "<style scoped>\n",
       "    .dataframe tbody tr th:only-of-type {\n",
       "        vertical-align: middle;\n",
       "    }\n",
       "\n",
       "    .dataframe tbody tr th {\n",
       "        vertical-align: top;\n",
       "    }\n",
       "\n",
       "    .dataframe thead th {\n",
       "        text-align: right;\n",
       "    }\n",
       "</style>\n",
       "<table border=\"1\" class=\"dataframe\">\n",
       "  <thead>\n",
       "    <tr style=\"text-align: right;\">\n",
       "      <th></th>\n",
       "      <th>tier</th>\n",
       "      <th>gameId</th>\n",
       "    </tr>\n",
       "  </thead>\n",
       "  <tbody>\n",
       "    <tr>\n",
       "      <th>0</th>\n",
       "      <td>CHALLENGER</td>\n",
       "      <td>[KR_7005435650, KR_7005408175, KR_7005214080, KR_7005190828, KR_7005187292, KR_7005175450, KR_7005167344, KR_7005148547, KR_7005131948, KR_7005122693, KR_7005110331, KR_7005093596, KR_7005067255, KR_7005027397, KR_7004989030, KR_7004931557, KR_7004880295, KR_7004820438, KR_7004751585, KR_7004694291]</td>\n",
       "    </tr>\n",
       "    <tr>\n",
       "      <th>1</th>\n",
       "      <td>CHALLENGER</td>\n",
       "      <td>[KR_7006600541, KR_7006271996, KR_7006062589, KR_7005983989, KR_7005920322, KR_7005856311, KR_7005778536, KR_7005711341, KR_7005647676, KR_7005342411, KR_7005316238, KR_7005277758, KR_7005257964, KR_7005082056, KR_7005050597, KR_7005019336, KR_7004918979, KR_7004857407, KR_7004772195, KR_7004707761]</td>\n",
       "    </tr>\n",
       "    <tr>\n",
       "      <th>2</th>\n",
       "      <td>CHALLENGER</td>\n",
       "      <td>[KR_7006594228, KR_7006565737, KR_7006537939, KR_7006528195, KR_7005242847, KR_7005228320, KR_7005219085, KR_7005203110, KR_7005187292, KR_7005168757, KR_7005159721, KR_7005147991, KR_7005146365, KR_7005111937, KR_7005101344, KR_7005082056, KR_7005060446, KR_7005031593, KR_7004985790, KR_7004751585]</td>\n",
       "    </tr>\n",
       "  </tbody>\n",
       "</table>\n",
       "</div>"
      ],
      "text/plain": [
       "         tier  \\\n",
       "0  CHALLENGER   \n",
       "1  CHALLENGER   \n",
       "2  CHALLENGER   \n",
       "\n",
       "                                                                                                                                                                                                                                                                                                         gameId  \n",
       "0  [KR_7005435650, KR_7005408175, KR_7005214080, KR_7005190828, KR_7005187292, KR_7005175450, KR_7005167344, KR_7005148547, KR_7005131948, KR_7005122693, KR_7005110331, KR_7005093596, KR_7005067255, KR_7005027397, KR_7004989030, KR_7004931557, KR_7004880295, KR_7004820438, KR_7004751585, KR_7004694291]  \n",
       "1  [KR_7006600541, KR_7006271996, KR_7006062589, KR_7005983989, KR_7005920322, KR_7005856311, KR_7005778536, KR_7005711341, KR_7005647676, KR_7005342411, KR_7005316238, KR_7005277758, KR_7005257964, KR_7005082056, KR_7005050597, KR_7005019336, KR_7004918979, KR_7004857407, KR_7004772195, KR_7004707761]  \n",
       "2  [KR_7006594228, KR_7006565737, KR_7006537939, KR_7006528195, KR_7005242847, KR_7005228320, KR_7005219085, KR_7005203110, KR_7005187292, KR_7005168757, KR_7005159721, KR_7005147991, KR_7005146365, KR_7005111937, KR_7005101344, KR_7005082056, KR_7005060446, KR_7005031593, KR_7004985790, KR_7004751585]  "
      ]
     },
     "execution_count": 8,
     "metadata": {},
     "output_type": "execute_result"
    }
   ],
   "source": [
    "# 티어와 게임 아이디만 남기고 모두 제거\n",
    "final_df = final_df[['tier', 'gameId']]\n",
    "\n",
    "final_df.head(3)"
   ]
  },
  {
   "cell_type": "markdown",
   "metadata": {},
   "source": [
    "##### 리스트로 되어있는 gameId 컬럼을 펼치고 중복값 제거하는 전처리 진행"
   ]
  },
  {
   "cell_type": "code",
   "execution_count": 9,
   "metadata": {},
   "outputs": [
    {
     "data": {
      "text/html": [
       "<div>\n",
       "<style scoped>\n",
       "    .dataframe tbody tr th:only-of-type {\n",
       "        vertical-align: middle;\n",
       "    }\n",
       "\n",
       "    .dataframe tbody tr th {\n",
       "        vertical-align: top;\n",
       "    }\n",
       "\n",
       "    .dataframe thead th {\n",
       "        text-align: right;\n",
       "    }\n",
       "</style>\n",
       "<table border=\"1\" class=\"dataframe\">\n",
       "  <thead>\n",
       "    <tr style=\"text-align: right;\">\n",
       "      <th></th>\n",
       "      <th>tier</th>\n",
       "      <th>gameId</th>\n",
       "    </tr>\n",
       "  </thead>\n",
       "  <tbody>\n",
       "    <tr>\n",
       "      <th>0</th>\n",
       "      <td>CHALLENGER</td>\n",
       "      <td>KR_7005435650</td>\n",
       "    </tr>\n",
       "    <tr>\n",
       "      <th>0</th>\n",
       "      <td>CHALLENGER</td>\n",
       "      <td>KR_7005408175</td>\n",
       "    </tr>\n",
       "    <tr>\n",
       "      <th>0</th>\n",
       "      <td>CHALLENGER</td>\n",
       "      <td>KR_7005214080</td>\n",
       "    </tr>\n",
       "  </tbody>\n",
       "</table>\n",
       "</div>"
      ],
      "text/plain": [
       "         tier         gameId\n",
       "0  CHALLENGER  KR_7005435650\n",
       "0  CHALLENGER  KR_7005408175\n",
       "0  CHALLENGER  KR_7005214080"
      ]
     },
     "execution_count": 9,
     "metadata": {},
     "output_type": "execute_result"
    }
   ],
   "source": [
    "# 리스트 형식으로 되어있는 gameId 컬럼 펼치기\n",
    "final_df = final_df.explode('gameId')\n",
    "\n",
    "final_df.head(3)"
   ]
  },
  {
   "cell_type": "code",
   "execution_count": 10,
   "metadata": {},
   "outputs": [
    {
     "data": {
      "text/html": [
       "<div>\n",
       "<style scoped>\n",
       "    .dataframe tbody tr th:only-of-type {\n",
       "        vertical-align: middle;\n",
       "    }\n",
       "\n",
       "    .dataframe tbody tr th {\n",
       "        vertical-align: top;\n",
       "    }\n",
       "\n",
       "    .dataframe thead th {\n",
       "        text-align: right;\n",
       "    }\n",
       "</style>\n",
       "<table border=\"1\" class=\"dataframe\">\n",
       "  <thead>\n",
       "    <tr style=\"text-align: right;\">\n",
       "      <th></th>\n",
       "      <th>tier</th>\n",
       "      <th>gameId</th>\n",
       "    </tr>\n",
       "  </thead>\n",
       "  <tbody>\n",
       "    <tr>\n",
       "      <th>0</th>\n",
       "      <td>CHALLENGER</td>\n",
       "      <td>KR_7005435650</td>\n",
       "    </tr>\n",
       "    <tr>\n",
       "      <th>0</th>\n",
       "      <td>CHALLENGER</td>\n",
       "      <td>KR_7005408175</td>\n",
       "    </tr>\n",
       "    <tr>\n",
       "      <th>0</th>\n",
       "      <td>CHALLENGER</td>\n",
       "      <td>KR_7005214080</td>\n",
       "    </tr>\n",
       "    <tr>\n",
       "      <th>0</th>\n",
       "      <td>CHALLENGER</td>\n",
       "      <td>KR_7005190828</td>\n",
       "    </tr>\n",
       "    <tr>\n",
       "      <th>0</th>\n",
       "      <td>CHALLENGER</td>\n",
       "      <td>KR_7005187292</td>\n",
       "    </tr>\n",
       "    <tr>\n",
       "      <th>...</th>\n",
       "      <td>...</td>\n",
       "      <td>...</td>\n",
       "    </tr>\n",
       "    <tr>\n",
       "      <th>137</th>\n",
       "      <td>MASTER</td>\n",
       "      <td>KR_7005390721</td>\n",
       "    </tr>\n",
       "    <tr>\n",
       "      <th>137</th>\n",
       "      <td>MASTER</td>\n",
       "      <td>KR_7005363791</td>\n",
       "    </tr>\n",
       "    <tr>\n",
       "      <th>137</th>\n",
       "      <td>MASTER</td>\n",
       "      <td>KR_7005336302</td>\n",
       "    </tr>\n",
       "    <tr>\n",
       "      <th>137</th>\n",
       "      <td>MASTER</td>\n",
       "      <td>KR_7005149778</td>\n",
       "    </tr>\n",
       "    <tr>\n",
       "      <th>137</th>\n",
       "      <td>MASTER</td>\n",
       "      <td>KR_7005139736</td>\n",
       "    </tr>\n",
       "  </tbody>\n",
       "</table>\n",
       "<p>1161 rows × 2 columns</p>\n",
       "</div>"
      ],
      "text/plain": [
       "           tier         gameId\n",
       "0    CHALLENGER  KR_7005435650\n",
       "0    CHALLENGER  KR_7005408175\n",
       "0    CHALLENGER  KR_7005214080\n",
       "0    CHALLENGER  KR_7005190828\n",
       "0    CHALLENGER  KR_7005187292\n",
       "..          ...            ...\n",
       "137      MASTER  KR_7005390721\n",
       "137      MASTER  KR_7005363791\n",
       "137      MASTER  KR_7005336302\n",
       "137      MASTER  KR_7005149778\n",
       "137      MASTER  KR_7005139736\n",
       "\n",
       "[1161 rows x 2 columns]"
      ]
     },
     "execution_count": 10,
     "metadata": {},
     "output_type": "execute_result"
    }
   ],
   "source": [
    "# gameId 컬럼 값이 중복된 데이터 제거\n",
    "final_df = final_df.drop_duplicates(subset=['gameId'])\n",
    "\n",
    "final_df"
   ]
  },
  {
   "cell_type": "markdown",
   "metadata": {},
   "source": [
    "##### 전처리 완료한 테이블을 csv 파일로 저장"
   ]
  },
  {
   "cell_type": "code",
   "execution_count": 11,
   "metadata": {},
   "outputs": [],
   "source": [
    "final_df.to_csv('tier_and_gameId.csv', index=False)"
   ]
  },
  {
   "cell_type": "code",
   "execution_count": 12,
   "metadata": {},
   "outputs": [
    {
     "data": {
      "text/html": [
       "<div>\n",
       "<style scoped>\n",
       "    .dataframe tbody tr th:only-of-type {\n",
       "        vertical-align: middle;\n",
       "    }\n",
       "\n",
       "    .dataframe tbody tr th {\n",
       "        vertical-align: top;\n",
       "    }\n",
       "\n",
       "    .dataframe thead th {\n",
       "        text-align: right;\n",
       "    }\n",
       "</style>\n",
       "<table border=\"1\" class=\"dataframe\">\n",
       "  <thead>\n",
       "    <tr style=\"text-align: right;\">\n",
       "      <th></th>\n",
       "      <th>tier</th>\n",
       "      <th>gameId</th>\n",
       "    </tr>\n",
       "  </thead>\n",
       "  <tbody>\n",
       "    <tr>\n",
       "      <th>0</th>\n",
       "      <td>CHALLENGER</td>\n",
       "      <td>KR_7005435650</td>\n",
       "    </tr>\n",
       "    <tr>\n",
       "      <th>1</th>\n",
       "      <td>CHALLENGER</td>\n",
       "      <td>KR_7005408175</td>\n",
       "    </tr>\n",
       "    <tr>\n",
       "      <th>2</th>\n",
       "      <td>CHALLENGER</td>\n",
       "      <td>KR_7005214080</td>\n",
       "    </tr>\n",
       "    <tr>\n",
       "      <th>3</th>\n",
       "      <td>CHALLENGER</td>\n",
       "      <td>KR_7005190828</td>\n",
       "    </tr>\n",
       "    <tr>\n",
       "      <th>4</th>\n",
       "      <td>CHALLENGER</td>\n",
       "      <td>KR_7005187292</td>\n",
       "    </tr>\n",
       "    <tr>\n",
       "      <th>...</th>\n",
       "      <td>...</td>\n",
       "      <td>...</td>\n",
       "    </tr>\n",
       "    <tr>\n",
       "      <th>188</th>\n",
       "      <td>GRANDMASTER</td>\n",
       "      <td>KR_7005589355</td>\n",
       "    </tr>\n",
       "    <tr>\n",
       "      <th>189</th>\n",
       "      <td>GRANDMASTER</td>\n",
       "      <td>KR_7005409746</td>\n",
       "    </tr>\n",
       "    <tr>\n",
       "      <th>190</th>\n",
       "      <td>GRANDMASTER</td>\n",
       "      <td>KR_7005386147</td>\n",
       "    </tr>\n",
       "    <tr>\n",
       "      <th>191</th>\n",
       "      <td>GRANDMASTER</td>\n",
       "      <td>KR_7006345297</td>\n",
       "    </tr>\n",
       "    <tr>\n",
       "      <th>192</th>\n",
       "      <td>GRANDMASTER</td>\n",
       "      <td>KR_7006286349</td>\n",
       "    </tr>\n",
       "  </tbody>\n",
       "</table>\n",
       "<p>193 rows × 2 columns</p>\n",
       "</div>"
      ],
      "text/plain": [
       "            tier         gameId\n",
       "0     CHALLENGER  KR_7005435650\n",
       "1     CHALLENGER  KR_7005408175\n",
       "2     CHALLENGER  KR_7005214080\n",
       "3     CHALLENGER  KR_7005190828\n",
       "4     CHALLENGER  KR_7005187292\n",
       "..           ...            ...\n",
       "188  GRANDMASTER  KR_7005589355\n",
       "189  GRANDMASTER  KR_7005409746\n",
       "190  GRANDMASTER  KR_7005386147\n",
       "191  GRANDMASTER  KR_7006345297\n",
       "192  GRANDMASTER  KR_7006286349\n",
       "\n",
       "[193 rows x 2 columns]"
      ]
     },
     "execution_count": 12,
     "metadata": {},
     "output_type": "execute_result"
    }
   ],
   "source": [
    "# 저장한 테이블 확인 (그랜드 마스터와 마스터가 섞여있는 큐는 그랜드 마스터 큐로 처리)\n",
    "pd.read_csv('C:/Users/user/Documents/GitHub/Final-Project-A09-/tier_and_gameId.csv').head(193) ## 약 3분 1이 그마 큐"
   ]
  }
 ],
 "metadata": {
  "kernelspec": {
   "display_name": "Python 3",
   "language": "python",
   "name": "python3"
  },
  "language_info": {
   "codemirror_mode": {
    "name": "ipython",
    "version": 3
   },
   "file_extension": ".py",
   "mimetype": "text/x-python",
   "name": "python",
   "nbconvert_exporter": "python",
   "pygments_lexer": "ipython3",
   "version": "3.8.6"
  }
 },
 "nbformat": 4,
 "nbformat_minor": 2
}
