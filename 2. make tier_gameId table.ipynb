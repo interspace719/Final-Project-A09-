{
 "cells": [
  {
   "cell_type": "code",
   "execution_count": 1,
   "metadata": {},
   "outputs": [],
   "source": [
    "import pandas as pd\n",
    "import requests\n",
    "import pprint\n",
    "import json\n",
    "import time\n",
    "from pandas import json_normalize\n",
    "\n",
    "pd.set_option('display.max_colwidth', None) ## 셀 최대 너비 제한 해제"
   ]
  },
  {
   "cell_type": "code",
   "execution_count": 2,
   "metadata": {},
   "outputs": [],
   "source": [
    "# api_key 저장\n",
    "api_key = 'RGAPI-b2bd2659-5fb4-4be0-821a-e3af369cc138' ## 만료되면 갱신해줘야함 거의 하루마다\n",
    "\n",
    "# request header 저장\n",
    "request_header = {\n",
    "    \"User-Agent\": \"Mozilla/5.0 (Windows NT 10.0; Win64; x64) AppleWebKit/537.36 (KHTML, like Gecko) Chrome/123.0.0.0 Safari/537.36\",\n",
    "    \"Accept-Language\": \"ko-KR,ko;q=0.9,en-US;q=0.8,en;q=0.7\",\n",
    "    \"Accept-Charset\": \"application/x-www-form-urlencoded; charset=UTF-8\",\n",
    "    \"Origin\": \"https://developer.riotgames.com\",\n",
    "    \"X-Riot-Token\": api_key \n",
    "    }\n",
    "\n",
    "# base_url 저장\n",
    "base_url = \"https://kr.api.riotgames.com/tft/\" ## 이 뒤에다가 + 로 그때그떄 필요한 URL 을 더해줄 것"
   ]
  },
  {
   "cell_type": "markdown",
   "metadata": {},
   "source": [
    "#### ranker name puuid CSV 파일의 puuid 사용해서 모든 puuid 의 최근 20게임 game id 추출, 테이블화"
   ]
  },
  {
   "cell_type": "markdown",
   "metadata": {},
   "source": [
    "##### 만들었던 csv 파일 불러와서 df 에 저장"
   ]
  },
  {
   "cell_type": "code",
   "execution_count": 3,
   "metadata": {},
   "outputs": [],
   "source": [
    "df = pd.read_csv('C:/Users/user/Documents/GitHub/Final-Project-A09-/ranker_name_puuid.csv')"
   ]
  },
  {
   "cell_type": "code",
   "execution_count": 4,
   "metadata": {},
   "outputs": [
    {
     "data": {
      "text/html": [
       "<div>\n",
       "<style scoped>\n",
       "    .dataframe tbody tr th:only-of-type {\n",
       "        vertical-align: middle;\n",
       "    }\n",
       "\n",
       "    .dataframe tbody tr th {\n",
       "        vertical-align: top;\n",
       "    }\n",
       "\n",
       "    .dataframe thead th {\n",
       "        text-align: right;\n",
       "    }\n",
       "</style>\n",
       "<table border=\"1\" class=\"dataframe\">\n",
       "  <thead>\n",
       "    <tr style=\"text-align: right;\">\n",
       "      <th></th>\n",
       "      <th>tier</th>\n",
       "      <th>summonerId</th>\n",
       "      <th>summonerName</th>\n",
       "      <th>leaguePoints</th>\n",
       "      <th>wins</th>\n",
       "      <th>losses</th>\n",
       "      <th>puuid</th>\n",
       "    </tr>\n",
       "  </thead>\n",
       "  <tbody>\n",
       "    <tr>\n",
       "      <th>0</th>\n",
       "      <td>GRANDMASTER</td>\n",
       "      <td>9sxIws6CI6fmK2sw2cAo_Xe8E82DNcR9XtHkWKC6W14SK2w</td>\n",
       "      <td>틈 빈</td>\n",
       "      <td>265</td>\n",
       "      <td>51</td>\n",
       "      <td>10</td>\n",
       "      <td>x5Aluxt-SEq_IUikKvH83sk0EkLXS7CP41bf66M_mBNdsiIUKYdavmHUPDKeWUBL6Ki5WwihBw2kQg</td>\n",
       "    </tr>\n",
       "    <tr>\n",
       "      <th>1</th>\n",
       "      <td>GRANDMASTER</td>\n",
       "      <td>BhJKOIvlHJRa_Ra0uNNDlrqN46i6snagNkH_p8VZR28GJA</td>\n",
       "      <td>Teukhan</td>\n",
       "      <td>327</td>\n",
       "      <td>84</td>\n",
       "      <td>55</td>\n",
       "      <td>Qd68F2UMKe7FMb-qpbUs3njG6k_4ZLwr2FRG0zHruSDr9XTtZOZ1cdAXyLd_kGAt0_IheL5QMQLdvQ</td>\n",
       "    </tr>\n",
       "    <tr>\n",
       "      <th>2</th>\n",
       "      <td>GRANDMASTER</td>\n",
       "      <td>80HtOC_fs-G1sNBcJFSlZXfNcYfz6he1pHYfBpJHkBs_2TM</td>\n",
       "      <td>COPY O</td>\n",
       "      <td>449</td>\n",
       "      <td>81</td>\n",
       "      <td>38</td>\n",
       "      <td>t_Wf-ad5Drr5FzTmxmkRnsEtBNUf-7PRoTll2k8kxN23sYTKJs2VOrOjeQ418PF31x2QQ2X02RrAtw</td>\n",
       "    </tr>\n",
       "    <tr>\n",
       "      <th>3</th>\n",
       "      <td>GRANDMASTER</td>\n",
       "      <td>pNUDUaztjVI1G7Jzoh4aVDMGr_8nDd0sMVeuWOvzwNMC6vB5</td>\n",
       "      <td>MessiOfTFT</td>\n",
       "      <td>394</td>\n",
       "      <td>86</td>\n",
       "      <td>53</td>\n",
       "      <td>4_-cZaXUQM6l7UQGnB69F9007HRO3dyTdKP-7_u0utPCg6YeZCBKMOZvoLFUdNyDa78Y7RBVqBXcGQ</td>\n",
       "    </tr>\n",
       "    <tr>\n",
       "      <th>4</th>\n",
       "      <td>GRANDMASTER</td>\n",
       "      <td>VVpwkqbuN3VVwG378diAEHea6jFrq1ADYBQAEstZizthf7k</td>\n",
       "      <td>이렇게 좋은 날</td>\n",
       "      <td>321</td>\n",
       "      <td>94</td>\n",
       "      <td>51</td>\n",
       "      <td>rx1nmyxEddDyQujL2nvjfiHV_LDcBEo-zyf16l3BFnXQExOMoB6tNss-WGlc_GRgcac2tg1GhDgBhg</td>\n",
       "    </tr>\n",
       "  </tbody>\n",
       "</table>\n",
       "</div>"
      ],
      "text/plain": [
       "          tier                                        summonerId summonerName  \\\n",
       "0  GRANDMASTER   9sxIws6CI6fmK2sw2cAo_Xe8E82DNcR9XtHkWKC6W14SK2w          틈 빈   \n",
       "1  GRANDMASTER    BhJKOIvlHJRa_Ra0uNNDlrqN46i6snagNkH_p8VZR28GJA      Teukhan   \n",
       "2  GRANDMASTER   80HtOC_fs-G1sNBcJFSlZXfNcYfz6he1pHYfBpJHkBs_2TM       COPY O   \n",
       "3  GRANDMASTER  pNUDUaztjVI1G7Jzoh4aVDMGr_8nDd0sMVeuWOvzwNMC6vB5   MessiOfTFT   \n",
       "4  GRANDMASTER   VVpwkqbuN3VVwG378diAEHea6jFrq1ADYBQAEstZizthf7k     이렇게 좋은 날   \n",
       "\n",
       "   leaguePoints  wins  losses  \\\n",
       "0           265    51      10   \n",
       "1           327    84      55   \n",
       "2           449    81      38   \n",
       "3           394    86      53   \n",
       "4           321    94      51   \n",
       "\n",
       "                                                                            puuid  \n",
       "0  x5Aluxt-SEq_IUikKvH83sk0EkLXS7CP41bf66M_mBNdsiIUKYdavmHUPDKeWUBL6Ki5WwihBw2kQg  \n",
       "1  Qd68F2UMKe7FMb-qpbUs3njG6k_4ZLwr2FRG0zHruSDr9XTtZOZ1cdAXyLd_kGAt0_IheL5QMQLdvQ  \n",
       "2  t_Wf-ad5Drr5FzTmxmkRnsEtBNUf-7PRoTll2k8kxN23sYTKJs2VOrOjeQ418PF31x2QQ2X02RrAtw  \n",
       "3  4_-cZaXUQM6l7UQGnB69F9007HRO3dyTdKP-7_u0utPCg6YeZCBKMOZvoLFUdNyDa78Y7RBVqBXcGQ  \n",
       "4  rx1nmyxEddDyQujL2nvjfiHV_LDcBEo-zyf16l3BFnXQExOMoB6tNss-WGlc_GRgcac2tg1GhDgBhg  "
      ]
     },
     "execution_count": 4,
     "metadata": {},
     "output_type": "execute_result"
    }
   ],
   "source": [
    "# 불러온 테이블 확인\n",
    "df.head()"
   ]
  },
  {
   "cell_type": "markdown",
   "metadata": {},
   "source": [
    "##### puuid 를 넣으면 최근 20게임의 game id 를 반환하는 함수 생성"
   ]
  },
  {
   "cell_type": "code",
   "execution_count": 7,
   "metadata": {},
   "outputs": [],
   "source": [
    "def get_20_gameId(puuid):\n",
    "\n",
    "    # puuid 을 넣어줄 url 저장\n",
    "    puuid_url = \"https://Asia.api.riotgames.com/tft/\" + f'match/v1/matches/by-puuid/{puuid}/ids?count=20'\n",
    "\n",
    "    # puuid 넣었을 때, 반환값 저장\n",
    "    gameId_list = requests.get(puuid_url, headers = request_header).json()\n",
    "\n",
    "    # puuid 추출\n",
    "    return gameId_list"
   ]
  },
  {
   "cell_type": "code",
   "execution_count": 9,
   "metadata": {},
   "outputs": [
    {
     "data": {
      "text/plain": [
       "['KR_7004319615', 'KR_7004261207', 'KR_7004219924']"
      ]
     },
     "execution_count": 9,
     "metadata": {},
     "output_type": "execute_result"
    }
   ],
   "source": [
    "# 함수 작동 테스트\n",
    "get_20_gameId('x5Aluxt-SEq_IUikKvH83sk0EkLXS7CP41bf66M_mBNdsiIUKYdavmHUPDKeWUBL6Ki5WwihBw2kQg')[:3]"
   ]
  },
  {
   "cell_type": "markdown",
   "metadata": {},
   "source": [
    "##### get_20_gameId 함수를 활용하여 모든 puuid 의 최근 20 게임 gameId 를 gameId 컬럼을 만들어 추가"
   ]
  },
  {
   "cell_type": "code",
   "execution_count": 18,
   "metadata": {},
   "outputs": [],
   "source": [
    "# 위에서 정의한 함수를 사용하여 모든 puuid에 대한 게임 ID 목록을 가져와서 저장할 빈 리스트 생성\n",
    "gameId_list = []\n",
    "\n",
    "# 각 행의 puuid를 함수에 넣어 게임 ID 목록을 가져와서 리스트에 추가\n",
    "for puuid in df['puuid']:\n",
    "    gameId_list.append(get_20_gameId(puuid))\n",
    "\n",
    "# 새로운 DataFrame인 gameId_df 생성하여 gameId_list를 해당 컬럼에 추가\n",
    "gameId_df = pd.DataFrame({'gameId': gameId_list})\n",
    "\n",
    "# 기존 DataFrame(df)와 gameId_df를 합쳐서 새로운 DataFrame인 final_df를 생성\n",
    "final_df = pd.concat([df, gameId_df], axis=1)"
   ]
  },
  {
   "cell_type": "code",
   "execution_count": 23,
   "metadata": {},
   "outputs": [
    {
     "data": {
      "text/html": [
       "<div>\n",
       "<style scoped>\n",
       "    .dataframe tbody tr th:only-of-type {\n",
       "        vertical-align: middle;\n",
       "    }\n",
       "\n",
       "    .dataframe tbody tr th {\n",
       "        vertical-align: top;\n",
       "    }\n",
       "\n",
       "    .dataframe thead th {\n",
       "        text-align: right;\n",
       "    }\n",
       "</style>\n",
       "<table border=\"1\" class=\"dataframe\">\n",
       "  <thead>\n",
       "    <tr style=\"text-align: right;\">\n",
       "      <th></th>\n",
       "      <th>tier</th>\n",
       "      <th>gameId</th>\n",
       "    </tr>\n",
       "  </thead>\n",
       "  <tbody>\n",
       "    <tr>\n",
       "      <th>0</th>\n",
       "      <td>GRANDMASTER</td>\n",
       "      <td>[KR_7004319615, KR_7004261207, KR_7004219924, KR_7004190074, KR_7004154411, KR_7004122827, KR_7003522190, KR_7003361432, KR_7003275706, KR_7003237553, KR_7001954405, KR_7001896892, KR_7001313513, KR_7001194313, KR_7001093815, KR_7000981008, KR_7000872942, KR_6999713328, KR_6999585116, KR_6999504198]</td>\n",
       "    </tr>\n",
       "    <tr>\n",
       "      <th>1</th>\n",
       "      <td>GRANDMASTER</td>\n",
       "      <td>[KR_7004321824, KR_7004287689, KR_7004251524, KR_7004212474, KR_7004186118, KR_7004159176, KR_7004130377, KR_7004111529, KR_7004082764, KR_7004069029, KR_7004041888, KR_7003813446, KR_7003330060, KR_7003267522, KR_7003217445, KR_7003176559, KR_7003137106, KR_7003082954, KR_7003045687, KR_7003019623]</td>\n",
       "    </tr>\n",
       "    <tr>\n",
       "      <th>2</th>\n",
       "      <td>GRANDMASTER</td>\n",
       "      <td>[KR_7004332795, KR_7004163795, KR_7004133580, KR_7003836228, KR_7003780848, KR_7003725466, KR_7003636575, KR_7003576286, KR_7003496678, KR_7003415677, KR_7003339946, KR_7003289547, KR_7003237553, KR_7003190560, KR_7003121826, KR_7003089848, KR_7003060002, KR_7003019623, KR_7003002191, KR_7002969109]</td>\n",
       "    </tr>\n",
       "  </tbody>\n",
       "</table>\n",
       "</div>"
      ],
      "text/plain": [
       "          tier  \\\n",
       "0  GRANDMASTER   \n",
       "1  GRANDMASTER   \n",
       "2  GRANDMASTER   \n",
       "\n",
       "                                                                                                                                                                                                                                                                                                         gameId  \n",
       "0  [KR_7004319615, KR_7004261207, KR_7004219924, KR_7004190074, KR_7004154411, KR_7004122827, KR_7003522190, KR_7003361432, KR_7003275706, KR_7003237553, KR_7001954405, KR_7001896892, KR_7001313513, KR_7001194313, KR_7001093815, KR_7000981008, KR_7000872942, KR_6999713328, KR_6999585116, KR_6999504198]  \n",
       "1  [KR_7004321824, KR_7004287689, KR_7004251524, KR_7004212474, KR_7004186118, KR_7004159176, KR_7004130377, KR_7004111529, KR_7004082764, KR_7004069029, KR_7004041888, KR_7003813446, KR_7003330060, KR_7003267522, KR_7003217445, KR_7003176559, KR_7003137106, KR_7003082954, KR_7003045687, KR_7003019623]  \n",
       "2  [KR_7004332795, KR_7004163795, KR_7004133580, KR_7003836228, KR_7003780848, KR_7003725466, KR_7003636575, KR_7003576286, KR_7003496678, KR_7003415677, KR_7003339946, KR_7003289547, KR_7003237553, KR_7003190560, KR_7003121826, KR_7003089848, KR_7003060002, KR_7003019623, KR_7003002191, KR_7002969109]  "
      ]
     },
     "execution_count": 23,
     "metadata": {},
     "output_type": "execute_result"
    }
   ],
   "source": [
    "# 티어와 게임 아이디만 남기고 모두 제거\n",
    "final_df = final_df[['tier', 'gameId']]\n",
    "\n",
    "final_df.head(3)"
   ]
  },
  {
   "cell_type": "markdown",
   "metadata": {},
   "source": [
    "##### 리스트로 되어있는 gameId 컬럼을 펼치고 중복값 제거하는 전처리 진행"
   ]
  },
  {
   "cell_type": "code",
   "execution_count": 26,
   "metadata": {},
   "outputs": [
    {
     "data": {
      "text/html": [
       "<div>\n",
       "<style scoped>\n",
       "    .dataframe tbody tr th:only-of-type {\n",
       "        vertical-align: middle;\n",
       "    }\n",
       "\n",
       "    .dataframe tbody tr th {\n",
       "        vertical-align: top;\n",
       "    }\n",
       "\n",
       "    .dataframe thead th {\n",
       "        text-align: right;\n",
       "    }\n",
       "</style>\n",
       "<table border=\"1\" class=\"dataframe\">\n",
       "  <thead>\n",
       "    <tr style=\"text-align: right;\">\n",
       "      <th></th>\n",
       "      <th>tier</th>\n",
       "      <th>gameId</th>\n",
       "    </tr>\n",
       "  </thead>\n",
       "  <tbody>\n",
       "    <tr>\n",
       "      <th>0</th>\n",
       "      <td>GRANDMASTER</td>\n",
       "      <td>KR_7004319615</td>\n",
       "    </tr>\n",
       "    <tr>\n",
       "      <th>0</th>\n",
       "      <td>GRANDMASTER</td>\n",
       "      <td>KR_7004261207</td>\n",
       "    </tr>\n",
       "    <tr>\n",
       "      <th>0</th>\n",
       "      <td>GRANDMASTER</td>\n",
       "      <td>KR_7004219924</td>\n",
       "    </tr>\n",
       "  </tbody>\n",
       "</table>\n",
       "</div>"
      ],
      "text/plain": [
       "          tier         gameId\n",
       "0  GRANDMASTER  KR_7004319615\n",
       "0  GRANDMASTER  KR_7004261207\n",
       "0  GRANDMASTER  KR_7004219924"
      ]
     },
     "execution_count": 26,
     "metadata": {},
     "output_type": "execute_result"
    }
   ],
   "source": [
    "# 리스트 형식으로 되어있는 gameId 컬럼 펼치기\n",
    "final_df = final_df.explode('gameId')\n",
    "\n",
    "final_df.head(3)"
   ]
  },
  {
   "cell_type": "code",
   "execution_count": 27,
   "metadata": {},
   "outputs": [
    {
     "data": {
      "text/html": [
       "<div>\n",
       "<style scoped>\n",
       "    .dataframe tbody tr th:only-of-type {\n",
       "        vertical-align: middle;\n",
       "    }\n",
       "\n",
       "    .dataframe tbody tr th {\n",
       "        vertical-align: top;\n",
       "    }\n",
       "\n",
       "    .dataframe thead th {\n",
       "        text-align: right;\n",
       "    }\n",
       "</style>\n",
       "<table border=\"1\" class=\"dataframe\">\n",
       "  <thead>\n",
       "    <tr style=\"text-align: right;\">\n",
       "      <th></th>\n",
       "      <th>tier</th>\n",
       "      <th>gameId</th>\n",
       "    </tr>\n",
       "  </thead>\n",
       "  <tbody>\n",
       "    <tr>\n",
       "      <th>0</th>\n",
       "      <td>GRANDMASTER</td>\n",
       "      <td>KR_7004319615</td>\n",
       "    </tr>\n",
       "    <tr>\n",
       "      <th>0</th>\n",
       "      <td>GRANDMASTER</td>\n",
       "      <td>KR_7004261207</td>\n",
       "    </tr>\n",
       "    <tr>\n",
       "      <th>0</th>\n",
       "      <td>GRANDMASTER</td>\n",
       "      <td>KR_7004219924</td>\n",
       "    </tr>\n",
       "    <tr>\n",
       "      <th>0</th>\n",
       "      <td>GRANDMASTER</td>\n",
       "      <td>KR_7004190074</td>\n",
       "    </tr>\n",
       "    <tr>\n",
       "      <th>0</th>\n",
       "      <td>GRANDMASTER</td>\n",
       "      <td>KR_7004154411</td>\n",
       "    </tr>\n",
       "    <tr>\n",
       "      <th>...</th>\n",
       "      <td>...</td>\n",
       "      <td>...</td>\n",
       "    </tr>\n",
       "    <tr>\n",
       "      <th>68</th>\n",
       "      <td>MASTER</td>\n",
       "      <td>KR_7002723663</td>\n",
       "    </tr>\n",
       "    <tr>\n",
       "      <th>68</th>\n",
       "      <td>MASTER</td>\n",
       "      <td>KR_7002712573</td>\n",
       "    </tr>\n",
       "    <tr>\n",
       "      <th>68</th>\n",
       "      <td>MASTER</td>\n",
       "      <td>KR_7002704044</td>\n",
       "    </tr>\n",
       "    <tr>\n",
       "      <th>68</th>\n",
       "      <td>MASTER</td>\n",
       "      <td>KR_7002678571</td>\n",
       "    </tr>\n",
       "    <tr>\n",
       "      <th>68</th>\n",
       "      <td>MASTER</td>\n",
       "      <td>KR_7002653318</td>\n",
       "    </tr>\n",
       "  </tbody>\n",
       "</table>\n",
       "<p>589 rows × 2 columns</p>\n",
       "</div>"
      ],
      "text/plain": [
       "           tier         gameId\n",
       "0   GRANDMASTER  KR_7004319615\n",
       "0   GRANDMASTER  KR_7004261207\n",
       "0   GRANDMASTER  KR_7004219924\n",
       "0   GRANDMASTER  KR_7004190074\n",
       "0   GRANDMASTER  KR_7004154411\n",
       "..          ...            ...\n",
       "68       MASTER  KR_7002723663\n",
       "68       MASTER  KR_7002712573\n",
       "68       MASTER  KR_7002704044\n",
       "68       MASTER  KR_7002678571\n",
       "68       MASTER  KR_7002653318\n",
       "\n",
       "[589 rows x 2 columns]"
      ]
     },
     "execution_count": 27,
     "metadata": {},
     "output_type": "execute_result"
    }
   ],
   "source": [
    "# gameId 컬럼 값이 중복된 데이터 제거\n",
    "final_df = final_df.drop_duplicates(subset=['gameId'])\n",
    "\n",
    "final_df"
   ]
  },
  {
   "cell_type": "markdown",
   "metadata": {},
   "source": [
    "##### 전처리 완료한 테이블을 csv 파일로 저장"
   ]
  },
  {
   "cell_type": "code",
   "execution_count": 28,
   "metadata": {},
   "outputs": [],
   "source": [
    "final_df.to_csv('tier_and_gameId.csv', index=False)"
   ]
  },
  {
   "cell_type": "code",
   "execution_count": 37,
   "metadata": {},
   "outputs": [
    {
     "data": {
      "text/html": [
       "<div>\n",
       "<style scoped>\n",
       "    .dataframe tbody tr th:only-of-type {\n",
       "        vertical-align: middle;\n",
       "    }\n",
       "\n",
       "    .dataframe tbody tr th {\n",
       "        vertical-align: top;\n",
       "    }\n",
       "\n",
       "    .dataframe thead th {\n",
       "        text-align: right;\n",
       "    }\n",
       "</style>\n",
       "<table border=\"1\" class=\"dataframe\">\n",
       "  <thead>\n",
       "    <tr style=\"text-align: right;\">\n",
       "      <th></th>\n",
       "      <th>tier</th>\n",
       "      <th>gameId</th>\n",
       "    </tr>\n",
       "  </thead>\n",
       "  <tbody>\n",
       "    <tr>\n",
       "      <th>0</th>\n",
       "      <td>GRANDMASTER</td>\n",
       "      <td>KR_7004319615</td>\n",
       "    </tr>\n",
       "    <tr>\n",
       "      <th>1</th>\n",
       "      <td>GRANDMASTER</td>\n",
       "      <td>KR_7004261207</td>\n",
       "    </tr>\n",
       "    <tr>\n",
       "      <th>2</th>\n",
       "      <td>GRANDMASTER</td>\n",
       "      <td>KR_7004219924</td>\n",
       "    </tr>\n",
       "    <tr>\n",
       "      <th>3</th>\n",
       "      <td>GRANDMASTER</td>\n",
       "      <td>KR_7004190074</td>\n",
       "    </tr>\n",
       "    <tr>\n",
       "      <th>4</th>\n",
       "      <td>GRANDMASTER</td>\n",
       "      <td>KR_7004154411</td>\n",
       "    </tr>\n",
       "    <tr>\n",
       "      <th>...</th>\n",
       "      <td>...</td>\n",
       "      <td>...</td>\n",
       "    </tr>\n",
       "    <tr>\n",
       "      <th>188</th>\n",
       "      <td>GRANDMASTER</td>\n",
       "      <td>KR_7002604809</td>\n",
       "    </tr>\n",
       "    <tr>\n",
       "      <th>189</th>\n",
       "      <td>GRANDMASTER</td>\n",
       "      <td>KR_7002568008</td>\n",
       "    </tr>\n",
       "    <tr>\n",
       "      <th>190</th>\n",
       "      <td>GRANDMASTER</td>\n",
       "      <td>KR_7002507173</td>\n",
       "    </tr>\n",
       "    <tr>\n",
       "      <th>191</th>\n",
       "      <td>MASTER</td>\n",
       "      <td>KR_7004326801</td>\n",
       "    </tr>\n",
       "    <tr>\n",
       "      <th>192</th>\n",
       "      <td>MASTER</td>\n",
       "      <td>KR_7003976595</td>\n",
       "    </tr>\n",
       "  </tbody>\n",
       "</table>\n",
       "<p>193 rows × 2 columns</p>\n",
       "</div>"
      ],
      "text/plain": [
       "            tier         gameId\n",
       "0    GRANDMASTER  KR_7004319615\n",
       "1    GRANDMASTER  KR_7004261207\n",
       "2    GRANDMASTER  KR_7004219924\n",
       "3    GRANDMASTER  KR_7004190074\n",
       "4    GRANDMASTER  KR_7004154411\n",
       "..           ...            ...\n",
       "188  GRANDMASTER  KR_7002604809\n",
       "189  GRANDMASTER  KR_7002568008\n",
       "190  GRANDMASTER  KR_7002507173\n",
       "191       MASTER  KR_7004326801\n",
       "192       MASTER  KR_7003976595\n",
       "\n",
       "[193 rows x 2 columns]"
      ]
     },
     "execution_count": 37,
     "metadata": {},
     "output_type": "execute_result"
    }
   ],
   "source": [
    "# 저장한 테이블 확인 (그랜드 마스터와 마스터가 섞여있는 큐는 그랜드 마스터 큐로 처리)\n",
    "pd.read_csv('C:/Users/user/Documents/GitHub/Final-Project-A09-/tier_and_gameId.csv').head(193) ## 약 3분 1이 그마 큐"
   ]
  }
 ],
 "metadata": {
  "kernelspec": {
   "display_name": "Python 3",
   "language": "python",
   "name": "python3"
  },
  "language_info": {
   "codemirror_mode": {
    "name": "ipython",
    "version": 3
   },
   "file_extension": ".py",
   "mimetype": "text/x-python",
   "name": "python",
   "nbconvert_exporter": "python",
   "pygments_lexer": "ipython3",
   "version": "3.8.6"
  }
 },
 "nbformat": 4,
 "nbformat_minor": 2
}
