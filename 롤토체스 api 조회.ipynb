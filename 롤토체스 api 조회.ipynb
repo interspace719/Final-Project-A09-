{
 "cells": [
  {
   "cell_type": "markdown",
   "metadata": {},
   "source": [
    "#### TFT API 에 대해서 설명되어있는 사이트 : https://velog.io/@twa02189/TFT-API-%EB%8D%B0%EC%9D%B4%ED%84%B0-%EC%84%A4%EB%AA%85"
   ]
  },
  {
   "cell_type": "code",
   "execution_count": 1,
   "metadata": {},
   "outputs": [],
   "source": [
    "import pandas as pd\n",
    "import requests\n",
    "import pprint\n",
    "import json\n",
    "import time\n",
    "from pandas import json_normalize\n",
    "\n",
    "pd.set_option('display.max_colwidth', None) ## 셀 최대 너비 제한 해제"
   ]
  },
  {
   "cell_type": "markdown",
   "metadata": {},
   "source": [
    "#### 기본 키 저장 + baser URL 저장 + request header 저장"
   ]
  },
  {
   "cell_type": "code",
   "execution_count": 2,
   "metadata": {},
   "outputs": [],
   "source": [
    "# api_key 저장\n",
    "api_key = 'RGAPI-39d1115b-559c-49b0-bacb-cd3ea0588e94' ## 만료되면 갱신해줘야함 거의 하루마다\n",
    "\n",
    "# request header 저장\n",
    "request_header = {\n",
    "    \"User-Agent\": \"Mozilla/5.0 (Windows NT 10.0; Win64; x64) AppleWebKit/537.36 (KHTML, like Gecko) Chrome/123.0.0.0 Safari/537.36\",\n",
    "    \"Accept-Language\": \"ko-KR,ko;q=0.9,en-US;q=0.8,en;q=0.7\",\n",
    "    \"Accept-Charset\": \"application/x-www-form-urlencoded; charset=UTF-8\",\n",
    "    \"Origin\": \"https://developer.riotgames.com\",\n",
    "    \"X-Riot-Token\": api_key \n",
    "    }\n",
    "\n",
    "# base_url 저장\n",
    "base_url = \"https://kr.api.riotgames.com/tft/\" ## 이 뒤에다가 + 로 그때그떄 필요한 URL 을 더해줄 것"
   ]
  },
  {
   "cell_type": "markdown",
   "metadata": {},
   "source": [
    "#### 마스터, 그랜드 마스터 구간 유저들의 닉네임 추출 "
   ]
  },
  {
   "cell_type": "code",
   "execution_count": 3,
   "metadata": {},
   "outputs": [],
   "source": [
    "## 현재 그마와 마스터 티어밖에 사람이 존재하지 않으므로 마스터 티어의 데이터만 조회\n",
    "\n",
    "# grand master\n",
    "\n",
    "grandmaster_url = base_url + 'league/v1/grandmaster'\n",
    "\n",
    "grandmaster = requests.get(grandmaster_url, headers = request_header).json()\n",
    "\n",
    "# master\n",
    "\n",
    "master_url = base_url + 'league/v1/master'\n",
    "\n",
    "master = requests.get(master_url, headers = request_header).json()"
   ]
  },
  {
   "cell_type": "code",
   "execution_count": 4,
   "metadata": {},
   "outputs": [
    {
     "data": {
      "text/html": [
       "<div>\n",
       "<style scoped>\n",
       "    .dataframe tbody tr th:only-of-type {\n",
       "        vertical-align: middle;\n",
       "    }\n",
       "\n",
       "    .dataframe tbody tr th {\n",
       "        vertical-align: top;\n",
       "    }\n",
       "\n",
       "    .dataframe thead th {\n",
       "        text-align: right;\n",
       "    }\n",
       "</style>\n",
       "<table border=\"1\" class=\"dataframe\">\n",
       "  <thead>\n",
       "    <tr style=\"text-align: right;\">\n",
       "      <th></th>\n",
       "      <th>tier</th>\n",
       "      <th>leagueId</th>\n",
       "      <th>queue</th>\n",
       "      <th>name</th>\n",
       "      <th>entries</th>\n",
       "    </tr>\n",
       "  </thead>\n",
       "  <tbody>\n",
       "    <tr>\n",
       "      <th>0</th>\n",
       "      <td>GRANDMASTER</td>\n",
       "      <td>f1e46b7f-5703-3dad-b9c5-6a8f5dfa5598</td>\n",
       "      <td>RANKED_TFT</td>\n",
       "      <td>Soraka's Enforcers</td>\n",
       "      <td>{'summonerId': 'VVpwkqbuN3VVwG378diAEHea6jFrq1ADYBQAEstZizthf7k', 'summonerName': '이렇게 좋은 날', 'leaguePoints': 348, 'rank': 'I', 'wins': 88, 'losses': 45, 'veteran': False, 'inactive': False, 'freshBlood': True, 'hotStreak': True}</td>\n",
       "    </tr>\n",
       "    <tr>\n",
       "      <th>1</th>\n",
       "      <td>GRANDMASTER</td>\n",
       "      <td>f1e46b7f-5703-3dad-b9c5-6a8f5dfa5598</td>\n",
       "      <td>RANKED_TFT</td>\n",
       "      <td>Soraka's Enforcers</td>\n",
       "      <td>{'summonerId': 'KKtx2l6oWWPWxU6Pi5tm0trZQI6yFkVbHjyMALGori8cG24DSiXPdy5gug', 'summonerName': '천연만화', 'leaguePoints': 418, 'rank': 'I', 'wins': 74, 'losses': 32, 'veteran': False, 'inactive': False, 'freshBlood': True, 'hotStreak': False}</td>\n",
       "    </tr>\n",
       "    <tr>\n",
       "      <th>2</th>\n",
       "      <td>GRANDMASTER</td>\n",
       "      <td>f1e46b7f-5703-3dad-b9c5-6a8f5dfa5598</td>\n",
       "      <td>RANKED_TFT</td>\n",
       "      <td>Soraka's Enforcers</td>\n",
       "      <td>{'summonerId': 'BhJKOIvlHJRa_Ra0uNNDlrqN46i6snagNkH_p8VZR28GJA', 'summonerName': 'Teukhan', 'leaguePoints': 321, 'rank': 'I', 'wins': 79, 'losses': 51, 'veteran': False, 'inactive': False, 'freshBlood': True, 'hotStreak': False}</td>\n",
       "    </tr>\n",
       "  </tbody>\n",
       "</table>\n",
       "</div>"
      ],
      "text/plain": [
       "          tier                              leagueId       queue  \\\n",
       "0  GRANDMASTER  f1e46b7f-5703-3dad-b9c5-6a8f5dfa5598  RANKED_TFT   \n",
       "1  GRANDMASTER  f1e46b7f-5703-3dad-b9c5-6a8f5dfa5598  RANKED_TFT   \n",
       "2  GRANDMASTER  f1e46b7f-5703-3dad-b9c5-6a8f5dfa5598  RANKED_TFT   \n",
       "\n",
       "                 name  \\\n",
       "0  Soraka's Enforcers   \n",
       "1  Soraka's Enforcers   \n",
       "2  Soraka's Enforcers   \n",
       "\n",
       "                                                                                                                                                                                                                                         entries  \n",
       "0          {'summonerId': 'VVpwkqbuN3VVwG378diAEHea6jFrq1ADYBQAEstZizthf7k', 'summonerName': '이렇게 좋은 날', 'leaguePoints': 348, 'rank': 'I', 'wins': 88, 'losses': 45, 'veteran': False, 'inactive': False, 'freshBlood': True, 'hotStreak': True}  \n",
       "1  {'summonerId': 'KKtx2l6oWWPWxU6Pi5tm0trZQI6yFkVbHjyMALGori8cG24DSiXPdy5gug', 'summonerName': '천연만화', 'leaguePoints': 418, 'rank': 'I', 'wins': 74, 'losses': 32, 'veteran': False, 'inactive': False, 'freshBlood': True, 'hotStreak': False}  \n",
       "2           {'summonerId': 'BhJKOIvlHJRa_Ra0uNNDlrqN46i6snagNkH_p8VZR28GJA', 'summonerName': 'Teukhan', 'leaguePoints': 321, 'rank': 'I', 'wins': 79, 'losses': 51, 'veteran': False, 'inactive': False, 'freshBlood': True, 'hotStreak': False}  "
      ]
     },
     "execution_count": 4,
     "metadata": {},
     "output_type": "execute_result"
    }
   ],
   "source": [
    "# 가져온 마스터 데이터 프레임 조회 (마스터 랭크에 속한 유저 조회)\n",
    "pd.DataFrame(master).head(3)\n",
    "\n",
    "# 가져온 그랜드마스터 데이터 프레임 조회 (그랜드마스터 랭크에 속한 유저 조회)\n",
    "pd.DataFrame(grandmaster).head(3)"
   ]
  },
  {
   "cell_type": "code",
   "execution_count": 5,
   "metadata": {},
   "outputs": [],
   "source": [
    "# master_df 에 저장\n",
    "master_df = pd.DataFrame(master)\n",
    "\n",
    "# grandmaster_df 에 저장\n",
    "grandmaster_df = pd.DataFrame(grandmaster)"
   ]
  },
  {
   "cell_type": "markdown",
   "metadata": {},
   "source": [
    "##### 결측치 제거 및 json normalize 테스트"
   ]
  },
  {
   "cell_type": "code",
   "execution_count": 6,
   "metadata": {},
   "outputs": [
    {
     "data": {
      "text/html": [
       "<div>\n",
       "<style scoped>\n",
       "    .dataframe tbody tr th:only-of-type {\n",
       "        vertical-align: middle;\n",
       "    }\n",
       "\n",
       "    .dataframe tbody tr th {\n",
       "        vertical-align: top;\n",
       "    }\n",
       "\n",
       "    .dataframe thead th {\n",
       "        text-align: right;\n",
       "    }\n",
       "</style>\n",
       "<table border=\"1\" class=\"dataframe\">\n",
       "  <thead>\n",
       "    <tr style=\"text-align: right;\">\n",
       "      <th></th>\n",
       "      <th>tier</th>\n",
       "      <th>summonerId</th>\n",
       "      <th>summonerName</th>\n",
       "      <th>leaguePoints</th>\n",
       "      <th>wins</th>\n",
       "      <th>losses</th>\n",
       "      <th>veteran</th>\n",
       "      <th>inactive</th>\n",
       "      <th>freshBlood</th>\n",
       "      <th>hotStreak</th>\n",
       "    </tr>\n",
       "  </thead>\n",
       "  <tbody>\n",
       "    <tr>\n",
       "      <th>0</th>\n",
       "      <td>MASTER</td>\n",
       "      <td>CwFvZnFIBnI5FwTXLx4lvp4zHrSa8EuE958nh8q-C3csDxs</td>\n",
       "      <td>쁘보배</td>\n",
       "      <td>116</td>\n",
       "      <td>77</td>\n",
       "      <td>45</td>\n",
       "      <td>False</td>\n",
       "      <td>False</td>\n",
       "      <td>True</td>\n",
       "      <td>False</td>\n",
       "    </tr>\n",
       "    <tr>\n",
       "      <th>1</th>\n",
       "      <td>MASTER</td>\n",
       "      <td>dtilHdI9usYxEelmpdrCfyTywsYSL_Odbl0g3e3DUvn99eY</td>\n",
       "      <td>싸커우</td>\n",
       "      <td>37</td>\n",
       "      <td>52</td>\n",
       "      <td>30</td>\n",
       "      <td>False</td>\n",
       "      <td>False</td>\n",
       "      <td>True</td>\n",
       "      <td>False</td>\n",
       "    </tr>\n",
       "    <tr>\n",
       "      <th>2</th>\n",
       "      <td>MASTER</td>\n",
       "      <td>J61nNdwOutomkBA23KtetozIhFIpA9R3x2nkuJp3iKy3uBRvKpJU9bfsLA</td>\n",
       "      <td>쇼린고</td>\n",
       "      <td>31</td>\n",
       "      <td>93</td>\n",
       "      <td>76</td>\n",
       "      <td>False</td>\n",
       "      <td>False</td>\n",
       "      <td>True</td>\n",
       "      <td>False</td>\n",
       "    </tr>\n",
       "    <tr>\n",
       "      <th>3</th>\n",
       "      <td>MASTER</td>\n",
       "      <td>drrMcPUMslSdtEJ4S-joF7McUIwwjaqbi3jkI8ws4L2denVKES2ug3QaYQ</td>\n",
       "      <td>PS 카나타</td>\n",
       "      <td>228</td>\n",
       "      <td>70</td>\n",
       "      <td>32</td>\n",
       "      <td>False</td>\n",
       "      <td>False</td>\n",
       "      <td>True</td>\n",
       "      <td>False</td>\n",
       "    </tr>\n",
       "    <tr>\n",
       "      <th>4</th>\n",
       "      <td>MASTER</td>\n",
       "      <td>2tcDWfWuiYh5NwzIWVToPwUVyhfygQPKmLi8G-AnJuj9E14</td>\n",
       "      <td>ZENIA TFT</td>\n",
       "      <td>19</td>\n",
       "      <td>60</td>\n",
       "      <td>31</td>\n",
       "      <td>False</td>\n",
       "      <td>False</td>\n",
       "      <td>True</td>\n",
       "      <td>False</td>\n",
       "    </tr>\n",
       "  </tbody>\n",
       "</table>\n",
       "</div>"
      ],
      "text/plain": [
       "     tier                                                  summonerId  \\\n",
       "0  MASTER             CwFvZnFIBnI5FwTXLx4lvp4zHrSa8EuE958nh8q-C3csDxs   \n",
       "1  MASTER             dtilHdI9usYxEelmpdrCfyTywsYSL_Odbl0g3e3DUvn99eY   \n",
       "2  MASTER  J61nNdwOutomkBA23KtetozIhFIpA9R3x2nkuJp3iKy3uBRvKpJU9bfsLA   \n",
       "3  MASTER  drrMcPUMslSdtEJ4S-joF7McUIwwjaqbi3jkI8ws4L2denVKES2ug3QaYQ   \n",
       "4  MASTER             2tcDWfWuiYh5NwzIWVToPwUVyhfygQPKmLi8G-AnJuj9E14   \n",
       "\n",
       "  summonerName  leaguePoints  wins  losses  veteran  inactive  freshBlood  \\\n",
       "0          쁘보배           116    77      45    False     False        True   \n",
       "1          싸커우            37    52      30    False     False        True   \n",
       "2          쇼린고            31    93      76    False     False        True   \n",
       "3       PS 카나타           228    70      32    False     False        True   \n",
       "4    ZENIA TFT            19    60      31    False     False        True   \n",
       "\n",
       "   hotStreak  \n",
       "0      False  \n",
       "1      False  \n",
       "2      False  \n",
       "3      False  \n",
       "4      False  "
      ]
     },
     "execution_count": 6,
     "metadata": {},
     "output_type": "execute_result"
    }
   ],
   "source": [
    "# entries 컬럼 확장 \n",
    "master_entries_normalized = json_normalize(master_df['entries'])\n",
    "\n",
    "# 확장된 데이터프레임 병합\n",
    "master_df = pd.concat([master_df.drop(['entries'], axis=1), master_entries_normalized], axis=1)\n",
    "\n",
    "# 필요없는 컬럼 drop('queue', 'name')\n",
    "master_df = master_df.drop(['leagueId', 'queue', 'name', 'rank'], axis=1) ## 이 네가지는 당연하고 필요없는 정보\n",
    "\n",
    "# summonerName 컬럼이 결측치인 행 제거\n",
    "master_df = master_df.dropna(subset=['summonerName'])\n",
    "\n",
    "# 확인\n",
    "master_df ## null 값이 아니라 공란 그자체가 값으로 존재하는 듯함\n",
    "\n",
    "# summonerName 컬럼이 공란인 행 제거\n",
    "master_df = master_df[master_df['summonerName'] != '']\n",
    "\n",
    "# 확인\n",
    "master_df.head() # 결측치 제거된 것 확인했음"
   ]
  },
  {
   "cell_type": "markdown",
   "metadata": {},
   "source": [
    "##### 결측치 제거 및 json 펼치는 함수 생성"
   ]
  },
  {
   "cell_type": "code",
   "execution_count": 7,
   "metadata": {},
   "outputs": [],
   "source": [
    "def json_normalize_and_dropna(df):\n",
    "    # entries 컬럼 확장\n",
    "    master_entries_normalized = json_normalize(df['entries'])\n",
    "    \n",
    "    # 확장된 데이터프레임 병합\n",
    "    df = pd.concat([df.drop(['entries'], axis=1), master_entries_normalized], axis=1)\n",
    "    \n",
    "    # 필요없는 컬럼 drop('queue', 'name')\n",
    "    df = df.drop(['leagueId', 'queue', 'name', 'rank'], axis=1)\n",
    "    \n",
    "    # summonerName 컬럼이 결측치인 행 제거\n",
    "    df = df.dropna(subset=['summonerName'])\n",
    "    \n",
    "    # summonerName 컬럼이 공란인 행 제거\n",
    "    df = df[df['summonerName'] != '']\n",
    "    \n",
    "    return df"
   ]
  },
  {
   "cell_type": "code",
   "execution_count": 8,
   "metadata": {},
   "outputs": [],
   "source": [
    "# grandmaster df 결측치 제거 및 json normalize\n",
    "grandmaster_df = json_normalize_and_dropna(grandmaster_df)"
   ]
  },
  {
   "cell_type": "markdown",
   "metadata": {},
   "source": [
    "#### 추출한 데이터 프레임에서 닉네임을 모두 뽑아서 리스트로 작성"
   ]
  },
  {
   "cell_type": "markdown",
   "metadata": {},
   "source": [
    "##### 닉네임 하나 골라서 puuid 추출 테스트"
   ]
  },
  {
   "cell_type": "code",
   "execution_count": 9,
   "metadata": {},
   "outputs": [
    {
     "data": {
      "text/plain": [
       "'t_Wf-ad5Drr5FzTmxmkRnsEtBNUf-7PRoTll2k8kxN23sYTKJs2VOrOjeQ418PF31x2QQ2X02RrAtw'"
      ]
     },
     "execution_count": 9,
     "metadata": {},
     "output_type": "execute_result"
    }
   ],
   "source": [
    "## 한명의 닉네임을 넣어서 제대로 나오는지 확인\n",
    "\n",
    "# 닉네임을 넣어줄 url 저장\n",
    "id_url = base_url + \"summoner/v1/summoners/by-name/COPY O\"\n",
    "\n",
    "# 닉네임을 넣었을 때, 반환값 저장\n",
    "random_id = requests.get(id_url, headers = request_header).json()\n",
    "\n",
    "# puuid 추출\n",
    "random_id['puuid'] ## puuid 추출 확인 / random_id 는 딕셔너리 형태(json)"
   ]
  },
  {
   "cell_type": "markdown",
   "metadata": {},
   "source": [
    "##### 앞서서 만든 master_df 에서 닉네임만 리스트로 추출 (df 에서 닉네임만 리스트로 추출하는 함수 생성)"
   ]
  },
  {
   "cell_type": "code",
   "execution_count": 10,
   "metadata": {},
   "outputs": [
    {
     "name": "stdout",
     "output_type": "stream",
     "text": [
      "['쁘보배', '싸커우', '쇼린고']\n",
      "['이렇게 좋은 날', '천연만화', 'Teukhan']\n"
     ]
    }
   ],
   "source": [
    "# 닉네임 리스트 추출 함수(닉네임 공란도 제거)\n",
    "def get_summoner_names_list(df):\n",
    "    df = df[df['summonerName'] != '']\n",
    "    summoner_names_list = df['summonerName'].tolist()\n",
    "    return summoner_names_list\n",
    "\n",
    "# master_df 의 닉네임 리스트 추출\n",
    "master_summoner_names_list = get_summoner_names_list(master_df)\n",
    "\n",
    "# grandmaster_df 의 닉네임 리스트 추출\n",
    "grandmaster_summoner_names_list = get_summoner_names_list(grandmaster_df)\n",
    "\n",
    "# 확인\n",
    "print(master_summoner_names_list[:3])\n",
    "\n",
    "print(grandmaster_summoner_names_list[:3])"
   ]
  },
  {
   "cell_type": "markdown",
   "metadata": {},
   "source": [
    "##### 닉네임의 리스트를 넣으면 puuid 의 리스트로 반환하는 함수 생성"
   ]
  },
  {
   "cell_type": "code",
   "execution_count": 11,
   "metadata": {},
   "outputs": [
    {
     "name": "stdout",
     "output_type": "stream",
     "text": [
      "['eVDGTA0QwoU8cXfzJj7jCsMkmlWKUyqnuwvo1Se-1O02ibxeaJPH-Qu2vl9LkRTwROkqJx7TS_PNKA', 'PDEcFJx7ZoWmThh882YMZsU6lfuQ51jYuFqVssWjsdtyD1EbrorT_MCEe852xPiw-FQRE5NIlxTq3Q', 'gpD9IlxyZMowxr43BRxKmVQE1q_my3OVTuW9B3FHxUCfXGUjy0i4bQeGPqsFdVsgY9wcDZR-YqL9oQ', '0B2Ddpu4J4Up4ZwTeQ_7R6_wMfVg-TCQELKds6QHUmfhoBuMPgVFq97lXH75j0gHLqLOiFEoS7-M2g', 'kph2AvVxfMcfYgeWyFXscvdzCinl4_e_AO6TcmVDNv25WQjNKkPnDF5_G58MTpHn8wrI3uHmhNN3Bg']\n"
     ]
    }
   ],
   "source": [
    "# 마스터 puuid 리스트 추출 함수\n",
    "def get_puuid_list(nickname_list):\n",
    "    puuid_list = []\n",
    "    \n",
    "    for nickname in nickname_list:\n",
    "        # 닉네임을 넣어줄 url 저장\n",
    "        id_url = base_url + f\"summoner/v1/summoners/by-name/{nickname}\"\n",
    "        \n",
    "        # 닉네임을 넣었을 때, 반환값 저장\n",
    "        random_id = requests.get(id_url, headers=request_header).json()\n",
    "        \n",
    "        # puuid 추출하여 리스트에 추가\n",
    "        if 'puuid' in random_id:\n",
    "           puuid_list.append(random_id['puuid'])\n",
    "    \n",
    "    return puuid_list\n",
    "\n",
    "# 마스터 puuid 리스트 추출해서 master_puuid_list 에 저장\n",
    "master_puuid_list = get_puuid_list(master_summoner_names_list)\n",
    "\n",
    "# 그랜드 puuid 리스트 추출\n",
    "grandmaster_puuid_list = get_puuid_list(grandmaster_summoner_names_list)"
   ]
  },
  {
   "cell_type": "code",
   "execution_count": 15,
   "metadata": {},
   "outputs": [
    {
     "name": "stdout",
     "output_type": "stream",
     "text": [
      "['eVDGTA0QwoU8cXfzJj7jCsMkmlWKUyqnuwvo1Se-1O02ibxeaJPH-Qu2vl9LkRTwROkqJx7TS_PNKA', 'PDEcFJx7ZoWmThh882YMZsU6lfuQ51jYuFqVssWjsdtyD1EbrorT_MCEe852xPiw-FQRE5NIlxTq3Q', 'gpD9IlxyZMowxr43BRxKmVQE1q_my3OVTuW9B3FHxUCfXGUjy0i4bQeGPqsFdVsgY9wcDZR-YqL9oQ']\n",
      "['rx1nmyxEddDyQujL2nvjfiHV_LDcBEo-zyf16l3BFnXQExOMoB6tNss-WGlc_GRgcac2tg1GhDgBhg', 'lskGGafPGWafTOrBtnSVRCyYdggWRybYvU_B0r65qQvnGCU2C4gmZmt9rMDAnruQuoloPyWnpeBiqQ', 'Qd68F2UMKe7FMb-qpbUs3njG6k_4ZLwr2FRG0zHruSDr9XTtZOZ1cdAXyLd_kGAt0_IheL5QMQLdvQ']\n"
     ]
    }
   ],
   "source": [
    "# 확인\n",
    "print(master_puuid_list[:3])\n",
    "\n",
    "print(grandmaster_puuid_list[:3])"
   ]
  }
 ],
 "metadata": {
  "kernelspec": {
   "display_name": "Python 3",
   "language": "python",
   "name": "python3"
  },
  "language_info": {
   "codemirror_mode": {
    "name": "ipython",
    "version": 3
   },
   "file_extension": ".py",
   "mimetype": "text/x-python",
   "name": "python",
   "nbconvert_exporter": "python",
   "pygments_lexer": "ipython3",
   "version": "3.8.6"
  }
 },
 "nbformat": 4,
 "nbformat_minor": 2
}
