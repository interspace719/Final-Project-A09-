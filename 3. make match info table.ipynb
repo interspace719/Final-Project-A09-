{
 "cells": [
  {
   "cell_type": "code",
   "execution_count": 86,
   "metadata": {},
   "outputs": [],
   "source": [
    "import pandas as pd\n",
    "import requests\n",
    "import pprint\n",
    "import json\n",
    "import time\n",
    "from pandas import json_normalize\n",
    "import ast\n",
    "\n",
    "pd.set_option('display.max_colwidth', None) ## 셀 최대 너비 제한 해제"
   ]
  },
  {
   "cell_type": "code",
   "execution_count": 87,
   "metadata": {},
   "outputs": [],
   "source": [
    "# api_key 저장\n",
    "api_key = 'RGAPI-b2bd2659-5fb4-4be0-821a-e3af369cc138' ## 만료되면 갱신해줘야함 거의 하루마다\n",
    "\n",
    "# request header 저장\n",
    "request_header = {\n",
    "    \"User-Agent\": \"Mozilla/5.0 (Windows NT 10.0; Win64; x64) AppleWebKit/537.36 (KHTML, like Gecko) Chrome/123.0.0.0 Safari/537.36\",\n",
    "    \"Accept-Language\": \"ko-KR,ko;q=0.9,en-US;q=0.8,en;q=0.7\",\n",
    "    \"Accept-Charset\": \"application/x-www-form-urlencoded; charset=UTF-8\",\n",
    "    \"Origin\": \"https://developer.riotgames.com\",\n",
    "    \"X-Riot-Token\": api_key \n",
    "    }\n",
    "\n",
    "# base_url 저장\n",
    "base_url = \"https://kr.api.riotgames.com/tft/\" ## 이 뒤에다가 + 로 그때그떄 필요한 URL 을 더해줄 것"
   ]
  },
  {
   "cell_type": "markdown",
   "metadata": {},
   "source": [
    "##### 앞에서 만든 게임 아이디 테이블 불러오기"
   ]
  },
  {
   "cell_type": "code",
   "execution_count": 88,
   "metadata": {},
   "outputs": [
    {
     "data": {
      "text/html": [
       "<div>\n",
       "<style scoped>\n",
       "    .dataframe tbody tr th:only-of-type {\n",
       "        vertical-align: middle;\n",
       "    }\n",
       "\n",
       "    .dataframe tbody tr th {\n",
       "        vertical-align: top;\n",
       "    }\n",
       "\n",
       "    .dataframe thead th {\n",
       "        text-align: right;\n",
       "    }\n",
       "</style>\n",
       "<table border=\"1\" class=\"dataframe\">\n",
       "  <thead>\n",
       "    <tr style=\"text-align: right;\">\n",
       "      <th></th>\n",
       "      <th>tier</th>\n",
       "      <th>gameId</th>\n",
       "    </tr>\n",
       "  </thead>\n",
       "  <tbody>\n",
       "    <tr>\n",
       "      <th>0</th>\n",
       "      <td>GRANDMASTER</td>\n",
       "      <td>KR_7004319615</td>\n",
       "    </tr>\n",
       "    <tr>\n",
       "      <th>1</th>\n",
       "      <td>GRANDMASTER</td>\n",
       "      <td>KR_7004261207</td>\n",
       "    </tr>\n",
       "    <tr>\n",
       "      <th>2</th>\n",
       "      <td>GRANDMASTER</td>\n",
       "      <td>KR_7004219924</td>\n",
       "    </tr>\n",
       "  </tbody>\n",
       "</table>\n",
       "</div>"
      ],
      "text/plain": [
       "          tier         gameId\n",
       "0  GRANDMASTER  KR_7004319615\n",
       "1  GRANDMASTER  KR_7004261207\n",
       "2  GRANDMASTER  KR_7004219924"
      ]
     },
     "execution_count": 88,
     "metadata": {},
     "output_type": "execute_result"
    }
   ],
   "source": [
    "gameId_df = pd.read_csv('C:/Users/user/Documents/GitHub/Final-Project-A09-/tier_and_gameId.csv')\n",
    "\n",
    "gameId_df.head(3)   "
   ]
  },
  {
   "cell_type": "markdown",
   "metadata": {},
   "source": [
    "#### 게임 아이디 테이블의 모든 게임 결과 데이터 불러오기"
   ]
  },
  {
   "cell_type": "markdown",
   "metadata": {},
   "source": [
    "##### 하나의 게임 아이디로부터 게임 결과 데이터를 불러오는 쿼리 작성 테스트"
   ]
  },
  {
   "cell_type": "code",
   "execution_count": 89,
   "metadata": {},
   "outputs": [],
   "source": [
    "gameId = 'KR_7003200600'\n",
    "\n",
    "# gameId 를 통해 game result data 를 불러오는 API URL 설정\n",
    "game_result_url = \"https://Asia.api.riotgames.com/tft/\" + f\"match/v1/matches/{gameId}\"\n",
    "\n",
    "# 조회한 결과를 game_result 에 저장\n",
    "game_result = requests.get(game_result_url, headers=request_header).json()\n",
    "\n",
    "# 게임 데이터 중 실질적으로 중요한 정보를 담고있는 info 컬럼을 데이터 프레임으로 저장\n",
    "game_result_df = pd.DataFrame(game_result['info'])\n",
    "\n",
    "# 반환된 게임 결과 데이터 프레임의 gameId 컬럼에 KR_ 를 붙여주는 것으로 tier_gameId 테이블과 컬럼값을 동일하게\n",
    "game_result_df['gameId'] = 'KR_' + game_result_df['gameId'].astype(str)\n",
    "\n",
    "# 필요없는 컬럼 drop\n",
    "game_result_df = game_result_df[['gameId', 'game_datetime', 'game_length', 'game_version', 'participants']]"
   ]
  },
  {
   "cell_type": "code",
   "execution_count": 90,
   "metadata": {},
   "outputs": [
    {
     "data": {
      "text/html": [
       "<div>\n",
       "<style scoped>\n",
       "    .dataframe tbody tr th:only-of-type {\n",
       "        vertical-align: middle;\n",
       "    }\n",
       "\n",
       "    .dataframe tbody tr th {\n",
       "        vertical-align: top;\n",
       "    }\n",
       "\n",
       "    .dataframe thead th {\n",
       "        text-align: right;\n",
       "    }\n",
       "</style>\n",
       "<table border=\"1\" class=\"dataframe\">\n",
       "  <thead>\n",
       "    <tr style=\"text-align: right;\">\n",
       "      <th></th>\n",
       "      <th>gameId</th>\n",
       "      <th>game_datetime</th>\n",
       "      <th>game_length</th>\n",
       "      <th>game_version</th>\n",
       "      <th>participants</th>\n",
       "    </tr>\n",
       "  </thead>\n",
       "  <tbody>\n",
       "    <tr>\n",
       "      <th>0</th>\n",
       "      <td>KR_7003200600</td>\n",
       "      <td>1711447615823</td>\n",
       "      <td>2141.46582</td>\n",
       "      <td>Version 14.6.570.6276 (Mar 25 2024/14:00:15) [PUBLIC] &lt;Releases/14.6&gt;</td>\n",
       "      <td>{'augments': ['TFT11_Augment_Slammin', 'TFT11_Augment_FortuneCrest', 'TFT11_Augment_Invoker'], 'companion': {'content_ID': '50e8746e-3e65-4463-8938-0fbadd0c00d7', 'item_ID': 10016, 'skin_ID': 16, 'species': 'PetSGCat'}, 'gold_left': 1, 'last_round': 35, 'level': 10, 'missions': {'Assists': 0, 'DamageDealt': 0, 'DamageDealtToObjectives': 170448, 'DamageDealtToTurrets': 2, 'DamageTaken': 0, 'Deaths': 13, 'DoubleKills': 0, 'GoldEarned': 0, 'GoldSpent': 0, 'InhibitorsDestroyed': 0, 'KillingSprees': 10, 'Kills': 0, 'LargestKillingSpree': 85476, 'LargestMultiKill': 81632, 'MagicDamageDealt': 0, 'MagicDamageDealtToChampions': 0, 'MagicDamageTaken': 0, 'NeutralMinionsKilledTeamJungle': 0, 'PentaKills': 2, 'PhysicalDamageDealt': 0, 'PhysicalDamageDealtToChampions': 30, 'PhysicalDamageTaken': 0, 'PlayerScore0': 3, 'PlayerScore1': 9, 'PlayerScore10': 0, 'PlayerScore11': 0, 'PlayerScore2': 204, 'PlayerScore3': 0, 'PlayerScore4': 1, 'PlayerScore5': 1, 'PlayerScore6': 13, 'PlayerScore9': 0, 'QuadraKills': 0, 'Spell1Casts': 0, 'Spell2Casts': 2, 'Spell3Casts': 0, 'Spell4Casts': 15034, 'SummonerSpell1Casts': 0, 'TimeCCOthers': 2, 'TotalDamageDealtToChampions': 0, 'TotalMinionsKilled': 0, 'TripleKills': 0, 'TrueDamageDealt': 1, 'TrueDamageDealtToChampions': 87, 'TrueDamageTaken': 8, 'UnrealKills': 0, 'VisionScore': 0, 'WardsKilled': 92}, 'placement': 3, 'players_eliminated': 0, 'puuid': '2Lw24PhKDs6lGeDLMvZbgwMzvsg54RvPqvZvQ9VmWf6lydLfWndbn-JGULGDyhi-dCjOKThFmaWXKw', 'time_eliminated': 2047.7498779296875, 'total_damage_to_players': 159, 'traits': [{'name': 'TFT11_Altruist', 'num_units': 2, 'style': 1, 'tier_current': 1, 'tier_total': 3}, {'name': 'TFT11_Artist', 'num_units': 1, 'style': 5, 'tier_current': 1, 'tier_total': 1}, {'name': 'TFT11_Dragonlord', 'num_units': 5, 'style': 3, 'tier_current': 4, 'tier_total': 4}, {'name': 'TFT11_Dryad', 'num_units': 1, 'style': 0, 'tier_current': 0, 'tier_total': 3}, {'name': 'TFT11_Exalted', 'num_units': 1, 'style': 0, 'tier_current': 0, 'tier_total': 2}, {'name': 'TFT11_Fated', 'num_units': 1, 'style': 0, 'tier_current': 0, 'tier_total': 4}, {'name': 'TFT11_Fortune', 'num_units': 2, 'style': 0, 'tier_current': 0, 'tier_total': 3}, {'name': 'TFT11_Heavenly', 'num_units': 1, 'style': 0, 'tier_current': 0, 'tier_total': 6}, {'name': 'TFT11_Invoker', 'num_units': 6, 'style': 3, 'tier_current': 3, 'tier_total': 3}, {'name': 'TFT11_Lovers', 'num_units': 1, 'style': 5, 'tier_current': 1, 'tier_total': 1}, {'name': 'TFT11_Mythic', 'num_units': 3, 'style': 1, 'tier_current': 1, 'tier_total': 4}, {'name': 'TFT11_Umbral', 'num_units': 2, 'style': 1, 'tier_current': 1, 'tier_total': 4}, {'name': 'TFT11_Warden', 'num_units': 2, 'style': 1, 'tier_current': 1, 'tier_total': 3}], 'units': [{'character_id': 'TFT11_Janna', 'itemNames': [], 'name': '', 'rarity': 1, 'tier': 2}, {'character_id': 'TFT11_Alune', 'itemNames': ['TFT11_Item_DragonlordEmblemItem'], 'name': '', 'rarity': 2, 'tier': 2}, {'character_id': 'TFT11_Soraka', 'itemNames': [], 'name': '', 'rarity': 2, 'tier': 1}, {'character_id': 'TFT11_Annie', 'itemNames': ['TFT_Item_IonicSpark'], 'name': '', 'rarity': 4, 'tier': 1}, {'character_id': 'TFT11_Lillia', 'itemNames': ['TFT_Item_RapidFireCannon', 'TFT_Item_MadredsBloodrazor', 'TFT_Item_SpearOfShojin'], 'name': '', 'rarity': 4, 'tier': 2}, {'character_id': 'TFT11_Nautilus', 'itemNames': ['TFT11_Item_DragonlordEmblemItem', 'TFT11_Item_FortuneEmblemItem', 'TFT_Item_GiantsBelt'], 'name': '', 'rarity': 4, 'tier': 2}, {'character_id': 'TFT11_Sett', 'itemNames': ['TFT_Item_Crownguard', 'TFT_Item_NightHarvester', 'TFT_Item_DragonsClaw'], 'name': '', 'rarity': 6, 'tier': 2}, {'character_id': 'TFT11_Hwei', 'itemNames': ['TFT11_Item_DragonlordEmblemItem', 'TFT11_Item_InvokerEmblemItem', 'TFT_Item_UnstableConcoction'], 'name': '', 'rarity': 6, 'tier': 2}, {'character_id': 'TFT11_Azir', 'itemNames': ['TFT_Item_JeweledGauntlet'], 'name': '', 'rarity': 6, 'tier': 2}, {'character_id': 'TFT11_Rakan', 'itemNames': ['TFT_Item_ThiefsGloves', 'TFT_Item_Bloodthirster', 'TFT_Item_UnstableConcoction'], 'name': '', 'rarity': 6, 'tier': 2}]}</td>\n",
       "    </tr>\n",
       "  </tbody>\n",
       "</table>\n",
       "</div>"
      ],
      "text/plain": [
       "          gameId  game_datetime  game_length  \\\n",
       "0  KR_7003200600  1711447615823   2141.46582   \n",
       "\n",
       "                                                            game_version  \\\n",
       "0  Version 14.6.570.6276 (Mar 25 2024/14:00:15) [PUBLIC] <Releases/14.6>   \n",
       "\n",
       "                                                                                                                                                                                                                                                                                                                                                                                                                                                                                                                                                                                                                                                                                                                                                                                                                                                                                                                                                                                                                                                                                                                                                                                                                                                                                                                                                                                                                                                                                                                                                                                                                                                                                                                                                                                                                                                                                                                                                                                                                                                                                                                                                                                                                                                                                                                                                                                                                                                                                                                                                                                                                                                                                                                                                                                                                                                                                                                                                                                                                                                                                                                                                                                                                                                                                                                                                                                                                                                                                                                                                                                                                                                                                                                                                                                                                                                                                                                                                                                                                                                                                                                                                                                                                                                                 participants  \n",
       "0  {'augments': ['TFT11_Augment_Slammin', 'TFT11_Augment_FortuneCrest', 'TFT11_Augment_Invoker'], 'companion': {'content_ID': '50e8746e-3e65-4463-8938-0fbadd0c00d7', 'item_ID': 10016, 'skin_ID': 16, 'species': 'PetSGCat'}, 'gold_left': 1, 'last_round': 35, 'level': 10, 'missions': {'Assists': 0, 'DamageDealt': 0, 'DamageDealtToObjectives': 170448, 'DamageDealtToTurrets': 2, 'DamageTaken': 0, 'Deaths': 13, 'DoubleKills': 0, 'GoldEarned': 0, 'GoldSpent': 0, 'InhibitorsDestroyed': 0, 'KillingSprees': 10, 'Kills': 0, 'LargestKillingSpree': 85476, 'LargestMultiKill': 81632, 'MagicDamageDealt': 0, 'MagicDamageDealtToChampions': 0, 'MagicDamageTaken': 0, 'NeutralMinionsKilledTeamJungle': 0, 'PentaKills': 2, 'PhysicalDamageDealt': 0, 'PhysicalDamageDealtToChampions': 30, 'PhysicalDamageTaken': 0, 'PlayerScore0': 3, 'PlayerScore1': 9, 'PlayerScore10': 0, 'PlayerScore11': 0, 'PlayerScore2': 204, 'PlayerScore3': 0, 'PlayerScore4': 1, 'PlayerScore5': 1, 'PlayerScore6': 13, 'PlayerScore9': 0, 'QuadraKills': 0, 'Spell1Casts': 0, 'Spell2Casts': 2, 'Spell3Casts': 0, 'Spell4Casts': 15034, 'SummonerSpell1Casts': 0, 'TimeCCOthers': 2, 'TotalDamageDealtToChampions': 0, 'TotalMinionsKilled': 0, 'TripleKills': 0, 'TrueDamageDealt': 1, 'TrueDamageDealtToChampions': 87, 'TrueDamageTaken': 8, 'UnrealKills': 0, 'VisionScore': 0, 'WardsKilled': 92}, 'placement': 3, 'players_eliminated': 0, 'puuid': '2Lw24PhKDs6lGeDLMvZbgwMzvsg54RvPqvZvQ9VmWf6lydLfWndbn-JGULGDyhi-dCjOKThFmaWXKw', 'time_eliminated': 2047.7498779296875, 'total_damage_to_players': 159, 'traits': [{'name': 'TFT11_Altruist', 'num_units': 2, 'style': 1, 'tier_current': 1, 'tier_total': 3}, {'name': 'TFT11_Artist', 'num_units': 1, 'style': 5, 'tier_current': 1, 'tier_total': 1}, {'name': 'TFT11_Dragonlord', 'num_units': 5, 'style': 3, 'tier_current': 4, 'tier_total': 4}, {'name': 'TFT11_Dryad', 'num_units': 1, 'style': 0, 'tier_current': 0, 'tier_total': 3}, {'name': 'TFT11_Exalted', 'num_units': 1, 'style': 0, 'tier_current': 0, 'tier_total': 2}, {'name': 'TFT11_Fated', 'num_units': 1, 'style': 0, 'tier_current': 0, 'tier_total': 4}, {'name': 'TFT11_Fortune', 'num_units': 2, 'style': 0, 'tier_current': 0, 'tier_total': 3}, {'name': 'TFT11_Heavenly', 'num_units': 1, 'style': 0, 'tier_current': 0, 'tier_total': 6}, {'name': 'TFT11_Invoker', 'num_units': 6, 'style': 3, 'tier_current': 3, 'tier_total': 3}, {'name': 'TFT11_Lovers', 'num_units': 1, 'style': 5, 'tier_current': 1, 'tier_total': 1}, {'name': 'TFT11_Mythic', 'num_units': 3, 'style': 1, 'tier_current': 1, 'tier_total': 4}, {'name': 'TFT11_Umbral', 'num_units': 2, 'style': 1, 'tier_current': 1, 'tier_total': 4}, {'name': 'TFT11_Warden', 'num_units': 2, 'style': 1, 'tier_current': 1, 'tier_total': 3}], 'units': [{'character_id': 'TFT11_Janna', 'itemNames': [], 'name': '', 'rarity': 1, 'tier': 2}, {'character_id': 'TFT11_Alune', 'itemNames': ['TFT11_Item_DragonlordEmblemItem'], 'name': '', 'rarity': 2, 'tier': 2}, {'character_id': 'TFT11_Soraka', 'itemNames': [], 'name': '', 'rarity': 2, 'tier': 1}, {'character_id': 'TFT11_Annie', 'itemNames': ['TFT_Item_IonicSpark'], 'name': '', 'rarity': 4, 'tier': 1}, {'character_id': 'TFT11_Lillia', 'itemNames': ['TFT_Item_RapidFireCannon', 'TFT_Item_MadredsBloodrazor', 'TFT_Item_SpearOfShojin'], 'name': '', 'rarity': 4, 'tier': 2}, {'character_id': 'TFT11_Nautilus', 'itemNames': ['TFT11_Item_DragonlordEmblemItem', 'TFT11_Item_FortuneEmblemItem', 'TFT_Item_GiantsBelt'], 'name': '', 'rarity': 4, 'tier': 2}, {'character_id': 'TFT11_Sett', 'itemNames': ['TFT_Item_Crownguard', 'TFT_Item_NightHarvester', 'TFT_Item_DragonsClaw'], 'name': '', 'rarity': 6, 'tier': 2}, {'character_id': 'TFT11_Hwei', 'itemNames': ['TFT11_Item_DragonlordEmblemItem', 'TFT11_Item_InvokerEmblemItem', 'TFT_Item_UnstableConcoction'], 'name': '', 'rarity': 6, 'tier': 2}, {'character_id': 'TFT11_Azir', 'itemNames': ['TFT_Item_JeweledGauntlet'], 'name': '', 'rarity': 6, 'tier': 2}, {'character_id': 'TFT11_Rakan', 'itemNames': ['TFT_Item_ThiefsGloves', 'TFT_Item_Bloodthirster', 'TFT_Item_UnstableConcoction'], 'name': '', 'rarity': 6, 'tier': 2}]}  "
      ]
     },
     "execution_count": 90,
     "metadata": {},
     "output_type": "execute_result"
    }
   ],
   "source": [
    "game_result_df.head(1)"
   ]
  },
  {
   "cell_type": "markdown",
   "metadata": {},
   "source": [
    "##### 모든 게임 아이디에 대한 게임 결과 데이터를 조회하여 하나의 테이블로 만들기"
   ]
  },
  {
   "cell_type": "code",
   "execution_count": null,
   "metadata": {},
   "outputs": [],
   "source": [
    "import time\n",
    "\n",
    "# gameId 목록 추출\n",
    "game_ids = list(gameId_df['gameId'])\n",
    "\n",
    "# 빈 데이터 프레임 생성 (초기에는 데이터 없음)\n",
    "game_results_df = pd.DataFrame()\n",
    "\n",
    "# 요청 제한을 고려하여 요청 속도 조절\n",
    "requests_per_minute = 80  # 2분에 허용된 요청 수\n",
    "requests_per_second = requests_per_minute / 80  # 1초에 허용된 요청 수\n",
    "interval = 1 / requests_per_second  # 각 요청 사이의 시간 간격\n",
    "\n",
    "# 각 게임 아이디에 대한 게임 결과 정보 조회 및 저장\n",
    "for game_id in game_ids:\n",
    "    game_result_url = \"https://Asia.api.riotgames.com/tft/\" + f\"match/v1/matches/{game_id}\"\n",
    "    game_result = requests.get(game_result_url, headers=request_header).json()\n",
    "\n",
    "    # Check if 'info' key exists\n",
    "    if 'info' in game_result:\n",
    "        # Create a temporary DataFrame from game_result['info']\n",
    "        temp_df = pd.DataFrame(game_result['info'])\n",
    "        # Concatenate the temporary DataFrame with game_results_df\n",
    "        game_results_df = pd.concat([game_results_df, temp_df], ignore_index=True)\n",
    "    else:\n",
    "        # Handle missing information (log a warning or assign a default value)\n",
    "        print(f\"WARNING: 'info' key not found for game ID: {game_id}\")\n",
    "\n",
    "    # 요청 사이에 일정한 시간 간격을 두기 위해 대기\n",
    "    time.sleep(interval)\n",
    "\n",
    "# 필요없는 컬럼 drop\n",
    "game_results_df = game_results_df[['gameId', 'game_datetime', 'game_length', 'game_version', 'participants']]\n",
    "\n",
    "# gameId 컬럼에 'KR_' 추가\n",
    "game_results_df['gameId'] = 'KR_' + game_results_df['gameId'].astype(str)"
   ]
  },
  {
   "cell_type": "code",
   "execution_count": null,
   "metadata": {},
   "outputs": [],
   "source": [
    "# 결과 확인\n",
    "game_results_df"
   ]
  },
  {
   "cell_type": "markdown",
   "metadata": {},
   "source": [
    "##### game_result_df 의 participants 컬럼을 풀어서 컬럼화 시키기전 csv 파일로 한번 저장"
   ]
  },
  {
   "cell_type": "code",
   "execution_count": 116,
   "metadata": {},
   "outputs": [],
   "source": [
    "game_results_df.to_csv('game_results_raw_data.csv', index=False)"
   ]
  },
  {
   "cell_type": "markdown",
   "metadata": {},
   "source": [
    "##### game_result_df 로부터 필요한 컬럼의 json 형식을 normalize 하여 테이블화"
   ]
  },
  {
   "cell_type": "code",
   "execution_count": 120,
   "metadata": {},
   "outputs": [
    {
     "name": "stdout",
     "output_type": "stream",
     "text": [
      "          gameId  game_datetime  game_length  \\\n",
      "0  KR_7004319615  1711529215362  2305.195557   \n",
      "\n",
      "                                                            game_version  \\\n",
      "0  Version 14.6.570.6276 (Mar 25 2024/14:00:15) [PUBLIC] <Releases/14.6>   \n",
      "\n",
      "                                                                                                                                                                                                                                                                                                                                                                                                                                                                                                                                                                                                                                                                                                                                                                                                                                                                                                                                                                                                                                                                                                                                                                                                                                                                                                                                                                                                                                                                                                                                                                                                                                                                                                                                                                                                                                                                                                                                                                                                                                                                                                                                                                                                                                                                                                                                                                                                                                                                                                                                                                                                                                                                                                                                                                                                                                                                                                                                                                                                                                                                                                                                                                                                                                                                                                                                                                                                                                                                                                                                                                                                                                                                                                                                                                                                                                                                                                                                                                 participants  \n",
      "0  {'augments': ['TFT6_Augment_ThreesCompany', 'TFT9_Augment_HealingOrbsI', 'TFT9_Augment_OldMansWalkingStick'], 'companion': {'content_ID': 'a9d00460-7cd2-4f6a-8669-21d6eb2838e9', 'item_ID': 74002, 'skin_ID': 2, 'species': 'PetChibiIrelia'}, 'gold_left': 0, 'last_round': 38, 'level': 9, 'missions': {'Assists': 0, 'DamageDealt': 1, 'DamageDealtToObjectives': 181582, 'DamageDealtToTurrets': 2, 'DamageTaken': 0, 'Deaths': 15, 'DoubleKills': 0, 'GoldEarned': 0, 'GoldSpent': 0, 'InhibitorsDestroyed': 0, 'KillingSprees': 17, 'Kills': 0, 'LargestKillingSpree': 57948, 'LargestMultiKill': 146675, 'MagicDamageDealt': 0, 'MagicDamageDealtToChampions': 0, 'MagicDamageTaken': 0, 'NeutralMinionsKilledTeamJungle': 0, 'PentaKills': 1, 'PhysicalDamageDealt': 0, 'PhysicalDamageDealtToChampions': 30, 'PhysicalDamageTaken': 3, 'PlayerScore0': 3, 'PlayerScore1': 8, 'PlayerScore10': 0, 'PlayerScore11': 0, 'PlayerScore2': 215, 'PlayerScore3': 0, 'PlayerScore4': 1, 'PlayerScore5': 1, 'PlayerScore6': 10, 'PlayerScore9': 0, 'QuadraKills': 0, 'Spell1Casts': 0, 'Spell2Casts': 1, 'Spell3Casts': 16, 'Spell4Casts': 11234, 'SummonerSpell1Casts': 0, 'TimeCCOthers': 2, 'TotalDamageDealtToChampions': 0, 'TotalMinionsKilled': 0, 'TripleKills': 0, 'TrueDamageDealt': 1, 'TrueDamageDealtToChampions': 62, 'TrueDamageTaken': 8, 'UnrealKills': 1, 'VisionScore': 1, 'WardsKilled': 61}, 'placement': 3, 'players_eliminated': 0, 'puuid': 'iCcuYtTqqr1BKUjBwIDfE1FWhLj4Nog495kIOrxNqEfWq6iboiWi8epQ443aAIBGsy4ej3pdRyrfuQ', 'time_eliminated': 2150.0068359375, 'total_damage_to_players': 154, 'traits': [{'name': 'TFT11_Altruist', 'num_units': 1, 'style': 0, 'tier_current': 0, 'tier_total': 3}, {'name': 'TFT11_Arcanist', 'num_units': 2, 'style': 1, 'tier_current': 1, 'tier_total': 4}, {'name': 'TFT11_Bruiser', 'num_units': 2, 'style': 1, 'tier_current': 1, 'tier_total': 4}, {'name': 'TFT11_Duelist', 'num_units': 1, 'style': 0, 'tier_current': 0, 'tier_total': 4}, {'name': 'TFT11_Fortune', 'num_units': 1, 'style': 0, 'tier_current': 0, 'tier_total': 3}, {'name': 'TFT11_Ghostly', 'num_units': 2, 'style': 1, 'tier_current': 1, 'tier_total': 4}, {'name': 'TFT11_Great', 'num_units': 1, 'style': 5, 'tier_current': 1, 'tier_total': 1}, {'name': 'TFT11_Heavenly', 'num_units': 1, 'style': 0, 'tier_current': 0, 'tier_total': 6}, {'name': 'TFT11_Sage', 'num_units': 3, 'style': 2, 'tier_current': 2, 'tier_total': 4}, {'name': 'TFT11_Storyweaver', 'num_units': 7, 'style': 3, 'tier_current': 3, 'tier_total': 4}, {'name': 'TFT11_Warden', 'num_units': 2, 'style': 1, 'tier_current': 1, 'tier_total': 3}], 'units': [{'character_id': 'TFT11_Garen', 'itemNames': [], 'name': '', 'rarity': 0, 'tier': 2}, {'character_id': 'TFT11_Riven', 'itemNames': [], 'name': '', 'rarity': 1, 'tier': 2}, {'character_id': 'TFT11_Zyra', 'itemNames': [], 'name': '', 'rarity': 1, 'tier': 2}, {'character_id': 'TFT11_Illaoi', 'itemNames': ['TFT_Item_GargoyleStoneplate', 'TFT_Item_DragonsClaw', 'TFT_Item_RedBuff'], 'name': '', 'rarity': 2, 'tier': 2}, {'character_id': 'TFT11_Zoe', 'itemNames': ['TFT_Item_Leviathan', 'TFT_Item_Morellonomicon'], 'name': '', 'rarity': 2, 'tier': 2}, {'character_id': 'TFT11_Morgana', 'itemNames': ['TFT11_Item_StoryweaverEmblemItem', 'TFT_Item_SpearOfShojin', 'TFT_Item_JeweledGauntlet'], 'name': '', 'rarity': 4, 'tier': 2}, {'character_id': 'TFT11_Galio', 'itemNames': [], 'name': '', 'rarity': 4, 'tier': 2}, {'character_id': 'TFT11_Irelia', 'itemNames': ['TFT_Item_GuinsoosRageblade', 'TFT_Item_RunaansHurricane', 'TFT_Item_Bloodthirster'], 'name': '', 'rarity': 6, 'tier': 2}, {'character_id': 'TFT11_WuKong', 'itemNames': [], 'name': '', 'rarity': 6, 'tier': 1}, {'character_id': 'TFT11_Kayle', 'itemNames': ['TFT11_Storyweaver7_AS', 'TFT11_Storyweaver5_AS', 'TFT11_Storyweaver3_Support'], 'name': '', 'rarity': 9, 'tier': 3}]}  \n"
     ]
    }
   ],
   "source": [
    "# 저장한 csv 파일 가져오기\n",
    "game_results_df = pd.read_csv('C:/Users/user/Documents/GitHub/Final-Project-A09-/game_results_raw_data.csv')"
   ]
  },
  {
   "cell_type": "code",
   "execution_count": 124,
   "metadata": {},
   "outputs": [
    {
     "name": "stdout",
     "output_type": "stream",
     "text": [
      "object\n"
     ]
    }
   ],
   "source": [
    "# 'participants' 컬럼의 데이터 타입 확인\n",
    "print(game_results_df['participants'].dtype)"
   ]
  },
  {
   "cell_type": "markdown",
   "metadata": {},
   "source": [
    "##### 데이터 타입이 object 이므로 json(dictionary) 형식으로 변환"
   ]
  },
  {
   "cell_type": "code",
   "execution_count": 127,
   "metadata": {},
   "outputs": [],
   "source": [
    "# 'participants' 열의 데이터를 JSON으로 변환하여 사전 형태로 저장하는 함수\n",
    "def parse_participants(participants_str):\n",
    "    try:\n",
    "        participants_dict = json.loads(participants_str.replace(\"'\", \"\\\"\")) # JSON 형식으로 변환하고 따옴표를 쌍 따옴표로 변경\n",
    "        return participants_dict\n",
    "    except json.JSONDecodeError:\n",
    "        return None"
   ]
  },
  {
   "cell_type": "markdown",
   "metadata": {},
   "source": [
    "##### 변환해준 테이블을 normalize 해준 새로운 테이블 생성"
   ]
  },
  {
   "cell_type": "code",
   "execution_count": 128,
   "metadata": {},
   "outputs": [
    {
     "name": "stdout",
     "output_type": "stream",
     "text": [
      "<class 'pandas.core.frame.DataFrame'>\n",
      "RangeIndex: 4712 entries, 0 to 4711\n",
      "Data columns (total 11 columns):\n",
      " #   Column         Non-Null Count  Dtype  \n",
      "---  ------         --------------  -----  \n",
      " 0   gameId         4712 non-null   object \n",
      " 1   game_datetime  4712 non-null   int64  \n",
      " 2   game_length    4712 non-null   float64\n",
      " 3   game_version   4712 non-null   object \n",
      " 4   puuid          4712 non-null   object \n",
      " 5   placement      4712 non-null   int64  \n",
      " 6   last_round     4712 non-null   int64  \n",
      " 7   level          4712 non-null   int64  \n",
      " 8   augments       4712 non-null   object \n",
      " 9   traits         4712 non-null   object \n",
      " 10  units          4712 non-null   object \n",
      "dtypes: float64(1), int64(4), object(6)\n",
      "memory usage: 405.1+ KB\n"
     ]
    }
   ],
   "source": [
    "# 새로운 데이터프레임 생성\n",
    "participants_df = game_results_df[['gameId', 'game_datetime', 'game_length', 'game_version']].copy()\n",
    "\n",
    "\n",
    "# 'participants' 열의 데이터를 JSON으로 변환하여 사전 형태로 저장\n",
    "participants_df['participants_dict'] = game_results_df['participants'].apply(parse_participants)\n",
    "\n",
    "\n",
    "## 'participants_dict' 열에서 필요한 정보 추출하여 새로운 열 생성\n",
    "# 'participants' 컬럼의 데이터에서 'puuid' 값을 추출하여 새로운 열 생성  # 유저 식별자\n",
    "\n",
    "participants_df['puuid'] = participants_df['participants_dict'].apply(lambda x: x['puuid'] if isinstance(x, dict) and 'puuid' in x else None)\n",
    "\n",
    "# 'placement'  # 최종 등수\n",
    "\n",
    "participants_df['placement'] = participants_df['participants_dict'].apply(lambda x: x['placement'] if isinstance(x, dict) and 'placement' in x else None)\n",
    "\n",
    "# 'last_round'  # 버틴 라운드 수\n",
    "\n",
    "participants_df['last_round'] = participants_df['participants_dict'].apply(lambda x: x['last_round'] if isinstance(x, dict) and 'last_round' in x else None)\n",
    "\n",
    "# 'level'  # 경기 종료 시 플레이어 레벨\n",
    "\n",
    "participants_df['level'] = participants_df['participants_dict'].apply(lambda x: x['level'] if isinstance(x, dict) and 'level' in x else None)\n",
    "\n",
    "# 'Augments'  # 경기 종료 시 보유한 증강체\n",
    "\n",
    "participants_df['augments'] = participants_df['participants_dict'].apply(lambda x: x['augments'] if isinstance(x, dict) and 'augments' in x else None)\n",
    "\n",
    "# 'traits'  # 경기 종료 시 활성화된 시너지\n",
    "\n",
    "participants_df['traits'] = participants_df['participants_dict'].apply(lambda x: x['traits'] if isinstance(x, dict) and 'traits' in x else None)\n",
    "\n",
    "# 'units'  # 경기 종료시 가지고 있는 유닛, 장착된 아이템\n",
    "\n",
    "participants_df['units'] = participants_df['participants_dict'].apply(lambda x: x['units'] if isinstance(x, dict) and 'units' in x else None)\n",
    "\n",
    "# 'participants_dict' 열은 더 이상 필요 없으므로 제거\n",
    "\n",
    "participants_df.drop(columns=['participants_dict'], inplace=True)\n",
    "\n",
    "# 결과 확인\n",
    "participants_df.info()"
   ]
  },
  {
   "cell_type": "markdown",
   "metadata": {},
   "source": [
    "##### 최종 결과 확인 및  csv 파일로 저장"
   ]
  },
  {
   "cell_type": "code",
   "execution_count": 129,
   "metadata": {},
   "outputs": [
    {
     "name": "stdout",
     "output_type": "stream",
     "text": [
      "<class 'pandas.core.frame.DataFrame'>\n",
      "RangeIndex: 4712 entries, 0 to 4711\n",
      "Data columns (total 11 columns):\n",
      " #   Column         Non-Null Count  Dtype  \n",
      "---  ------         --------------  -----  \n",
      " 0   gameId         4712 non-null   object \n",
      " 1   game_datetime  4712 non-null   int64  \n",
      " 2   game_length    4712 non-null   float64\n",
      " 3   game_version   4712 non-null   object \n",
      " 4   puuid          4712 non-null   object \n",
      " 5   placement      4712 non-null   int64  \n",
      " 6   last_round     4712 non-null   int64  \n",
      " 7   level          4712 non-null   int64  \n",
      " 8   augments       4712 non-null   object \n",
      " 9   traits         4712 non-null   object \n",
      " 10  units          4712 non-null   object \n",
      "dtypes: float64(1), int64(4), object(6)\n",
      "memory usage: 405.1+ KB\n"
     ]
    }
   ],
   "source": [
    "# 새로운 데이터프레임 생성\n",
    "participants_df = game_results_df[['gameId', 'game_datetime', 'game_length', 'game_version']].copy()\n",
    "\n",
    "\n",
    "# 'participants' 열의 데이터를 JSON으로 변환하여 사전 형태로 저장\n",
    "participants_df['participants_dict'] = game_results_df['participants'].apply(parse_participants)\n",
    "\n",
    "\n",
    "## 'participants_dict' 열에서 필요한 정보 추출하여 새로운 열 생성\n",
    "# 'participants' 컬럼의 데이터에서 'puuid' 값을 추출하여 새로운 열 생성  # 유저 식별자\n",
    "\n",
    "participants_df['puuid'] = participants_df['participants_dict'].apply(lambda x: x['puuid'] if isinstance(x, dict) and 'puuid' in x else None)\n",
    "\n",
    "# 'placement'  # 최종 등수\n",
    "\n",
    "participants_df['placement'] = participants_df['participants_dict'].apply(lambda x: x['placement'] if isinstance(x, dict) and 'placement' in x else None)\n",
    "\n",
    "# 'last_round'  # 버틴 라운드 수\n",
    "\n",
    "participants_df['last_round'] = participants_df['participants_dict'].apply(lambda x: x['last_round'] if isinstance(x, dict) and 'last_round' in x else None)\n",
    "\n",
    "# 'level'  # 경기 종료 시 플레이어 레벨\n",
    "\n",
    "participants_df['level'] = participants_df['participants_dict'].apply(lambda x: x['level'] if isinstance(x, dict) and 'level' in x else None)\n",
    "\n",
    "# 'Augments'  # 경기 종료 시 보유한 증강체\n",
    "\n",
    "participants_df['augments'] = participants_df['participants_dict'].apply(lambda x: x['augments'] if isinstance(x, dict) and 'augments' in x else None)\n",
    "\n",
    "# 'traits'  # 경기 종료 시 활성화된 시너지\n",
    "\n",
    "participants_df['traits'] = participants_df['participants_dict'].apply(lambda x: x['traits'] if isinstance(x, dict) and 'traits' in x else None)\n",
    "\n",
    "# 'units'  # 경기 종료시 가지고 있는 유닛, 장착된 아이템\n",
    "\n",
    "participants_df['units'] = participants_df['participants_dict'].apply(lambda x: x['units'] if isinstance(x, dict) and 'units' in x else None)\n",
    "\n",
    "# 'participants_dict' 열은 더 이상 필요 없으므로 제거\n",
    "\n",
    "participants_df.drop(columns=['participants_dict'], inplace=True)\n",
    "\n",
    "# 결과 확인\n",
    "participants_df.info()"
   ]
  },
  {
   "cell_type": "code",
   "execution_count": 131,
   "metadata": {},
   "outputs": [],
   "source": [
    "# csv 파일로 저장\n",
    "participants_df.to_csv('game_results_of_each_participants.csv', index=False)"
   ]
  }
 ],
 "metadata": {
  "kernelspec": {
   "display_name": "Python 3",
   "language": "python",
   "name": "python3"
  },
  "language_info": {
   "codemirror_mode": {
    "name": "ipython",
    "version": 3
   },
   "file_extension": ".py",
   "mimetype": "text/x-python",
   "name": "python",
   "nbconvert_exporter": "python",
   "pygments_lexer": "ipython3",
   "version": "3.8.6"
  }
 },
 "nbformat": 4,
 "nbformat_minor": 2
}
