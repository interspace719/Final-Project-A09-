{
 "cells": [
  {
   "cell_type": "code",
   "execution_count": 251,
   "metadata": {},
   "outputs": [],
   "source": [
    "import pandas as pd\n",
    "import requests\n",
    "import pprint\n",
    "import json\n",
    "import time\n",
    "from pandas import json_normalize\n",
    "import ast\n",
    "\n",
    "# 최대 출력 컬럼 제한 해제\n",
    "pd.set_option('display.max_colwidth', None)"
   ]
  },
  {
   "cell_type": "code",
   "execution_count": 252,
   "metadata": {},
   "outputs": [
    {
     "data": {
      "text/html": [
       "<div>\n",
       "<style scoped>\n",
       "    .dataframe tbody tr th:only-of-type {\n",
       "        vertical-align: middle;\n",
       "    }\n",
       "\n",
       "    .dataframe tbody tr th {\n",
       "        vertical-align: top;\n",
       "    }\n",
       "\n",
       "    .dataframe thead th {\n",
       "        text-align: right;\n",
       "    }\n",
       "</style>\n",
       "<table border=\"1\" class=\"dataframe\">\n",
       "  <thead>\n",
       "    <tr style=\"text-align: right;\">\n",
       "      <th></th>\n",
       "      <th>gameId</th>\n",
       "      <th>game_datetime</th>\n",
       "      <th>game_length</th>\n",
       "      <th>game_version</th>\n",
       "      <th>puuid</th>\n",
       "      <th>placement</th>\n",
       "      <th>last_round</th>\n",
       "      <th>level</th>\n",
       "      <th>이타심</th>\n",
       "      <th>거대 괴수</th>\n",
       "      <th>...</th>\n",
       "      <th>쓰레쉬</th>\n",
       "      <th>초가스</th>\n",
       "      <th>말파이트</th>\n",
       "      <th>가렌</th>\n",
       "      <th>티모</th>\n",
       "      <th>자야</th>\n",
       "      <th>Combination</th>\n",
       "      <th>unit_based_cluster</th>\n",
       "      <th>traits_based_cluster</th>\n",
       "      <th>units_and_traits_cluster</th>\n",
       "    </tr>\n",
       "  </thead>\n",
       "  <tbody>\n",
       "    <tr>\n",
       "      <th>9283</th>\n",
       "      <td>KR_7005139736</td>\n",
       "      <td>1711571877752</td>\n",
       "      <td>2173.421143</td>\n",
       "      <td>Version 14.6.570.6276 (Mar 25 2024/14:00:15) [PUBLIC] &lt;Releases/14.6&gt;</td>\n",
       "      <td>sMD7iMyWZ2ztcGvcYyXf92yYF6ui0ipF8UInDkKm6wMnJc7abC_rkU3WJokvCuiO4Rln3ltQCc3xTw</td>\n",
       "      <td>4</td>\n",
       "      <td>33</td>\n",
       "      <td>10</td>\n",
       "      <td>2</td>\n",
       "      <td>0</td>\n",
       "      <td>...</td>\n",
       "      <td>0</td>\n",
       "      <td>0</td>\n",
       "      <td>0</td>\n",
       "      <td>0</td>\n",
       "      <td>0</td>\n",
       "      <td>0</td>\n",
       "      <td>TFT11_Riven, TFT11_Galio, TFT11_Kayle, TFT11_Soraka, TFT11_Diana, TFT11_Hwei, TFT11_Rakan, TFT11_WuKong, TFT11_Lissandra, TFT11_LeeSin, TFT11_Irelia</td>\n",
       "      <td>1</td>\n",
       "      <td>2</td>\n",
       "      <td>13</td>\n",
       "    </tr>\n",
       "    <tr>\n",
       "      <th>9284</th>\n",
       "      <td>KR_7005139736</td>\n",
       "      <td>1711571877752</td>\n",
       "      <td>2173.421143</td>\n",
       "      <td>Version 14.6.570.6276 (Mar 25 2024/14:00:15) [PUBLIC] &lt;Releases/14.6&gt;</td>\n",
       "      <td>4W5dMgFaI2qWXtzftLCjec16RypS_e_0BaHIynnzUApIEjpzmow5edpCgoq2Z7R4wwe8AhejYgf_sw</td>\n",
       "      <td>3</td>\n",
       "      <td>34</td>\n",
       "      <td>9</td>\n",
       "      <td>1</td>\n",
       "      <td>1</td>\n",
       "      <td>...</td>\n",
       "      <td>0</td>\n",
       "      <td>0</td>\n",
       "      <td>0</td>\n",
       "      <td>0</td>\n",
       "      <td>0</td>\n",
       "      <td>0</td>\n",
       "      <td>TFT11_Udyr, TFT11_Ornn, TFT11_Azir, TFT11_Janna, TFT11_Soraka, TFT11_Diana, TFT11_Rakan, TFT11_WuKong, TFT11_Morgana</td>\n",
       "      <td>18</td>\n",
       "      <td>11</td>\n",
       "      <td>0</td>\n",
       "    </tr>\n",
       "    <tr>\n",
       "      <th>9285</th>\n",
       "      <td>KR_7005139736</td>\n",
       "      <td>1711571877752</td>\n",
       "      <td>2173.421143</td>\n",
       "      <td>Version 14.6.570.6276 (Mar 25 2024/14:00:15) [PUBLIC] &lt;Releases/14.6&gt;</td>\n",
       "      <td>m-WJmbLS17zaoDDdN1NjqRMGuXkZChReSv8-36lQ32zgt2-TJU4Noj7CY246rk6qA0WmYVOE4kTogQ</td>\n",
       "      <td>1</td>\n",
       "      <td>37</td>\n",
       "      <td>8</td>\n",
       "      <td>0</td>\n",
       "      <td>1</td>\n",
       "      <td>...</td>\n",
       "      <td>3</td>\n",
       "      <td>0</td>\n",
       "      <td>0</td>\n",
       "      <td>0</td>\n",
       "      <td>0</td>\n",
       "      <td>0</td>\n",
       "      <td>TFT11_Lissandra, TFT11_Illaoi, TFT11_Ashe, TFT11_Lux, TFT11_Amumu, TFT11_Syndra, TFT11_Aphelios, TFT11_Thresh</td>\n",
       "      <td>0</td>\n",
       "      <td>4</td>\n",
       "      <td>3</td>\n",
       "    </tr>\n",
       "    <tr>\n",
       "      <th>9286</th>\n",
       "      <td>KR_7005139736</td>\n",
       "      <td>1711571877752</td>\n",
       "      <td>2173.421143</td>\n",
       "      <td>Version 14.6.570.6276 (Mar 25 2024/14:00:15) [PUBLIC] &lt;Releases/14.6&gt;</td>\n",
       "      <td>eJBg1EVkQRS4fXbZKDAkyuQuYzL-kF1Ps7NOxHuwiAQ29VZgBEi20Je7sbVtqV-m-Y6ArWw2Hck5Iw</td>\n",
       "      <td>6</td>\n",
       "      <td>28</td>\n",
       "      <td>8</td>\n",
       "      <td>0</td>\n",
       "      <td>0</td>\n",
       "      <td>...</td>\n",
       "      <td>0</td>\n",
       "      <td>0</td>\n",
       "      <td>0</td>\n",
       "      <td>0</td>\n",
       "      <td>0</td>\n",
       "      <td>0</td>\n",
       "      <td>TFT11_Shen, TFT11_Caitlyn, TFT11_Jax, TFT11_Aatrox, TFT11_Senna, TFT11_Morgana, TFT11_Kayn, TFT11_Illaoi</td>\n",
       "      <td>6</td>\n",
       "      <td>9</td>\n",
       "      <td>4</td>\n",
       "    </tr>\n",
       "    <tr>\n",
       "      <th>9287</th>\n",
       "      <td>KR_7005139736</td>\n",
       "      <td>1711571877752</td>\n",
       "      <td>2173.421143</td>\n",
       "      <td>Version 14.6.570.6276 (Mar 25 2024/14:00:15) [PUBLIC] &lt;Releases/14.6&gt;</td>\n",
       "      <td>H7I8YjZ_H49ijjt7z4b6CZKJ0up1ug51YNS_PUhLR4p6cUAbQf0Vr91bpmtC2fQ4_DTZj_Hxl5OTlg</td>\n",
       "      <td>5</td>\n",
       "      <td>31</td>\n",
       "      <td>8</td>\n",
       "      <td>0</td>\n",
       "      <td>1</td>\n",
       "      <td>...</td>\n",
       "      <td>2</td>\n",
       "      <td>0</td>\n",
       "      <td>0</td>\n",
       "      <td>0</td>\n",
       "      <td>0</td>\n",
       "      <td>0</td>\n",
       "      <td>TFT11_Illaoi, TFT11_Ashe, TFT11_Yorick, TFT11_Sett, TFT11_Amumu, TFT11_Syndra, TFT11_Aphelios, TFT11_Thresh</td>\n",
       "      <td>0</td>\n",
       "      <td>16</td>\n",
       "      <td>3</td>\n",
       "    </tr>\n",
       "  </tbody>\n",
       "</table>\n",
       "<p>5 rows × 100 columns</p>\n",
       "</div>"
      ],
      "text/plain": [
       "             gameId  game_datetime  game_length  \\\n",
       "9283  KR_7005139736  1711571877752  2173.421143   \n",
       "9284  KR_7005139736  1711571877752  2173.421143   \n",
       "9285  KR_7005139736  1711571877752  2173.421143   \n",
       "9286  KR_7005139736  1711571877752  2173.421143   \n",
       "9287  KR_7005139736  1711571877752  2173.421143   \n",
       "\n",
       "                                                               game_version  \\\n",
       "9283  Version 14.6.570.6276 (Mar 25 2024/14:00:15) [PUBLIC] <Releases/14.6>   \n",
       "9284  Version 14.6.570.6276 (Mar 25 2024/14:00:15) [PUBLIC] <Releases/14.6>   \n",
       "9285  Version 14.6.570.6276 (Mar 25 2024/14:00:15) [PUBLIC] <Releases/14.6>   \n",
       "9286  Version 14.6.570.6276 (Mar 25 2024/14:00:15) [PUBLIC] <Releases/14.6>   \n",
       "9287  Version 14.6.570.6276 (Mar 25 2024/14:00:15) [PUBLIC] <Releases/14.6>   \n",
       "\n",
       "                                                                               puuid  \\\n",
       "9283  sMD7iMyWZ2ztcGvcYyXf92yYF6ui0ipF8UInDkKm6wMnJc7abC_rkU3WJokvCuiO4Rln3ltQCc3xTw   \n",
       "9284  4W5dMgFaI2qWXtzftLCjec16RypS_e_0BaHIynnzUApIEjpzmow5edpCgoq2Z7R4wwe8AhejYgf_sw   \n",
       "9285  m-WJmbLS17zaoDDdN1NjqRMGuXkZChReSv8-36lQ32zgt2-TJU4Noj7CY246rk6qA0WmYVOE4kTogQ   \n",
       "9286  eJBg1EVkQRS4fXbZKDAkyuQuYzL-kF1Ps7NOxHuwiAQ29VZgBEi20Je7sbVtqV-m-Y6ArWw2Hck5Iw   \n",
       "9287  H7I8YjZ_H49ijjt7z4b6CZKJ0up1ug51YNS_PUhLR4p6cUAbQf0Vr91bpmtC2fQ4_DTZj_Hxl5OTlg   \n",
       "\n",
       "      placement  last_round  level  이타심  거대 괴수  ...  쓰레쉬  초가스  말파이트  가렌  티모  \\\n",
       "9283          4          33     10    2      0  ...    0    0     0   0   0   \n",
       "9284          3          34      9    1      1  ...    0    0     0   0   0   \n",
       "9285          1          37      8    0      1  ...    3    0     0   0   0   \n",
       "9286          6          28      8    0      0  ...    0    0     0   0   0   \n",
       "9287          5          31      8    0      1  ...    2    0     0   0   0   \n",
       "\n",
       "      자야  \\\n",
       "9283   0   \n",
       "9284   0   \n",
       "9285   0   \n",
       "9286   0   \n",
       "9287   0   \n",
       "\n",
       "                                                                                                                                               Combination  \\\n",
       "9283  TFT11_Riven, TFT11_Galio, TFT11_Kayle, TFT11_Soraka, TFT11_Diana, TFT11_Hwei, TFT11_Rakan, TFT11_WuKong, TFT11_Lissandra, TFT11_LeeSin, TFT11_Irelia   \n",
       "9284                                  TFT11_Udyr, TFT11_Ornn, TFT11_Azir, TFT11_Janna, TFT11_Soraka, TFT11_Diana, TFT11_Rakan, TFT11_WuKong, TFT11_Morgana   \n",
       "9285                                         TFT11_Lissandra, TFT11_Illaoi, TFT11_Ashe, TFT11_Lux, TFT11_Amumu, TFT11_Syndra, TFT11_Aphelios, TFT11_Thresh   \n",
       "9286                                              TFT11_Shen, TFT11_Caitlyn, TFT11_Jax, TFT11_Aatrox, TFT11_Senna, TFT11_Morgana, TFT11_Kayn, TFT11_Illaoi   \n",
       "9287                                           TFT11_Illaoi, TFT11_Ashe, TFT11_Yorick, TFT11_Sett, TFT11_Amumu, TFT11_Syndra, TFT11_Aphelios, TFT11_Thresh   \n",
       "\n",
       "      unit_based_cluster  traits_based_cluster  units_and_traits_cluster  \n",
       "9283                   1                     2                        13  \n",
       "9284                  18                    11                         0  \n",
       "9285                   0                     4                         3  \n",
       "9286                   6                     9                         4  \n",
       "9287                   0                    16                         3  \n",
       "\n",
       "[5 rows x 100 columns]"
      ]
     },
     "execution_count": 252,
     "metadata": {},
     "output_type": "execute_result"
    }
   ],
   "source": [
    "units_df = pd.read_csv('특성과 챔피언 컬럼 붙인 테이블.csv')\n",
    "\n",
    "units_df.tail()"
   ]
  },
  {
   "cell_type": "markdown",
   "metadata": {},
   "source": [
    "##### 각 컬럼의 1~3 을 1로 통일한 데이터 프레임으로 생성"
   ]
  },
  {
   "cell_type": "code",
   "execution_count": 253,
   "metadata": {},
   "outputs": [
    {
     "data": {
      "text/html": [
       "<div>\n",
       "<style scoped>\n",
       "    .dataframe tbody tr th:only-of-type {\n",
       "        vertical-align: middle;\n",
       "    }\n",
       "\n",
       "    .dataframe tbody tr th {\n",
       "        vertical-align: top;\n",
       "    }\n",
       "\n",
       "    .dataframe thead th {\n",
       "        text-align: right;\n",
       "    }\n",
       "</style>\n",
       "<table border=\"1\" class=\"dataframe\">\n",
       "  <thead>\n",
       "    <tr style=\"text-align: right;\">\n",
       "      <th></th>\n",
       "      <th>gameId</th>\n",
       "      <th>game_datetime</th>\n",
       "      <th>game_length</th>\n",
       "      <th>game_version</th>\n",
       "      <th>puuid</th>\n",
       "      <th>placement</th>\n",
       "      <th>last_round</th>\n",
       "      <th>level</th>\n",
       "      <th>이타심</th>\n",
       "      <th>거대 괴수</th>\n",
       "      <th>...</th>\n",
       "      <th>쓰레쉬</th>\n",
       "      <th>초가스</th>\n",
       "      <th>말파이트</th>\n",
       "      <th>가렌</th>\n",
       "      <th>티모</th>\n",
       "      <th>자야</th>\n",
       "      <th>Combination</th>\n",
       "      <th>unit_based_cluster</th>\n",
       "      <th>traits_based_cluster</th>\n",
       "      <th>units_and_traits_cluster</th>\n",
       "    </tr>\n",
       "  </thead>\n",
       "  <tbody>\n",
       "    <tr>\n",
       "      <th>0</th>\n",
       "      <td>KR_7005435650</td>\n",
       "      <td>1711611092537</td>\n",
       "      <td>2339.676514</td>\n",
       "      <td>Version 14.6.570.6276 (Mar 25 2024/14:00:15) [PUBLIC] &lt;Releases/14.6&gt;</td>\n",
       "      <td>BWLn3nfAuki-3ju22n-ni5exBESPlXaPsyF9bZ3uFeuvr1ks-ZL6B7x3SA_KVt_kNrHRfsg6VVk9YQ</td>\n",
       "      <td>7</td>\n",
       "      <td>28</td>\n",
       "      <td>8</td>\n",
       "      <td>0</td>\n",
       "      <td>1</td>\n",
       "      <td>...</td>\n",
       "      <td>0</td>\n",
       "      <td>0</td>\n",
       "      <td>0</td>\n",
       "      <td>0</td>\n",
       "      <td>0</td>\n",
       "      <td>0</td>\n",
       "      <td>TFT11_Sivir, TFT11_Riven, TFT11_Shen, TFT11_TahmKench, TFT11_Galio, TFT11_Kaisa, TFT11_Sylas, TFT11_Udyr, TFT11_Kayle</td>\n",
       "      <td>5</td>\n",
       "      <td>13</td>\n",
       "      <td>2</td>\n",
       "    </tr>\n",
       "  </tbody>\n",
       "</table>\n",
       "<p>1 rows × 100 columns</p>\n",
       "</div>"
      ],
      "text/plain": [
       "          gameId  game_datetime  game_length  \\\n",
       "0  KR_7005435650  1711611092537  2339.676514   \n",
       "\n",
       "                                                            game_version  \\\n",
       "0  Version 14.6.570.6276 (Mar 25 2024/14:00:15) [PUBLIC] <Releases/14.6>   \n",
       "\n",
       "                                                                            puuid  \\\n",
       "0  BWLn3nfAuki-3ju22n-ni5exBESPlXaPsyF9bZ3uFeuvr1ks-ZL6B7x3SA_KVt_kNrHRfsg6VVk9YQ   \n",
       "\n",
       "   placement  last_round  level  이타심  거대 괴수  ...  쓰레쉬  초가스  말파이트  가렌  티모  자야  \\\n",
       "0          7          28      8    0      1  ...    0    0     0   0   0   0   \n",
       "\n",
       "                                                                                                             Combination  \\\n",
       "0  TFT11_Sivir, TFT11_Riven, TFT11_Shen, TFT11_TahmKench, TFT11_Galio, TFT11_Kaisa, TFT11_Sylas, TFT11_Udyr, TFT11_Kayle   \n",
       "\n",
       "   unit_based_cluster  traits_based_cluster  units_and_traits_cluster  \n",
       "0                   5                    13                         2  \n",
       "\n",
       "[1 rows x 100 columns]"
      ]
     },
     "execution_count": 253,
     "metadata": {},
     "output_type": "execute_result"
    }
   ],
   "source": [
    "##'시비르'부터 '자야'까지의 컬럼값이 0인 경우를 제외하고 모두 1로 변경\n",
    "units_df_01 = units_df.copy()\n",
    "\n",
    "units_df_01.loc[:, '시비르':'자야'] = units_df_01.loc[:, '시비르':'자야'].applymap(lambda x: 0 if x == 0 else 1)\n",
    "              # 시비르 컬럼부터 자야 컬럼까지 모든행을 선택                         # 선택한 모든 데이터(applymap)에 람다 함수를 적용\n",
    "                                                                                 # 여기서 람다 함수는 x가 0이면 0 나머지는 1로 치환\n",
    "\n",
    "units_df_01.head(1)"
   ]
  },
  {
   "cell_type": "markdown",
   "metadata": {},
   "source": [
    "##### 각 챔피언의 등장 횟수 확인"
   ]
  },
  {
   "cell_type": "code",
   "execution_count": 254,
   "metadata": {},
   "outputs": [
    {
     "data": {
      "text/html": [
       "<div>\n",
       "<style scoped>\n",
       "    .dataframe tbody tr th:only-of-type {\n",
       "        vertical-align: middle;\n",
       "    }\n",
       "\n",
       "    .dataframe tbody tr th {\n",
       "        vertical-align: top;\n",
       "    }\n",
       "\n",
       "    .dataframe thead th {\n",
       "        text-align: right;\n",
       "    }\n",
       "</style>\n",
       "<table border=\"1\" class=\"dataframe\">\n",
       "  <thead>\n",
       "    <tr style=\"text-align: right;\">\n",
       "      <th></th>\n",
       "      <th>다이애나</th>\n",
       "      <th>리븐</th>\n",
       "      <th>오공</th>\n",
       "      <th>라칸</th>\n",
       "      <th>소라카</th>\n",
       "      <th>케일</th>\n",
       "      <th>흐웨이</th>\n",
       "      <th>오른</th>\n",
       "      <th>갈리오</th>\n",
       "      <th>우디르</th>\n",
       "      <th>...</th>\n",
       "      <th>볼리베어</th>\n",
       "      <th>럭스</th>\n",
       "      <th>가렌</th>\n",
       "      <th>트리스타나</th>\n",
       "      <th>초가스</th>\n",
       "      <th>티모</th>\n",
       "      <th>나르</th>\n",
       "      <th>렉사이</th>\n",
       "      <th>자야</th>\n",
       "      <th>코부코</th>\n",
       "    </tr>\n",
       "  </thead>\n",
       "  <tbody>\n",
       "    <tr>\n",
       "      <th>0</th>\n",
       "      <td>3074</td>\n",
       "      <td>2976</td>\n",
       "      <td>2950</td>\n",
       "      <td>2885</td>\n",
       "      <td>2775</td>\n",
       "      <td>2761</td>\n",
       "      <td>2641</td>\n",
       "      <td>2611</td>\n",
       "      <td>2426</td>\n",
       "      <td>2424</td>\n",
       "      <td>...</td>\n",
       "      <td>513</td>\n",
       "      <td>473</td>\n",
       "      <td>466</td>\n",
       "      <td>461</td>\n",
       "      <td>459</td>\n",
       "      <td>428</td>\n",
       "      <td>426</td>\n",
       "      <td>423</td>\n",
       "      <td>295</td>\n",
       "      <td>145</td>\n",
       "    </tr>\n",
       "  </tbody>\n",
       "</table>\n",
       "<p>1 rows × 61 columns</p>\n",
       "</div>"
      ],
      "text/plain": [
       "   다이애나    리븐    오공    라칸   소라카    케일   흐웨이    오른   갈리오   우디르  ...  볼리베어   럭스  \\\n",
       "0  3074  2976  2950  2885  2775  2761  2641  2611  2426  2424  ...   513  473   \n",
       "\n",
       "    가렌  트리스타나  초가스   티모   나르  렉사이   자야  코부코  \n",
       "0  466    461  459  428  426  423  295  145  \n",
       "\n",
       "[1 rows x 61 columns]"
      ]
     },
     "execution_count": 254,
     "metadata": {},
     "output_type": "execute_result"
    }
   ],
   "source": [
    "## 각 챔피언 컬럼중 0이 아닌 값의 갯수 = 전체 조합 데이터에서 각 챔피언의 등장 횟수\n",
    "\n",
    "# units_df의 해당 범위의 컬럼 중에서 0이 아닌 값들의 갯수를 구합니다.\n",
    "units_count = pd.DataFrame((units_df_01.loc[:, '시비르':'자야'] != 0).sum().sort_values(ascending=False))\n",
    "\n",
    "units_count.T"
   ]
  },
  {
   "cell_type": "markdown",
   "metadata": {},
   "source": [
    "#### 직접 그룹바이를 통해 덱 분류하기 위해 덱분류 기준 찾기"
   ]
  },
  {
   "cell_type": "markdown",
   "metadata": {},
   "source": [
    "기물의 유무나 시너지의 유무 조건을 조절하면서 적절한 기준을 찾기<br>\n",
    "시너지에 관해서는 보다 엄격한 기준이 제공되어야하며<br>\n",
    "챔피언의 경우 상징을 통한 유동성이 있을 수 있으므로, 덱의 아주 핵심이 되는 챔피언에 대해서만 기준을 정하는 것이 좋음<br>"
   ]
  },
  {
   "cell_type": "markdown",
   "metadata": {},
   "source": [
    "##### 신화 바드 리롤 덱 분류 작업"
   ]
  },
  {
   "cell_type": "code",
   "execution_count": 255,
   "metadata": {},
   "outputs": [
    {
     "data": {
      "text/plain": [
       "485"
      ]
     },
     "execution_count": 255,
     "metadata": {},
     "output_type": "execute_result"
    }
   ],
   "source": [
    "# 바드, 탐 켄치, 조이, 소라카 포함 / 카이사 티모 미포함\n",
    "bard_reroll = ((units_df['바드'] != 0) & \n",
    "               (units_df['탐 켄치'] != 0) & \n",
    "               (units_df['조이'] != 0)  & \n",
    "               (units_df['소라카'] != 0)& \n",
    "               (units_df['티모'] == 0) & \n",
    "               (units_df['카이사'] == 0)).sum()\n",
    "\n",
    "# 결과 출력\n",
    "bard_reroll"
   ]
  },
  {
   "cell_type": "code",
   "execution_count": 256,
   "metadata": {},
   "outputs": [
    {
     "data": {
      "text/plain": [
       "461"
      ]
     },
     "execution_count": 256,
     "metadata": {},
     "output_type": "execute_result"
    }
   ],
   "source": [
    "# 바드, 탐 켄치 포함 / 시너지 재주꾼 1 , 신화 1\n",
    "bard_reroll = ((units_df['바드'] != 0) & \n",
    "               (units_df['탐 켄치'] != 0) & \n",
    "               (units_df['재주꾼'] == 1) & \n",
    "               (units_df['신화'] == 1)).sum()\n",
    "\n",
    "# 결과 출력\n",
    "bard_reroll"
   ]
  },
  {
   "cell_type": "code",
   "execution_count": 257,
   "metadata": {},
   "outputs": [
    {
     "data": {
      "text/plain": [
       "381"
      ]
     },
     "execution_count": 257,
     "metadata": {},
     "output_type": "execute_result"
    }
   ],
   "source": [
    "# 바드, 탐 켄치 포함 / 시너지 재주꾼 1 , 신화 1\n",
    "bard_reroll = ((units_df['바드'] != 0) & \n",
    "               (units_df['탐 켄치'] != 0) & \n",
    "               (units_df['조이'] != 0) & \n",
    "               (units_df['소라카'] != 0) & \n",
    "               (units_df['니코'] != 0) & \n",
    "               (units_df['재주꾼'] == 1) & \n",
    "               (units_df['신화'] == 1) & \n",
    "               (units_df['이야기꾼'] == 1)).sum()\n",
    "\n",
    "# 결과 출력\n",
    "bard_reroll"
   ]
  },
  {
   "cell_type": "code",
   "execution_count": 258,
   "metadata": {},
   "outputs": [
    {
     "data": {
      "text/plain": [
       "479"
      ]
     },
     "execution_count": 258,
     "metadata": {},
     "output_type": "execute_result"
    }
   ],
   "source": [
    "# 바드, 탐 켄치, 소라카, 조이 포함 / 시너지 재주꾼 1 , 신화 1이상, 이야기꾼 1 이상\n",
    "## 재주꾼 상징은 사실상 만들기 불가하므로 변동가능한 시너지에서 배제\n",
    "## 첫번째 컨디션을 주었을 때와 숫자가 거의 유사하므로 채택\n",
    "\n",
    "신화_바드_리롤 = ((units_df['바드'] != 0) & \n",
    "            (units_df['탐 켄치'] != 0) & \n",
    "            (units_df['조이'] != 0) & \n",
    "            (units_df['소라카'] != 0) & \n",
    "            (units_df['니코'] != 0) & \n",
    "            (units_df['재주꾼'] == 1) & \n",
    "            (units_df['신화'] != 0) & \n",
    "            (units_df['이야기꾼'] != 0)).sum()\n",
    "\n",
    "# 결과 출력\n",
    "신화_바드_리롤"
   ]
  },
  {
   "cell_type": "markdown",
   "metadata": {},
   "source": [
    "##### 6난동꾼 덱"
   ]
  },
  {
   "cell_type": "code",
   "execution_count": 259,
   "metadata": {},
   "outputs": [
    {
     "data": {
      "text/plain": [
       "78"
      ]
     },
     "execution_count": 259,
     "metadata": {},
     "output_type": "execute_result"
    }
   ],
   "source": [
    "## 난동꾼 6시너지 이상\n",
    "난동꾼 = ((units_df['난동꾼'] >= 3)).sum()\n",
    "\n",
    "# 결과 출력\n",
    "난동꾼"
   ]
  },
  {
   "cell_type": "markdown",
   "metadata": {},
   "source": [
    "##### 난동 카이사 덱 분류 - 6난동 4재주꾼이어도 난동 카이사로 분류"
   ]
  },
  {
   "cell_type": "code",
   "execution_count": 260,
   "metadata": {},
   "outputs": [
    {
     "data": {
      "text/plain": [
       "229"
      ]
     },
     "execution_count": 260,
     "metadata": {},
     "output_type": "execute_result"
    }
   ],
   "source": [
    "## 카이사, 티모, 갈리오가 존재 / 재주꾼 4시너지 , 난동꾼 4시너지\n",
    "난동_카이사 = ((units_df['카이사'] != 0) & \n",
    "          (units_df['티모'] != 0) & \n",
    "          (units_df['갈리오'] != 0) & \n",
    "          (units_df['재주꾼'] == 2) & \n",
    "          (units_df['난동꾼'] == 2) & \n",
    "          (units_df['이야기꾼'] != 0)).sum()\n",
    "\n",
    "# 결과 출력\n",
    "난동_카이사"
   ]
  },
  {
   "cell_type": "markdown",
   "metadata": {},
   "source": [
    "##### 리롤 결투가 덱 분류"
   ]
  },
  {
   "cell_type": "code",
   "execution_count": 261,
   "metadata": {},
   "outputs": [
    {
     "data": {
      "text/plain": [
       "364"
      ]
     },
     "execution_count": 261,
     "metadata": {},
     "output_type": "execute_result"
    }
   ],
   "source": [
    "## 트리스타나, 볼리베어 2성 이상 / 결투가 3시너지 이상\n",
    "리롤_결투가 = ((units_df['볼리베어'] >= 2) & \n",
    "          (units_df['트리스타나'] >= 2) & \n",
    "          (units_df['결투가'] >= 3)).sum()\n",
    "\n",
    "# 결과 출력\n",
    "리롤_결투가"
   ]
  },
  {
   "cell_type": "markdown",
   "metadata": {},
   "source": [
    "##### 8 결투가 덱 분류 _ 트타, 볼베가 3성이더라도 곁투가 시너지가 8이면 8결투가로 분류"
   ]
  },
  {
   "cell_type": "code",
   "execution_count": 262,
   "metadata": {},
   "outputs": [
    {
     "data": {
      "text/plain": [
       "85"
      ]
     },
     "execution_count": 262,
     "metadata": {},
     "output_type": "execute_result"
    }
   ],
   "source": [
    "## 결투가 8시너지\n",
    "시너지8_결투가 = ((units_df['결투가'] >= 4)).sum()\n",
    "\n",
    "# 결과 출력\n",
    "시너지8_결투가"
   ]
  },
  {
   "cell_type": "markdown",
   "metadata": {},
   "source": [
    "##### 7 이야기꾼 덱 분류"
   ]
  },
  {
   "cell_type": "code",
   "execution_count": 263,
   "metadata": {},
   "outputs": [
    {
     "data": {
      "text/plain": [
       "360"
      ]
     },
     "execution_count": 263,
     "metadata": {},
     "output_type": "execute_result"
    }
   ],
   "source": [
    "## 카이사, 티모, 갈리오가 존재 / 재주꾼 4시너지 , 난동꾼 4시너지\n",
    "시너지7_이야기꾼 = ((units_df['이야기꾼'] >= 3)).sum()\n",
    "\n",
    "# 결과 출력\n",
    "시너지7_이야기꾼"
   ]
  },
  {
   "cell_type": "markdown",
   "metadata": {},
   "source": [
    "##### 6혼령 리롤덱 분류"
   ]
  },
  {
   "cell_type": "code",
   "execution_count": 264,
   "metadata": {},
   "outputs": [
    {
     "data": {
      "text/plain": [
       "395"
      ]
     },
     "execution_count": 264,
     "metadata": {},
     "output_type": "execute_result"
    }
   ],
   "source": [
    "## 세나, 쉔을 포함하면서 6혼령이 켜진덱\n",
    "혼령6_리롤 = ((units_df['세나'] != 0) & \n",
    "          (units_df['쉔'] != 0) & \n",
    "          (units_df['혼령'] >= 3)).sum()\n",
    "\n",
    "# 결과 출력\n",
    "혼령6_리롤"
   ]
  },
  {
   "cell_type": "markdown",
   "metadata": {},
   "source": [
    "##### 7필연덱 분류"
   ]
  },
  {
   "cell_type": "code",
   "execution_count": 265,
   "metadata": {},
   "outputs": [
    {
     "data": {
      "text/plain": [
       "402"
      ]
     },
     "execution_count": 265,
     "metadata": {},
     "output_type": "execute_result"
    }
   ],
   "source": [
    "## 7필연 시너지가 켜진 덱\n",
    "필연7 = ((units_df['필연'] >= 3)).sum()\n",
    "\n",
    "# 결과 출력\n",
    "필연7"
   ]
  },
  {
   "cell_type": "markdown",
   "metadata": {},
   "source": [
    "##### 필연 야스오 아리 리롤 분류 - 데이터 갯수 없어서 안해도됨"
   ]
  },
  {
   "cell_type": "code",
   "execution_count": 266,
   "metadata": {},
   "outputs": [
    {
     "data": {
      "text/plain": [
       "6"
      ]
     },
     "execution_count": 266,
     "metadata": {},
     "output_type": "execute_result"
    }
   ],
   "source": [
    "## 야스오, 아리가 3성이고 필연 시너지가 5이상 켜진 덱\n",
    "필연7 = ((units_df['야스오'] == 3) & (units_df['아리'] == 0) & (units_df['필연'] >= 2)).sum()\n",
    "\n",
    "# 결과 출력\n",
    "필연7"
   ]
  },
  {
   "cell_type": "markdown",
   "metadata": {},
   "source": [
    "##### 리롤 나르 세나 분류"
   ]
  },
  {
   "cell_type": "code",
   "execution_count": 267,
   "metadata": {},
   "outputs": [
    {
     "data": {
      "text/plain": [
       "280"
      ]
     },
     "execution_count": 267,
     "metadata": {},
     "output_type": "execute_result"
    }
   ],
   "source": [
    "## 세나, 나르를 포함하면서 숲지기 시너지를 켜준 덱\n",
    "나르_세나_리롤 = ((units_df['세나'] != 0) & (units_df['나르'] != 0) & (units_df['숲지기'] != 0)).sum()\n",
    "\n",
    "# 결과 출력\n",
    "나르_세나_리롤"
   ]
  },
  {
   "cell_type": "markdown",
   "metadata": {},
   "source": [
    "##### 6 암영 4사신 요네 덱 분류"
   ]
  },
  {
   "cell_type": "code",
   "execution_count": 268,
   "metadata": {},
   "outputs": [
    {
     "data": {
      "text/plain": [
       "93"
      ]
     },
     "execution_count": 268,
     "metadata": {},
     "output_type": "execute_result"
    }
   ],
   "source": [
    "## 요네를 포함하면서 암영 6시너지 사신 4시너지가 켜진 덱\n",
    "암영6_사신4 = ((units_df['요네'] >= 2) & (units_df['암영'] == 3)& (units_df['사신'] == 2)).sum()\n",
    "\n",
    "# 결과 출력\n",
    "암영6_사신4"
   ]
  },
  {
   "cell_type": "markdown",
   "metadata": {},
   "source": [
    "##### 6 천계덱 분류 (아마 천계 즈롯일듯)"
   ]
  },
  {
   "cell_type": "code",
   "execution_count": 269,
   "metadata": {},
   "outputs": [
    {
     "data": {
      "text/plain": [
       "209"
      ]
     },
     "execution_count": 269,
     "metadata": {},
     "output_type": "execute_result"
    }
   ],
   "source": [
    "## 천계 6시너지 이상이 켜진 덱\n",
    "천계 = ((units_df['천계'] >= 5)).sum()\n",
    "\n",
    "# 결과 출력\n",
    "천계"
   ]
  },
  {
   "cell_type": "markdown",
   "metadata": {},
   "source": [
    "##### 초코말케 리롤덱"
   ]
  },
  {
   "cell_type": "code",
   "execution_count": 270,
   "metadata": {},
   "outputs": [
    {
     "data": {
      "text/plain": [
       "274"
      ]
     },
     "execution_count": 270,
     "metadata": {},
     "output_type": "execute_result"
    }
   ],
   "source": [
    "## 초가스, 코그모, 말파이트, 케이틀린을 포함하면서 코그모 3성을 찍어준 덱\n",
    "초코말케_리롤 = ((units_df['코그모'] == 3) & (units_df['케이틀린'] != 0) & (units_df['초가스'] != 0)).sum()\n",
    "\n",
    "# 결과 출력\n",
    "초코말케_리롤"
   ]
  },
  {
   "cell_type": "markdown",
   "metadata": {},
   "source": [
    "##### 7신화 릴리아"
   ]
  },
  {
   "cell_type": "code",
   "execution_count": 271,
   "metadata": {},
   "outputs": [
    {
     "data": {
      "text/plain": [
       "106"
      ]
     },
     "execution_count": 271,
     "metadata": {},
     "output_type": "execute_result"
    }
   ],
   "source": [
    "## 7신화 시너지를 켜주로 릴리아가 들어간덱, 초코말케덱 제외를 위해 케이틀린이 없는 덱만 지정\n",
    "신화_릴리아 = ((units_df['릴리아'] == 2) & (units_df['신화'] >= 3) & (units_df['케이틀린'] == 0)).sum()\n",
    "\n",
    "# 결과 출력\n",
    "신화_릴리아"
   ]
  },
  {
   "cell_type": "markdown",
   "metadata": {},
   "source": [
    "##### 아펠 아무무 리롤덱"
   ]
  },
  {
   "cell_type": "code",
   "execution_count": 272,
   "metadata": {},
   "outputs": [
    {
     "data": {
      "text/plain": [
       "310"
      ]
     },
     "execution_count": 272,
     "metadata": {},
     "output_type": "execute_result"
    }
   ],
   "source": [
    "## 아펠, 아무무, 일라오이, 애쉬가 모두 있는 덱\n",
    "아펠_아무무_리롤 = ((units_df['아펠리오스'] >= 2) & (units_df['아무무'] >= 2) & (units_df['일라오이'] >= 2) & (units_df['애쉬'] >= 1) & (units_df['필연'] >= 1) & (units_df['저격수'] == 1)).sum()\n",
    "\n",
    "# 결과 출력\n",
    "아펠_아무무_리롤"
   ]
  },
  {
   "cell_type": "markdown",
   "metadata": {},
   "source": [
    "##### 6도자기 4파수꾼 - 데이터 갯수가 적어서 안하는 것도 고려 - 제외"
   ]
  },
  {
   "cell_type": "code",
   "execution_count": 273,
   "metadata": {},
   "outputs": [
    {
     "data": {
      "text/plain": [
       "11"
      ]
     },
     "execution_count": 273,
     "metadata": {},
     "output_type": "execute_result"
    }
   ],
   "source": [
    "## 6도자기 4파수꾼 시너지를 켜준덱\n",
    "도가지6_파수꾼4 = ((units_df['도자기'] >= 3) & (units_df['파수꾼'] >= 2)).sum()\n",
    "\n",
    "# 결과 출력\n",
    "도가지6_파수꾼4"
   ]
  },
  {
   "cell_type": "markdown",
   "metadata": {},
   "source": [
    "##### 6기원자 덱 분류"
   ]
  },
  {
   "cell_type": "code",
   "execution_count": 274,
   "metadata": {},
   "outputs": [
    {
     "data": {
      "text/plain": [
       "173"
      ]
     },
     "execution_count": 274,
     "metadata": {},
     "output_type": "execute_result"
    }
   ],
   "source": [
    "## 6기원자 시너지가 켜지면서 릴리아 애니가 들어간덱\n",
    "기원자6 = ((units_df['기원자'] >= 3) & (units_df['애니'] != 0) & (units_df['릴리아'] != 0)).sum()\n",
    "\n",
    "# 결과 출력\n",
    "기원자6"
   ]
  },
  {
   "cell_type": "markdown",
   "metadata": {},
   "source": [
    "##### 4 현자 모르가나"
   ]
  },
  {
   "cell_type": "code",
   "execution_count": 275,
   "metadata": {},
   "outputs": [
    {
     "data": {
      "text/plain": [
       "457"
      ]
     },
     "execution_count": 275,
     "metadata": {},
     "output_type": "execute_result"
    }
   ],
   "source": [
    "## 모르가나, 갈리오, 소라카, 케인, 리븐, 자이라 가 들어간덱\n",
    "현자4_모르가나 = ((units_df['모르가나'] != 0) & (units_df['갈리오'] >= 1) & (units_df['현자'] >= 2)).sum()\n",
    "\n",
    "## 결과 출력\n",
    "현자4_모르가나"
   ]
  },
  {
   "cell_type": "markdown",
   "metadata": {},
   "source": [
    "##### 4 용군주 밸류 덱"
   ]
  },
  {
   "cell_type": "code",
   "execution_count": 276,
   "metadata": {},
   "outputs": [
    {
     "data": {
      "text/plain": [
       "847"
      ]
     },
     "execution_count": 276,
     "metadata": {},
     "output_type": "execute_result"
    }
   ],
   "source": [
    "## 용군주 시너지가 켜진 덱중 오른이 들어간 덱\n",
    "용군주4_밸류 = ((units_df['용군주'] >= 3)).sum()\n",
    "\n",
    "# 결과 출력\n",
    "용군주4_밸류"
   ]
  },
  {
   "cell_type": "markdown",
   "metadata": {},
   "source": [
    "##### 용군주 흐웨이 밸류덱 분석 - 성공덱과 실패덱으로 분류"
   ]
  },
  {
   "cell_type": "code",
   "execution_count": 277,
   "metadata": {},
   "outputs": [
    {
     "data": {
      "text/plain": [
       "1494"
      ]
     },
     "execution_count": 277,
     "metadata": {},
     "output_type": "execute_result"
    }
   ],
   "source": [
    "## 용군주 시너지가 켜진 덱중 오른이 들어간 덱\n",
    "용군주_흐웨이_시도 = ((units_df['용군주'] >= 2) & (units_df['현자'] >= 1)).sum()\n",
    "\n",
    "# 결과 출력\n",
    "용군주_흐웨이_시도"
   ]
  },
  {
   "cell_type": "code",
   "execution_count": 278,
   "metadata": {},
   "outputs": [
    {
     "data": {
      "text/plain": [
       "486"
      ]
     },
     "execution_count": 278,
     "metadata": {},
     "output_type": "execute_result"
    }
   ],
   "source": [
    "## 우디르, 흐웨이, 오공, 다이애나, 우디르가 모두 들어간덱, 용군주 시너지가 3이상 켜진덱\n",
    "용군주_흐웨이_성공 = ((units_df['우디르'] != 0) & (units_df['흐웨이'] >= 1) & (units_df['오공'] != 0) & (units_df['다이애나'] != 0)& (units_df['라칸'] != 0)& (units_df['용군주'] >= 1)& (units_df['아지르'] != 0)).sum()\n",
    "\n",
    "용군주_흐웨이_성공"
   ]
  },
  {
   "cell_type": "markdown",
   "metadata": {},
   "source": [
    "##### 6비전 마법사 덱"
   ]
  },
  {
   "cell_type": "code",
   "execution_count": 279,
   "metadata": {},
   "outputs": [
    {
     "data": {
      "text/plain": [
       "131"
      ]
     },
     "execution_count": 279,
     "metadata": {},
     "output_type": "execute_result"
    }
   ],
   "source": [
    "## 6비전 마법사 시너지가 켜진덱\n",
    "비전마법사6 = ((units_df['비전 마법사'] >= 3)).sum()\n",
    "\n",
    "# 결과 출력\n",
    "비전마법사6"
   ]
  },
  {
   "cell_type": "markdown",
   "metadata": {},
   "source": [
    "##### 4파수꾼 4비전 마법사"
   ]
  },
  {
   "cell_type": "code",
   "execution_count": 280,
   "metadata": {},
   "outputs": [
    {
     "data": {
      "text/plain": [
       "55"
      ]
     },
     "execution_count": 280,
     "metadata": {},
     "output_type": "execute_result"
    }
   ],
   "source": [
    "## 4비전 마법사 4 파수꾼 시너지가 켜진덱\n",
    "파수꾼4_비전마법사4 = ((units_df['비전 마법사'] >= 2) & (units_df['파수꾼'] >= 2)).sum()\n",
    "\n",
    "# 결과 출력\n",
    "파수꾼4_비전마법사4"
   ]
  },
  {
   "cell_type": "markdown",
   "metadata": {},
   "source": [
    "##### 5먹그림자 카이사"
   ]
  },
  {
   "cell_type": "code",
   "execution_count": 281,
   "metadata": {},
   "outputs": [
    {
     "data": {
      "text/plain": [
       "49"
      ]
     },
     "execution_count": 281,
     "metadata": {},
     "output_type": "execute_result"
    }
   ],
   "source": [
    "## 카이사가 있고 5먹그림자 시너지가 켜진덱\n",
    "먹그림자5_카이사 = ((units_df['먹그림자'] >= 2) & (units_df['카이사'] >= 1)).sum()\n",
    "\n",
    "# 결과 출력\n",
    "먹그림자5_카이사"
   ]
  },
  {
   "cell_type": "markdown",
   "metadata": {},
   "source": [
    "##### 6거대괴수덱"
   ]
  },
  {
   "cell_type": "code",
   "execution_count": 282,
   "metadata": {},
   "outputs": [
    {
     "data": {
      "text/plain": [
       "38"
      ]
     },
     "execution_count": 282,
     "metadata": {},
     "output_type": "execute_result"
    }
   ],
   "source": [
    "## 거대괴수 6시너지 이상\n",
    "거대괴수 = ((units_df['거대 괴수'] >= 3)).sum()\n",
    "\n",
    "# 결과 출력\n",
    "거대괴수"
   ]
  },
  {
   "cell_type": "markdown",
   "metadata": {},
   "source": [
    "#### 앞에서 만든 덱 기준으로 데이터 라벨링 (덱 분류)"
   ]
  },
  {
   "cell_type": "code",
   "execution_count": 283,
   "metadata": {},
   "outputs": [
    {
     "data": {
      "text/html": [
       "<div>\n",
       "<style scoped>\n",
       "    .dataframe tbody tr th:only-of-type {\n",
       "        vertical-align: middle;\n",
       "    }\n",
       "\n",
       "    .dataframe tbody tr th {\n",
       "        vertical-align: top;\n",
       "    }\n",
       "\n",
       "    .dataframe thead th {\n",
       "        text-align: right;\n",
       "    }\n",
       "</style>\n",
       "<table border=\"1\" class=\"dataframe\">\n",
       "  <thead>\n",
       "    <tr style=\"text-align: right;\">\n",
       "      <th></th>\n",
       "      <th>gameId</th>\n",
       "      <th>game_datetime</th>\n",
       "      <th>game_length</th>\n",
       "      <th>game_version</th>\n",
       "      <th>puuid</th>\n",
       "      <th>placement</th>\n",
       "      <th>last_round</th>\n",
       "      <th>level</th>\n",
       "      <th>이타심</th>\n",
       "      <th>거대 괴수</th>\n",
       "      <th>...</th>\n",
       "      <th>쓰레쉬</th>\n",
       "      <th>초가스</th>\n",
       "      <th>말파이트</th>\n",
       "      <th>가렌</th>\n",
       "      <th>티모</th>\n",
       "      <th>자야</th>\n",
       "      <th>Combination</th>\n",
       "      <th>unit_based_cluster</th>\n",
       "      <th>traits_based_cluster</th>\n",
       "      <th>units_and_traits_cluster</th>\n",
       "    </tr>\n",
       "  </thead>\n",
       "  <tbody>\n",
       "    <tr>\n",
       "      <th>0</th>\n",
       "      <td>KR_7005435650</td>\n",
       "      <td>1711611092537</td>\n",
       "      <td>2339.676514</td>\n",
       "      <td>Version 14.6.570.6276 (Mar 25 2024/14:00:15) [PUBLIC] &lt;Releases/14.6&gt;</td>\n",
       "      <td>BWLn3nfAuki-3ju22n-ni5exBESPlXaPsyF9bZ3uFeuvr1ks-ZL6B7x3SA_KVt_kNrHRfsg6VVk9YQ</td>\n",
       "      <td>7</td>\n",
       "      <td>28</td>\n",
       "      <td>8</td>\n",
       "      <td>0</td>\n",
       "      <td>1</td>\n",
       "      <td>...</td>\n",
       "      <td>0</td>\n",
       "      <td>0</td>\n",
       "      <td>0</td>\n",
       "      <td>0</td>\n",
       "      <td>0</td>\n",
       "      <td>0</td>\n",
       "      <td>TFT11_Sivir, TFT11_Riven, TFT11_Shen, TFT11_TahmKench, TFT11_Galio, TFT11_Kaisa, TFT11_Sylas, TFT11_Udyr, TFT11_Kayle</td>\n",
       "      <td>5</td>\n",
       "      <td>13</td>\n",
       "      <td>2</td>\n",
       "    </tr>\n",
       "  </tbody>\n",
       "</table>\n",
       "<p>1 rows × 100 columns</p>\n",
       "</div>"
      ],
      "text/plain": [
       "          gameId  game_datetime  game_length  \\\n",
       "0  KR_7005435650  1711611092537  2339.676514   \n",
       "\n",
       "                                                            game_version  \\\n",
       "0  Version 14.6.570.6276 (Mar 25 2024/14:00:15) [PUBLIC] <Releases/14.6>   \n",
       "\n",
       "                                                                            puuid  \\\n",
       "0  BWLn3nfAuki-3ju22n-ni5exBESPlXaPsyF9bZ3uFeuvr1ks-ZL6B7x3SA_KVt_kNrHRfsg6VVk9YQ   \n",
       "\n",
       "   placement  last_round  level  이타심  거대 괴수  ...  쓰레쉬  초가스  말파이트  가렌  티모  자야  \\\n",
       "0          7          28      8    0      1  ...    0    0     0   0   0   0   \n",
       "\n",
       "                                                                                                             Combination  \\\n",
       "0  TFT11_Sivir, TFT11_Riven, TFT11_Shen, TFT11_TahmKench, TFT11_Galio, TFT11_Kaisa, TFT11_Sylas, TFT11_Udyr, TFT11_Kayle   \n",
       "\n",
       "   unit_based_cluster  traits_based_cluster  units_and_traits_cluster  \n",
       "0                   5                    13                         2  \n",
       "\n",
       "[1 rows x 100 columns]"
      ]
     },
     "execution_count": 283,
     "metadata": {},
     "output_type": "execute_result"
    }
   ],
   "source": [
    "deck_classify = units_df.copy()\n",
    "\n",
    "deck_classify.head(1)"
   ]
  },
  {
   "cell_type": "code",
   "execution_count": 284,
   "metadata": {},
   "outputs": [
    {
     "data": {
      "text/html": [
       "<div>\n",
       "<style scoped>\n",
       "    .dataframe tbody tr th:only-of-type {\n",
       "        vertical-align: middle;\n",
       "    }\n",
       "\n",
       "    .dataframe tbody tr th {\n",
       "        vertical-align: top;\n",
       "    }\n",
       "\n",
       "    .dataframe thead th {\n",
       "        text-align: right;\n",
       "    }\n",
       "</style>\n",
       "<table border=\"1\" class=\"dataframe\">\n",
       "  <thead>\n",
       "    <tr style=\"text-align: right;\">\n",
       "      <th></th>\n",
       "      <th>gameId</th>\n",
       "      <th>game_datetime</th>\n",
       "      <th>game_length</th>\n",
       "      <th>game_version</th>\n",
       "      <th>puuid</th>\n",
       "      <th>placement</th>\n",
       "      <th>last_round</th>\n",
       "      <th>level</th>\n",
       "      <th>이타심</th>\n",
       "      <th>거대 괴수</th>\n",
       "      <th>...</th>\n",
       "      <th>코부코</th>\n",
       "      <th>다리우스</th>\n",
       "      <th>아펠리오스</th>\n",
       "      <th>쓰레쉬</th>\n",
       "      <th>초가스</th>\n",
       "      <th>말파이트</th>\n",
       "      <th>가렌</th>\n",
       "      <th>티모</th>\n",
       "      <th>자야</th>\n",
       "      <th>Combination</th>\n",
       "    </tr>\n",
       "  </thead>\n",
       "  <tbody>\n",
       "    <tr>\n",
       "      <th>0</th>\n",
       "      <td>KR_7005435650</td>\n",
       "      <td>1711611092537</td>\n",
       "      <td>2339.676514</td>\n",
       "      <td>Version 14.6.570.6276 (Mar 25 2024/14:00:15) [PUBLIC] &lt;Releases/14.6&gt;</td>\n",
       "      <td>BWLn3nfAuki-3ju22n-ni5exBESPlXaPsyF9bZ3uFeuvr1ks-ZL6B7x3SA_KVt_kNrHRfsg6VVk9YQ</td>\n",
       "      <td>7</td>\n",
       "      <td>28</td>\n",
       "      <td>8</td>\n",
       "      <td>0</td>\n",
       "      <td>1</td>\n",
       "      <td>...</td>\n",
       "      <td>0</td>\n",
       "      <td>0</td>\n",
       "      <td>0</td>\n",
       "      <td>0</td>\n",
       "      <td>0</td>\n",
       "      <td>0</td>\n",
       "      <td>0</td>\n",
       "      <td>0</td>\n",
       "      <td>0</td>\n",
       "      <td>TFT11_Sivir, TFT11_Riven, TFT11_Shen, TFT11_TahmKench, TFT11_Galio, TFT11_Kaisa, TFT11_Sylas, TFT11_Udyr, TFT11_Kayle</td>\n",
       "    </tr>\n",
       "  </tbody>\n",
       "</table>\n",
       "<p>1 rows × 97 columns</p>\n",
       "</div>"
      ],
      "text/plain": [
       "          gameId  game_datetime  game_length  \\\n",
       "0  KR_7005435650  1711611092537  2339.676514   \n",
       "\n",
       "                                                            game_version  \\\n",
       "0  Version 14.6.570.6276 (Mar 25 2024/14:00:15) [PUBLIC] <Releases/14.6>   \n",
       "\n",
       "                                                                            puuid  \\\n",
       "0  BWLn3nfAuki-3ju22n-ni5exBESPlXaPsyF9bZ3uFeuvr1ks-ZL6B7x3SA_KVt_kNrHRfsg6VVk9YQ   \n",
       "\n",
       "   placement  last_round  level  이타심  거대 괴수  ...  코부코  다리우스  아펠리오스  쓰레쉬  초가스  \\\n",
       "0          7          28      8    0      1  ...    0     0      0    0    0   \n",
       "\n",
       "   말파이트  가렌  티모  자야  \\\n",
       "0     0   0   0   0   \n",
       "\n",
       "                                                                                                             Combination  \n",
       "0  TFT11_Sivir, TFT11_Riven, TFT11_Shen, TFT11_TahmKench, TFT11_Galio, TFT11_Kaisa, TFT11_Sylas, TFT11_Udyr, TFT11_Kayle  \n",
       "\n",
       "[1 rows x 97 columns]"
      ]
     },
     "execution_count": 284,
     "metadata": {},
     "output_type": "execute_result"
    }
   ],
   "source": [
    "#### 필요없는 컬럼 드랍\n",
    "deck_classify.drop(columns=['unit_based_cluster', 'traits_based_cluster', 'units_and_traits_cluster'], inplace=True)\n",
    "\n",
    "deck_classify.head(1)"
   ]
  },
  {
   "cell_type": "markdown",
   "metadata": {},
   "source": [
    "##### 덱 이름을 적어줄 컬럼 생성"
   ]
  },
  {
   "cell_type": "code",
   "execution_count": 285,
   "metadata": {},
   "outputs": [
    {
     "data": {
      "text/html": [
       "<div>\n",
       "<style scoped>\n",
       "    .dataframe tbody tr th:only-of-type {\n",
       "        vertical-align: middle;\n",
       "    }\n",
       "\n",
       "    .dataframe tbody tr th {\n",
       "        vertical-align: top;\n",
       "    }\n",
       "\n",
       "    .dataframe thead th {\n",
       "        text-align: right;\n",
       "    }\n",
       "</style>\n",
       "<table border=\"1\" class=\"dataframe\">\n",
       "  <thead>\n",
       "    <tr style=\"text-align: right;\">\n",
       "      <th></th>\n",
       "      <th>gameId</th>\n",
       "      <th>game_datetime</th>\n",
       "      <th>game_length</th>\n",
       "      <th>game_version</th>\n",
       "      <th>puuid</th>\n",
       "      <th>placement</th>\n",
       "      <th>last_round</th>\n",
       "      <th>level</th>\n",
       "      <th>이타심</th>\n",
       "      <th>거대 괴수</th>\n",
       "      <th>...</th>\n",
       "      <th>다리우스</th>\n",
       "      <th>아펠리오스</th>\n",
       "      <th>쓰레쉬</th>\n",
       "      <th>초가스</th>\n",
       "      <th>말파이트</th>\n",
       "      <th>가렌</th>\n",
       "      <th>티모</th>\n",
       "      <th>자야</th>\n",
       "      <th>Combination</th>\n",
       "      <th>deck_name</th>\n",
       "    </tr>\n",
       "  </thead>\n",
       "  <tbody>\n",
       "    <tr>\n",
       "      <th>0</th>\n",
       "      <td>KR_7005435650</td>\n",
       "      <td>1711611092537</td>\n",
       "      <td>2339.676514</td>\n",
       "      <td>Version 14.6.570.6276 (Mar 25 2024/14:00:15) [PUBLIC] &lt;Releases/14.6&gt;</td>\n",
       "      <td>BWLn3nfAuki-3ju22n-ni5exBESPlXaPsyF9bZ3uFeuvr1ks-ZL6B7x3SA_KVt_kNrHRfsg6VVk9YQ</td>\n",
       "      <td>7</td>\n",
       "      <td>28</td>\n",
       "      <td>8</td>\n",
       "      <td>0</td>\n",
       "      <td>1</td>\n",
       "      <td>...</td>\n",
       "      <td>0</td>\n",
       "      <td>0</td>\n",
       "      <td>0</td>\n",
       "      <td>0</td>\n",
       "      <td>0</td>\n",
       "      <td>0</td>\n",
       "      <td>0</td>\n",
       "      <td>0</td>\n",
       "      <td>TFT11_Sivir, TFT11_Riven, TFT11_Shen, TFT11_TahmKench, TFT11_Galio, TFT11_Kaisa, TFT11_Sylas, TFT11_Udyr, TFT11_Kayle</td>\n",
       "      <td>분류 불가</td>\n",
       "    </tr>\n",
       "  </tbody>\n",
       "</table>\n",
       "<p>1 rows × 98 columns</p>\n",
       "</div>"
      ],
      "text/plain": [
       "          gameId  game_datetime  game_length  \\\n",
       "0  KR_7005435650  1711611092537  2339.676514   \n",
       "\n",
       "                                                            game_version  \\\n",
       "0  Version 14.6.570.6276 (Mar 25 2024/14:00:15) [PUBLIC] <Releases/14.6>   \n",
       "\n",
       "                                                                            puuid  \\\n",
       "0  BWLn3nfAuki-3ju22n-ni5exBESPlXaPsyF9bZ3uFeuvr1ks-ZL6B7x3SA_KVt_kNrHRfsg6VVk9YQ   \n",
       "\n",
       "   placement  last_round  level  이타심  거대 괴수  ...  다리우스  아펠리오스  쓰레쉬  초가스  말파이트  \\\n",
       "0          7          28      8    0      1  ...     0      0    0    0     0   \n",
       "\n",
       "   가렌  티모  자야  \\\n",
       "0   0   0   0   \n",
       "\n",
       "                                                                                                             Combination  \\\n",
       "0  TFT11_Sivir, TFT11_Riven, TFT11_Shen, TFT11_TahmKench, TFT11_Galio, TFT11_Kaisa, TFT11_Sylas, TFT11_Udyr, TFT11_Kayle   \n",
       "\n",
       "   deck_name  \n",
       "0      분류 불가  \n",
       "\n",
       "[1 rows x 98 columns]"
      ]
     },
     "execution_count": 285,
     "metadata": {},
     "output_type": "execute_result"
    }
   ],
   "source": [
    "deck_classify['deck_name'] = '분류 불가'\n",
    "\n",
    "deck_classify.head(1)"
   ]
  },
  {
   "cell_type": "markdown",
   "metadata": {},
   "source": [
    "##### 각 조건을 이용하여 덱에 적합한 이름을 라벨링"
   ]
  },
  {
   "cell_type": "code",
   "execution_count": 286,
   "metadata": {},
   "outputs": [
    {
     "data": {
      "text/html": [
       "<div>\n",
       "<style scoped>\n",
       "    .dataframe tbody tr th:only-of-type {\n",
       "        vertical-align: middle;\n",
       "    }\n",
       "\n",
       "    .dataframe tbody tr th {\n",
       "        vertical-align: top;\n",
       "    }\n",
       "\n",
       "    .dataframe thead th {\n",
       "        text-align: right;\n",
       "    }\n",
       "</style>\n",
       "<table border=\"1\" class=\"dataframe\">\n",
       "  <thead>\n",
       "    <tr style=\"text-align: right;\">\n",
       "      <th></th>\n",
       "      <th>15</th>\n",
       "      <th>23</th>\n",
       "      <th>29</th>\n",
       "      <th>38</th>\n",
       "      <th>42</th>\n",
       "      <th>56</th>\n",
       "      <th>96</th>\n",
       "      <th>148</th>\n",
       "      <th>173</th>\n",
       "      <th>180</th>\n",
       "      <th>...</th>\n",
       "      <th>9159</th>\n",
       "      <th>9160</th>\n",
       "      <th>9168</th>\n",
       "      <th>9169</th>\n",
       "      <th>9176</th>\n",
       "      <th>9186</th>\n",
       "      <th>9193</th>\n",
       "      <th>9196</th>\n",
       "      <th>9213</th>\n",
       "      <th>9242</th>\n",
       "    </tr>\n",
       "  </thead>\n",
       "  <tbody>\n",
       "    <tr>\n",
       "      <th>Combination</th>\n",
       "      <td>TFT11_Sivir, TFT11_Riven, TFT11_TahmKench, TFT11_Kayle, TFT11_Soraka, TFT11_Rakan, TFT11_Neeko, TFT11_Bard, TFT11_Zoe</td>\n",
       "      <td>TFT11_Sivir, TFT11_Riven, TFT11_TahmKench, TFT11_Kayle, TFT11_Soraka, TFT11_Neeko, TFT11_Bard, TFT11_Zoe</td>\n",
       "      <td>TFT11_Sivir, TFT11_Riven, TFT11_TahmKench, TFT11_Kayle, TFT11_Soraka, TFT11_Hwei, TFT11_Neeko, TFT11_Bard, TFT11_Zoe, TFT11_Nautilus</td>\n",
       "      <td>TFT11_Sivir, TFT11_Riven, TFT11_TahmKench, TFT11_Kayle, TFT11_Soraka, TFT11_Rakan, TFT11_WuKong, TFT11_Neeko, TFT11_Bard, TFT11_Zoe</td>\n",
       "      <td>TFT11_Sivir, TFT11_Riven, TFT11_TahmKench, TFT11_Kayle, TFT11_Soraka, TFT11_Rakan, TFT11_Lissandra, TFT11_Neeko, TFT11_Bard, TFT11_Zoe</td>\n",
       "      <td>TFT11_Sivir, TFT11_Riven, TFT11_TahmKench, TFT11_Kayle, TFT11_Soraka, TFT11_Rakan, TFT11_WuKong, TFT11_Lissandra, TFT11_Neeko, TFT11_Bard, TFT11_Zoe</td>\n",
       "      <td>TFT11_Sivir, TFT11_Riven, TFT11_TahmKench, TFT11_Kayle, TFT11_Soraka, TFT11_Hwei, TFT11_Lissandra, TFT11_Neeko, TFT11_Bard, TFT11_Zoe, TFT11_Nautilus</td>\n",
       "      <td>TFT11_Sivir, TFT11_Riven, TFT11_TahmKench, TFT11_Kayle, TFT11_Soraka, TFT11_Hwei, TFT11_Rakan, TFT11_WuKong, TFT11_Neeko, TFT11_Bard, TFT11_Zoe</td>\n",
       "      <td>TFT11_Sivir, TFT11_Riven, TFT11_TahmKench, TFT11_Kayle, TFT11_Soraka, TFT11_WuKong, TFT11_Neeko, TFT11_Bard, TFT11_Zoe</td>\n",
       "      <td>TFT11_Sivir, TFT11_Riven, TFT11_TahmKench, TFT11_Kayle, TFT11_Soraka, TFT11_Rakan, TFT11_Lissandra, TFT11_Neeko, TFT11_Bard, TFT11_Zoe, TFT11_ChoGath</td>\n",
       "      <td>...</td>\n",
       "      <td>TFT11_Sivir, TFT11_Riven, TFT11_TahmKench, TFT11_Kayle, TFT11_Soraka, TFT11_Neeko, TFT11_Bard, TFT11_Zoe, TFT11_Nautilus</td>\n",
       "      <td>TFT11_Sivir, TFT11_Riven, TFT11_TahmKench, TFT11_Kayle, TFT11_Soraka, TFT11_Neeko, TFT11_Bard, TFT11_Zoe</td>\n",
       "      <td>TFT11_Sivir, TFT11_TahmKench, TFT11_Galio, TFT11_Sylas, TFT11_Kayle, TFT11_RekSai, TFT11_Soraka, TFT11_Neeko, TFT11_Bard, TFT11_Zoe</td>\n",
       "      <td>TFT11_Sivir, TFT11_Riven, TFT11_TahmKench, TFT11_Kayle, TFT11_Soraka, TFT11_WuKong, TFT11_Lissandra, TFT11_Neeko, TFT11_Bard, TFT11_Zoe</td>\n",
       "      <td>TFT11_Sivir, TFT11_Riven, TFT11_TahmKench, TFT11_Kayle, TFT11_Soraka, TFT11_Neeko, TFT11_Bard, TFT11_Zoe</td>\n",
       "      <td>TFT11_Sivir, TFT11_Riven, TFT11_TahmKench, TFT11_Kayle, TFT11_Soraka, TFT11_Rakan, TFT11_Neeko, TFT11_Bard, TFT11_Zoe, TFT11_Xayah</td>\n",
       "      <td>TFT11_Sivir, TFT11_Riven, TFT11_TahmKench, TFT11_Kayle, TFT11_Soraka, TFT11_Neeko, TFT11_Bard, TFT11_Zoe, TFT11_Qiyana</td>\n",
       "      <td>TFT11_Sivir, TFT11_Riven, TFT11_TahmKench, TFT11_Kayle, TFT11_Soraka, TFT11_Rakan, TFT11_Neeko, TFT11_Bard, TFT11_Zoe</td>\n",
       "      <td>TFT11_Sivir, TFT11_Riven, TFT11_TahmKench, TFT11_Kayle, TFT11_Soraka, TFT11_Neeko, TFT11_Bard, TFT11_Zoe, TFT11_Nautilus</td>\n",
       "      <td>TFT11_Sivir, TFT11_Riven, TFT11_TahmKench, TFT11_Kayle, TFT11_Soraka, TFT11_Rakan, TFT11_WuKong, TFT11_Neeko, TFT11_Bard, TFT11_Zoe</td>\n",
       "    </tr>\n",
       "    <tr>\n",
       "      <th>deck_name</th>\n",
       "      <td>신화 바드 리롤</td>\n",
       "      <td>신화 바드 리롤</td>\n",
       "      <td>신화 바드 리롤</td>\n",
       "      <td>신화 바드 리롤</td>\n",
       "      <td>신화 바드 리롤</td>\n",
       "      <td>신화 바드 리롤</td>\n",
       "      <td>신화 바드 리롤</td>\n",
       "      <td>신화 바드 리롤</td>\n",
       "      <td>신화 바드 리롤</td>\n",
       "      <td>신화 바드 리롤</td>\n",
       "      <td>...</td>\n",
       "      <td>신화 바드 리롤</td>\n",
       "      <td>신화 바드 리롤</td>\n",
       "      <td>신화 바드 리롤</td>\n",
       "      <td>신화 바드 리롤</td>\n",
       "      <td>신화 바드 리롤</td>\n",
       "      <td>신화 바드 리롤</td>\n",
       "      <td>신화 바드 리롤</td>\n",
       "      <td>신화 바드 리롤</td>\n",
       "      <td>신화 바드 리롤</td>\n",
       "      <td>신화 바드 리롤</td>\n",
       "    </tr>\n",
       "  </tbody>\n",
       "</table>\n",
       "<p>2 rows × 485 columns</p>\n",
       "</div>"
      ],
      "text/plain": [
       "                                                                                                                              15    \\\n",
       "Combination  TFT11_Sivir, TFT11_Riven, TFT11_TahmKench, TFT11_Kayle, TFT11_Soraka, TFT11_Rakan, TFT11_Neeko, TFT11_Bard, TFT11_Zoe   \n",
       "deck_name                                                                                                                 신화 바드 리롤   \n",
       "\n",
       "                                                                                                                 23    \\\n",
       "Combination  TFT11_Sivir, TFT11_Riven, TFT11_TahmKench, TFT11_Kayle, TFT11_Soraka, TFT11_Neeko, TFT11_Bard, TFT11_Zoe   \n",
       "deck_name                                                                                                    신화 바드 리롤   \n",
       "\n",
       "                                                                                                                                             29    \\\n",
       "Combination  TFT11_Sivir, TFT11_Riven, TFT11_TahmKench, TFT11_Kayle, TFT11_Soraka, TFT11_Hwei, TFT11_Neeko, TFT11_Bard, TFT11_Zoe, TFT11_Nautilus   \n",
       "deck_name                                                                                                                                신화 바드 리롤   \n",
       "\n",
       "                                                                                                                                            38    \\\n",
       "Combination  TFT11_Sivir, TFT11_Riven, TFT11_TahmKench, TFT11_Kayle, TFT11_Soraka, TFT11_Rakan, TFT11_WuKong, TFT11_Neeko, TFT11_Bard, TFT11_Zoe   \n",
       "deck_name                                                                                                                               신화 바드 리롤   \n",
       "\n",
       "                                                                                                                                               42    \\\n",
       "Combination  TFT11_Sivir, TFT11_Riven, TFT11_TahmKench, TFT11_Kayle, TFT11_Soraka, TFT11_Rakan, TFT11_Lissandra, TFT11_Neeko, TFT11_Bard, TFT11_Zoe   \n",
       "deck_name                                                                                                                                  신화 바드 리롤   \n",
       "\n",
       "                                                                                                                                                             56    \\\n",
       "Combination  TFT11_Sivir, TFT11_Riven, TFT11_TahmKench, TFT11_Kayle, TFT11_Soraka, TFT11_Rakan, TFT11_WuKong, TFT11_Lissandra, TFT11_Neeko, TFT11_Bard, TFT11_Zoe   \n",
       "deck_name                                                                                                                                                신화 바드 리롤   \n",
       "\n",
       "                                                                                                                                                              96    \\\n",
       "Combination  TFT11_Sivir, TFT11_Riven, TFT11_TahmKench, TFT11_Kayle, TFT11_Soraka, TFT11_Hwei, TFT11_Lissandra, TFT11_Neeko, TFT11_Bard, TFT11_Zoe, TFT11_Nautilus   \n",
       "deck_name                                                                                                                                                 신화 바드 리롤   \n",
       "\n",
       "                                                                                                                                                        148   \\\n",
       "Combination  TFT11_Sivir, TFT11_Riven, TFT11_TahmKench, TFT11_Kayle, TFT11_Soraka, TFT11_Hwei, TFT11_Rakan, TFT11_WuKong, TFT11_Neeko, TFT11_Bard, TFT11_Zoe   \n",
       "deck_name                                                                                                                                           신화 바드 리롤   \n",
       "\n",
       "                                                                                                                               173   \\\n",
       "Combination  TFT11_Sivir, TFT11_Riven, TFT11_TahmKench, TFT11_Kayle, TFT11_Soraka, TFT11_WuKong, TFT11_Neeko, TFT11_Bard, TFT11_Zoe   \n",
       "deck_name                                                                                                                  신화 바드 리롤   \n",
       "\n",
       "                                                                                                                                                              180   \\\n",
       "Combination  TFT11_Sivir, TFT11_Riven, TFT11_TahmKench, TFT11_Kayle, TFT11_Soraka, TFT11_Rakan, TFT11_Lissandra, TFT11_Neeko, TFT11_Bard, TFT11_Zoe, TFT11_ChoGath   \n",
       "deck_name                                                                                                                                                 신화 바드 리롤   \n",
       "\n",
       "             ...  \\\n",
       "Combination  ...   \n",
       "deck_name    ...   \n",
       "\n",
       "                                                                                                                                 9159  \\\n",
       "Combination  TFT11_Sivir, TFT11_Riven, TFT11_TahmKench, TFT11_Kayle, TFT11_Soraka, TFT11_Neeko, TFT11_Bard, TFT11_Zoe, TFT11_Nautilus   \n",
       "deck_name                                                                                                                    신화 바드 리롤   \n",
       "\n",
       "                                                                                                                 9160  \\\n",
       "Combination  TFT11_Sivir, TFT11_Riven, TFT11_TahmKench, TFT11_Kayle, TFT11_Soraka, TFT11_Neeko, TFT11_Bard, TFT11_Zoe   \n",
       "deck_name                                                                                                    신화 바드 리롤   \n",
       "\n",
       "                                                                                                                                            9168  \\\n",
       "Combination  TFT11_Sivir, TFT11_TahmKench, TFT11_Galio, TFT11_Sylas, TFT11_Kayle, TFT11_RekSai, TFT11_Soraka, TFT11_Neeko, TFT11_Bard, TFT11_Zoe   \n",
       "deck_name                                                                                                                               신화 바드 리롤   \n",
       "\n",
       "                                                                                                                                                9169  \\\n",
       "Combination  TFT11_Sivir, TFT11_Riven, TFT11_TahmKench, TFT11_Kayle, TFT11_Soraka, TFT11_WuKong, TFT11_Lissandra, TFT11_Neeko, TFT11_Bard, TFT11_Zoe   \n",
       "deck_name                                                                                                                                   신화 바드 리롤   \n",
       "\n",
       "                                                                                                                 9176  \\\n",
       "Combination  TFT11_Sivir, TFT11_Riven, TFT11_TahmKench, TFT11_Kayle, TFT11_Soraka, TFT11_Neeko, TFT11_Bard, TFT11_Zoe   \n",
       "deck_name                                                                                                    신화 바드 리롤   \n",
       "\n",
       "                                                                                                                                           9186  \\\n",
       "Combination  TFT11_Sivir, TFT11_Riven, TFT11_TahmKench, TFT11_Kayle, TFT11_Soraka, TFT11_Rakan, TFT11_Neeko, TFT11_Bard, TFT11_Zoe, TFT11_Xayah   \n",
       "deck_name                                                                                                                              신화 바드 리롤   \n",
       "\n",
       "                                                                                                                               9193  \\\n",
       "Combination  TFT11_Sivir, TFT11_Riven, TFT11_TahmKench, TFT11_Kayle, TFT11_Soraka, TFT11_Neeko, TFT11_Bard, TFT11_Zoe, TFT11_Qiyana   \n",
       "deck_name                                                                                                                  신화 바드 리롤   \n",
       "\n",
       "                                                                                                                              9196  \\\n",
       "Combination  TFT11_Sivir, TFT11_Riven, TFT11_TahmKench, TFT11_Kayle, TFT11_Soraka, TFT11_Rakan, TFT11_Neeko, TFT11_Bard, TFT11_Zoe   \n",
       "deck_name                                                                                                                 신화 바드 리롤   \n",
       "\n",
       "                                                                                                                                 9213  \\\n",
       "Combination  TFT11_Sivir, TFT11_Riven, TFT11_TahmKench, TFT11_Kayle, TFT11_Soraka, TFT11_Neeko, TFT11_Bard, TFT11_Zoe, TFT11_Nautilus   \n",
       "deck_name                                                                                                                    신화 바드 리롤   \n",
       "\n",
       "                                                                                                                                            9242  \n",
       "Combination  TFT11_Sivir, TFT11_Riven, TFT11_TahmKench, TFT11_Kayle, TFT11_Soraka, TFT11_Rakan, TFT11_WuKong, TFT11_Neeko, TFT11_Bard, TFT11_Zoe  \n",
       "deck_name                                                                                                                               신화 바드 리롤  \n",
       "\n",
       "[2 rows x 485 columns]"
      ]
     },
     "execution_count": 286,
     "metadata": {},
     "output_type": "execute_result"
    }
   ],
   "source": [
    "## 신화 바드 리롤 덱 라벨링\n",
    "deck_classify.loc[((units_df['바드'] != 0) & \n",
    "                   (units_df['탐 켄치'] != 0) & \n",
    "                   (units_df['조이'] != 0) & \n",
    "                   (units_df['소라카'] != 0) & \n",
    "                   (units_df['티모'] == 0) & \n",
    "                   (units_df['카이사'] == 0)), \n",
    "                  'deck_name'] = '신화 바드 리롤'\n",
    "\n",
    "# 확인\n",
    "check_deck_name = deck_classify[deck_classify['deck_name'] == '신화 바드 리롤']\n",
    "\n",
    "check_deck_name[['Combination', 'deck_name']].T"
   ]
  },
  {
   "cell_type": "code",
   "execution_count": 287,
   "metadata": {},
   "outputs": [
    {
     "data": {
      "text/html": [
       "<div>\n",
       "<style scoped>\n",
       "    .dataframe tbody tr th:only-of-type {\n",
       "        vertical-align: middle;\n",
       "    }\n",
       "\n",
       "    .dataframe tbody tr th {\n",
       "        vertical-align: top;\n",
       "    }\n",
       "\n",
       "    .dataframe thead th {\n",
       "        text-align: right;\n",
       "    }\n",
       "</style>\n",
       "<table border=\"1\" class=\"dataframe\">\n",
       "  <thead>\n",
       "    <tr style=\"text-align: right;\">\n",
       "      <th></th>\n",
       "      <th>432</th>\n",
       "      <th>566</th>\n",
       "      <th>750</th>\n",
       "      <th>920</th>\n",
       "      <th>1378</th>\n",
       "      <th>1549</th>\n",
       "      <th>1955</th>\n",
       "      <th>2141</th>\n",
       "      <th>2260</th>\n",
       "      <th>2358</th>\n",
       "      <th>...</th>\n",
       "      <th>7891</th>\n",
       "      <th>7908</th>\n",
       "      <th>8192</th>\n",
       "      <th>8222</th>\n",
       "      <th>8577</th>\n",
       "      <th>8592</th>\n",
       "      <th>8818</th>\n",
       "      <th>8918</th>\n",
       "      <th>9031</th>\n",
       "      <th>9084</th>\n",
       "    </tr>\n",
       "  </thead>\n",
       "  <tbody>\n",
       "    <tr>\n",
       "      <th>Combination</th>\n",
       "      <td>TFT11_Kaisa, TFT11_Udyr, TFT11_Jax, TFT11_Aatrox, TFT11_Senna, TFT11_Ornn, TFT11_Irelia, TFT11_Volibear, TFT11_Sett, TFT11_Xayah</td>\n",
       "      <td>TFT11_Kaisa, TFT11_Udyr, TFT11_Caitlyn, TFT11_RekSai, TFT11_Jax, TFT11_Aatrox, TFT11_Senna, TFT11_Gnar, TFT11_Ornn, TFT11_Azir</td>\n",
       "      <td>TFT11_Shen, TFT11_Kaisa, TFT11_Sylas, TFT11_Udyr, TFT11_Aatrox, TFT11_Senna, TFT11_Morgana, TFT11_Kayn, TFT11_Illaoi</td>\n",
       "      <td>TFT11_Kaisa, TFT11_Udyr, TFT11_Jax, TFT11_Aatrox, TFT11_Senna, TFT11_Hwei, TFT11_Morgana, TFT11_Volibear, TFT11_Xayah</td>\n",
       "      <td>TFT11_Kaisa, TFT11_Udyr, TFT11_Jax, TFT11_Ornn, TFT11_Irelia, TFT11_Illaoi, TFT11_Volibear, TFT11_Amumu</td>\n",
       "      <td>TFT11_Riven, TFT11_Shen, TFT11_Kaisa, TFT11_Jax, TFT11_Aatrox, TFT11_Irelia, TFT11_Illaoi, TFT11_Volibear, TFT11_Xayah</td>\n",
       "      <td>TFT11_Shen, TFT11_Kaisa, TFT11_Udyr, TFT11_Caitlyn, TFT11_Aatrox, TFT11_Senna, TFT11_Morgana, TFT11_Kayn, TFT11_Illaoi</td>\n",
       "      <td>TFT11_Kaisa, TFT11_Caitlyn, TFT11_RekSai, TFT11_Jax, TFT11_Aatrox, TFT11_Senna, TFT11_Gnar, TFT11_Volibear</td>\n",
       "      <td>TFT11_Shen, TFT11_Kaisa, TFT11_Udyr, TFT11_Caitlyn, TFT11_Jax, TFT11_Aatrox, TFT11_Senna, TFT11_Morgana, TFT11_Illaoi</td>\n",
       "      <td>TFT11_Shen, TFT11_Kaisa, TFT11_Udyr, TFT11_Caitlyn, TFT11_Jax, TFT11_Aatrox, TFT11_Senna, TFT11_Illaoi</td>\n",
       "      <td>...</td>\n",
       "      <td>TFT11_Kaisa, TFT11_Caitlyn, TFT11_RekSai, TFT11_Jax, TFT11_Aatrox, TFT11_Senna, TFT11_Gnar, TFT11_Ornn, TFT11_Azir, TFT11_Volibear</td>\n",
       "      <td>TFT11_Kaisa, TFT11_Udyr, TFT11_Caitlyn, TFT11_RekSai, TFT11_Jax, TFT11_Aatrox, TFT11_Senna, TFT11_Gnar, TFT11_Ornn</td>\n",
       "      <td>TFT11_Kaisa, TFT11_Udyr, TFT11_Caitlyn, TFT11_Jax, TFT11_Aatrox, TFT11_Senna, TFT11_Morgana, TFT11_Illaoi</td>\n",
       "      <td>TFT11_Shen, TFT11_Kaisa, TFT11_Udyr, TFT11_Caitlyn, TFT11_Aatrox, TFT11_Senna, TFT11_Morgana, TFT11_Illaoi, TFT11_Sett</td>\n",
       "      <td>TFT11_Shen, TFT11_Kaisa, TFT11_Udyr, TFT11_Caitlyn, TFT11_Aatrox, TFT11_Senna, TFT11_Morgana, TFT11_Kayn, TFT11_Illaoi</td>\n",
       "      <td>TFT11_Riven, TFT11_Kaisa, TFT11_Sylas, TFT11_Jax, TFT11_Aatrox, TFT11_Senna, TFT11_Illaoi, TFT11_Volibear</td>\n",
       "      <td>TFT11_Kaisa, TFT11_Sylas, TFT11_Jax, TFT11_Aatrox, TFT11_Senna, TFT11_Gnar, TFT11_Volibear, TFT11_Teemo</td>\n",
       "      <td>TFT11_Sivir, TFT11_Galio, TFT11_Kaisa, TFT11_Udyr, TFT11_Jax, TFT11_Aatrox, TFT11_WuKong, TFT11_Volibear</td>\n",
       "      <td>TFT11_Shen, TFT11_Kaisa, TFT11_Caitlyn, TFT11_Jax, TFT11_Aatrox, TFT11_Senna, TFT11_Illaoi, TFT11_Volibear</td>\n",
       "      <td>TFT11_Shen, TFT11_Kaisa, TFT11_Udyr, TFT11_Caitlyn, TFT11_Jax, TFT11_Aatrox, TFT11_Senna, TFT11_Diana, TFT11_Morgana, TFT11_Kayn, TFT11_Illaoi</td>\n",
       "    </tr>\n",
       "    <tr>\n",
       "      <th>deck_name</th>\n",
       "      <td>5먹그림자 카이사</td>\n",
       "      <td>5먹그림자 카이사</td>\n",
       "      <td>5먹그림자 카이사</td>\n",
       "      <td>5먹그림자 카이사</td>\n",
       "      <td>5먹그림자 카이사</td>\n",
       "      <td>5먹그림자 카이사</td>\n",
       "      <td>5먹그림자 카이사</td>\n",
       "      <td>5먹그림자 카이사</td>\n",
       "      <td>5먹그림자 카이사</td>\n",
       "      <td>5먹그림자 카이사</td>\n",
       "      <td>...</td>\n",
       "      <td>5먹그림자 카이사</td>\n",
       "      <td>5먹그림자 카이사</td>\n",
       "      <td>5먹그림자 카이사</td>\n",
       "      <td>5먹그림자 카이사</td>\n",
       "      <td>5먹그림자 카이사</td>\n",
       "      <td>5먹그림자 카이사</td>\n",
       "      <td>5먹그림자 카이사</td>\n",
       "      <td>5먹그림자 카이사</td>\n",
       "      <td>5먹그림자 카이사</td>\n",
       "      <td>5먹그림자 카이사</td>\n",
       "    </tr>\n",
       "  </tbody>\n",
       "</table>\n",
       "<p>2 rows × 49 columns</p>\n",
       "</div>"
      ],
      "text/plain": [
       "                                                                                                                                         432   \\\n",
       "Combination  TFT11_Kaisa, TFT11_Udyr, TFT11_Jax, TFT11_Aatrox, TFT11_Senna, TFT11_Ornn, TFT11_Irelia, TFT11_Volibear, TFT11_Sett, TFT11_Xayah   \n",
       "deck_name                                                                                                                           5먹그림자 카이사   \n",
       "\n",
       "                                                                                                                                       566   \\\n",
       "Combination  TFT11_Kaisa, TFT11_Udyr, TFT11_Caitlyn, TFT11_RekSai, TFT11_Jax, TFT11_Aatrox, TFT11_Senna, TFT11_Gnar, TFT11_Ornn, TFT11_Azir   \n",
       "deck_name                                                                                                                         5먹그림자 카이사   \n",
       "\n",
       "                                                                                                                             750   \\\n",
       "Combination  TFT11_Shen, TFT11_Kaisa, TFT11_Sylas, TFT11_Udyr, TFT11_Aatrox, TFT11_Senna, TFT11_Morgana, TFT11_Kayn, TFT11_Illaoi   \n",
       "deck_name                                                                                                               5먹그림자 카이사   \n",
       "\n",
       "                                                                                                                              920   \\\n",
       "Combination  TFT11_Kaisa, TFT11_Udyr, TFT11_Jax, TFT11_Aatrox, TFT11_Senna, TFT11_Hwei, TFT11_Morgana, TFT11_Volibear, TFT11_Xayah   \n",
       "deck_name                                                                                                                5먹그림자 카이사   \n",
       "\n",
       "                                                                                                                1378  \\\n",
       "Combination  TFT11_Kaisa, TFT11_Udyr, TFT11_Jax, TFT11_Ornn, TFT11_Irelia, TFT11_Illaoi, TFT11_Volibear, TFT11_Amumu   \n",
       "deck_name                                                                                                  5먹그림자 카이사   \n",
       "\n",
       "                                                                                                                               1549  \\\n",
       "Combination  TFT11_Riven, TFT11_Shen, TFT11_Kaisa, TFT11_Jax, TFT11_Aatrox, TFT11_Irelia, TFT11_Illaoi, TFT11_Volibear, TFT11_Xayah   \n",
       "deck_name                                                                                                                 5먹그림자 카이사   \n",
       "\n",
       "                                                                                                                               1955  \\\n",
       "Combination  TFT11_Shen, TFT11_Kaisa, TFT11_Udyr, TFT11_Caitlyn, TFT11_Aatrox, TFT11_Senna, TFT11_Morgana, TFT11_Kayn, TFT11_Illaoi   \n",
       "deck_name                                                                                                                 5먹그림자 카이사   \n",
       "\n",
       "                                                                                                                   2141  \\\n",
       "Combination  TFT11_Kaisa, TFT11_Caitlyn, TFT11_RekSai, TFT11_Jax, TFT11_Aatrox, TFT11_Senna, TFT11_Gnar, TFT11_Volibear   \n",
       "deck_name                                                                                                     5먹그림자 카이사   \n",
       "\n",
       "                                                                                                                              2260  \\\n",
       "Combination  TFT11_Shen, TFT11_Kaisa, TFT11_Udyr, TFT11_Caitlyn, TFT11_Jax, TFT11_Aatrox, TFT11_Senna, TFT11_Morgana, TFT11_Illaoi   \n",
       "deck_name                                                                                                                5먹그림자 카이사   \n",
       "\n",
       "                                                                                                               2358  \\\n",
       "Combination  TFT11_Shen, TFT11_Kaisa, TFT11_Udyr, TFT11_Caitlyn, TFT11_Jax, TFT11_Aatrox, TFT11_Senna, TFT11_Illaoi   \n",
       "deck_name                                                                                                 5먹그림자 카이사   \n",
       "\n",
       "             ...  \\\n",
       "Combination  ...   \n",
       "deck_name    ...   \n",
       "\n",
       "                                                                                                                                           7891  \\\n",
       "Combination  TFT11_Kaisa, TFT11_Caitlyn, TFT11_RekSai, TFT11_Jax, TFT11_Aatrox, TFT11_Senna, TFT11_Gnar, TFT11_Ornn, TFT11_Azir, TFT11_Volibear   \n",
       "deck_name                                                                                                                             5먹그림자 카이사   \n",
       "\n",
       "                                                                                                                           7908  \\\n",
       "Combination  TFT11_Kaisa, TFT11_Udyr, TFT11_Caitlyn, TFT11_RekSai, TFT11_Jax, TFT11_Aatrox, TFT11_Senna, TFT11_Gnar, TFT11_Ornn   \n",
       "deck_name                                                                                                             5먹그림자 카이사   \n",
       "\n",
       "                                                                                                                  8192  \\\n",
       "Combination  TFT11_Kaisa, TFT11_Udyr, TFT11_Caitlyn, TFT11_Jax, TFT11_Aatrox, TFT11_Senna, TFT11_Morgana, TFT11_Illaoi   \n",
       "deck_name                                                                                                    5먹그림자 카이사   \n",
       "\n",
       "                                                                                                                               8222  \\\n",
       "Combination  TFT11_Shen, TFT11_Kaisa, TFT11_Udyr, TFT11_Caitlyn, TFT11_Aatrox, TFT11_Senna, TFT11_Morgana, TFT11_Illaoi, TFT11_Sett   \n",
       "deck_name                                                                                                                 5먹그림자 카이사   \n",
       "\n",
       "                                                                                                                               8577  \\\n",
       "Combination  TFT11_Shen, TFT11_Kaisa, TFT11_Udyr, TFT11_Caitlyn, TFT11_Aatrox, TFT11_Senna, TFT11_Morgana, TFT11_Kayn, TFT11_Illaoi   \n",
       "deck_name                                                                                                                 5먹그림자 카이사   \n",
       "\n",
       "                                                                                                                  8592  \\\n",
       "Combination  TFT11_Riven, TFT11_Kaisa, TFT11_Sylas, TFT11_Jax, TFT11_Aatrox, TFT11_Senna, TFT11_Illaoi, TFT11_Volibear   \n",
       "deck_name                                                                                                    5먹그림자 카이사   \n",
       "\n",
       "                                                                                                                8818  \\\n",
       "Combination  TFT11_Kaisa, TFT11_Sylas, TFT11_Jax, TFT11_Aatrox, TFT11_Senna, TFT11_Gnar, TFT11_Volibear, TFT11_Teemo   \n",
       "deck_name                                                                                                  5먹그림자 카이사   \n",
       "\n",
       "                                                                                                                 8918  \\\n",
       "Combination  TFT11_Sivir, TFT11_Galio, TFT11_Kaisa, TFT11_Udyr, TFT11_Jax, TFT11_Aatrox, TFT11_WuKong, TFT11_Volibear   \n",
       "deck_name                                                                                                   5먹그림자 카이사   \n",
       "\n",
       "                                                                                                                   9031  \\\n",
       "Combination  TFT11_Shen, TFT11_Kaisa, TFT11_Caitlyn, TFT11_Jax, TFT11_Aatrox, TFT11_Senna, TFT11_Illaoi, TFT11_Volibear   \n",
       "deck_name                                                                                                     5먹그림자 카이사   \n",
       "\n",
       "                                                                                                                                                       9084  \n",
       "Combination  TFT11_Shen, TFT11_Kaisa, TFT11_Udyr, TFT11_Caitlyn, TFT11_Jax, TFT11_Aatrox, TFT11_Senna, TFT11_Diana, TFT11_Morgana, TFT11_Kayn, TFT11_Illaoi  \n",
       "deck_name                                                                                                                                         5먹그림자 카이사  \n",
       "\n",
       "[2 rows x 49 columns]"
      ]
     },
     "execution_count": 287,
     "metadata": {},
     "output_type": "execute_result"
    }
   ],
   "source": [
    "## 6난동꾼\n",
    "deck_classify.loc[(units_df['난동꾼'] >= 3), 'deck_name'] = '6난동꾼'\n",
    "\n",
    "\n",
    "## 난동 카이사 \n",
    "deck_classify.loc[((units_df['카이사'] != 0) & \n",
    "                   (units_df['티모'] != 0) & \n",
    "                   (units_df['갈리오'] != 0) & \n",
    "                   (units_df['재주꾼'] == 2) & \n",
    "                   (units_df['난동꾼'] == 2) & \n",
    "                   (units_df['이야기꾼'] != 0)), \n",
    "                  'deck_name'] = '난동꾼 카이사'\n",
    "\n",
    "\n",
    "## 리롤 결투가\n",
    "deck_classify.loc[((units_df['볼리베어'] >= 2) & \n",
    "                   (units_df['트리스타나'] >= 2) & \n",
    "                   (units_df['결투가'] >= 3)),\n",
    "                   'deck_name'] = '리롤 결투가'\n",
    "\n",
    "\n",
    "## 8결투가\n",
    "deck_classify.loc[(units_df['결투가'] >= 4), 'deck_name'] = '8결투가'\n",
    "\n",
    "\n",
    "## 7이야기꾼 \n",
    "deck_classify.loc[(units_df['이야기꾼'] >= 3), 'deck_name'] = '7이야기꾼'\n",
    "\n",
    "\n",
    "## 6혼령 리롤\n",
    "deck_classify.loc[((units_df['세나'] >= 2) & \n",
    "                   (units_df['쉔'] >= 2) & \n",
    "                   (units_df['혼령'] >= 3)), 'deck_name'] = '6혼령 리롤'\n",
    "\n",
    "\n",
    "## 7필연\n",
    "deck_classify.loc[(units_df['필연'] >= 3), 'deck_name'] = '7필연'\n",
    "\n",
    "\n",
    "## 나르 세나 리롤 \n",
    "deck_classify.loc[((units_df['세나'] >= 2) & \n",
    "                   (units_df['나르'] >= 2) & \n",
    "                   (units_df['숲지기'] != 0)), 'deck_name'] = '나르 세나 리롤'\n",
    "\n",
    "## 6암영 4사신 요네\n",
    "deck_classify.loc[((units_df['요네'] >= 2) & \n",
    "                   (units_df['암영'] >= 3)& \n",
    "                   (units_df['사신'] >= 2)), \n",
    "                   'deck_name'] = '6암영 4사신 요네'\n",
    "\n",
    "\n",
    "## 천계 \n",
    "deck_classify.loc[(units_df['천계'] >= 5), 'deck_name'] = '천계'\n",
    "\n",
    "\n",
    "## 신화 코그모 리롤 (초코말케) \n",
    "deck_classify.loc[((units_df['코그모'] == 3) & \n",
    "                   (units_df['말파이트'] != 0) & \n",
    "                   (units_df['케이틀린'] != 0) & \n",
    "                   (units_df['초가스'] != 0)), \n",
    "                   'deck_name'] = '신화 코그모 리롤'\n",
    "\n",
    "\n",
    "## 7신화 릴리아 \n",
    "deck_classify.loc[(units_df['릴리아'] >= 2) & \n",
    "                  (units_df['신화'] >= 3), \n",
    "                   'deck_name'] = '7신화 릴리아'\n",
    "\n",
    "\n",
    "## 아펠 아무무 리롤 \n",
    "deck_classify.loc[((units_df['아펠리오스'] >= 2) &  \n",
    "                  (units_df['아무무'] >= 2) & \n",
    "                  (units_df['일라오이'] >= 2) & \n",
    "                  (units_df['애쉬'] >= 1) & \n",
    "                  (units_df['필연'] >= 1) & \n",
    "                  (units_df['저격수'] == 1)),'deck_name'] = '아펠 아무무 리롤'\n",
    "\n",
    "\n",
    "## 6기원자 \n",
    "deck_classify.loc[((units_df['기원자'] >= 3) & \n",
    "                   (units_df['애니'] != 0) & \n",
    "                    (units_df['릴리아'] != 0)),'deck_name'] = '6기원자'\n",
    "\n",
    "\n",
    "## 현자 모르가나 \n",
    "deck_classify.loc[((units_df['모르가나'] != 0) & \n",
    "                   (units_df['갈리오'] >= 1) & \n",
    "                   (units_df['현자'] >= 2)),'deck_name'] = '현자 모르가나'\n",
    "\n",
    "\n",
    "## 용군주 흐웨이 밸류 시도\n",
    "deck_classify.loc[((units_df['용군주'] >= 1) & \n",
    "              (units_df['오른'] != 0)), 'deck_name'] = '용군주 흐웨이 밸류 시도'\n",
    "\n",
    "\n",
    "## 4 용군주 밸류\n",
    "deck_classify.loc[(units_df['용군주'] >= 3) & (units_df['현자'] >= 1), 'deck_name'] = '4용군주 밸류'\n",
    "\n",
    "\n",
    "## 용군주 흐웨이 밸류 완성/성공\n",
    "deck_classify.loc[((units_df['우디르'] != 0) & \n",
    "              (units_df['흐웨이'] >= 1) & \n",
    "              (units_df['오공'] != 0) & \n",
    "              (units_df['다이애나'] != 0)& \n",
    "              (units_df['라칸'] != 0)& \n",
    "              (units_df['용군주'] >= 1)& \n",
    "              (units_df['아지르'] != 0)), 'deck_name'] = '용군주 흐웨이 밸류 완성'\n",
    "\n",
    "\n",
    "## 6비전 마법사\n",
    "deck_classify.loc[(units_df['비전 마법사'] >= 3), 'deck_name'] = '6비전 마법사'\n",
    "\n",
    "\n",
    "## 4비전마법사 4파수꾼\n",
    "deck_classify.loc[((units_df['비전 마법사'] >= 2) & \n",
    "               (units_df['파수꾼'] >= 2)), 'deck_name'] = '4비전마법사 4파수꾼'\n",
    "\n",
    "## 5먹그림자 카이사\n",
    "deck_classify.loc[((units_df['먹그림자'] >= 2) & \n",
    "             (units_df['카이사'] >= 1)), 'deck_name'] = '5먹그림자 카이사'\n",
    "\n",
    "## 6거대괴수\n",
    "deck_classify.loc[(units_df['거대 괴수'] >= 3), 'deck_name'] = '6거대괴수'\n",
    "\n",
    "\n",
    "## 숲지기 킨드레드 리롤\n",
    "deck_classify.loc[(units_df['숲지기'] >= 2) & (units_df['킨드레드'] >= 2) & (units_df['사신'] >= 2), 'deck_name'] = '숲지기 킨드레드 리롤'\n",
    "\n",
    "\n",
    "# 확인\n",
    "check_deck_name = deck_classify[deck_classify['deck_name'] == '5먹그림자 카이사']\n",
    "\n",
    "check_deck_name[['Combination', 'deck_name']].T\n"
   ]
  },
  {
   "cell_type": "code",
   "execution_count": 288,
   "metadata": {},
   "outputs": [],
   "source": [
    "deck_classify.to_csv('덱 분류 완료 테이블.csv', index=False)"
   ]
  },
  {
   "cell_type": "code",
   "execution_count": 289,
   "metadata": {},
   "outputs": [
    {
     "data": {
      "text/plain": [
       "25"
      ]
     },
     "execution_count": 289,
     "metadata": {},
     "output_type": "execute_result"
    }
   ],
   "source": [
    "deck_classify['deck_name'].nunique()"
   ]
  },
  {
   "cell_type": "code",
   "execution_count": null,
   "metadata": {},
   "outputs": [],
   "source": []
  }
 ],
 "metadata": {
  "kernelspec": {
   "display_name": "Python 3",
   "language": "python",
   "name": "python3"
  },
  "language_info": {
   "codemirror_mode": {
    "name": "ipython",
    "version": 3
   },
   "file_extension": ".py",
   "mimetype": "text/x-python",
   "name": "python",
   "nbconvert_exporter": "python",
   "pygments_lexer": "ipython3",
   "version": "3.8.6"
  }
 },
 "nbformat": 4,
 "nbformat_minor": 2
}
