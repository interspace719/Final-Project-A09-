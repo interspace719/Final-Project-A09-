{
 "cells": [
  {
   "cell_type": "code",
   "execution_count": 10,
   "metadata": {},
   "outputs": [],
   "source": [
    "import pandas as pd\n",
    "import requests\n",
    "import pprint\n",
    "import json\n",
    "\n",
    "pd.set_option('display.max_colwidth', None) ## 셀 최대 너비 제한 해제"
   ]
  },
  {
   "cell_type": "code",
   "execution_count": 11,
   "metadata": {},
   "outputs": [],
   "source": [
    "# 서버 아이디\t한글명\n",
    "# anton\t       안톤\n",
    "# bakal\t       바칼\n",
    "# cain\t       카인\n",
    "# casillas\t   카시야스\n",
    "# diregie\t   디레지에\n",
    "# hilder\t   힐더\n",
    "# prey\t       프레이\n",
    "# siroco\t   시로코\n",
    "\n",
    "## 던파 API 키 : ZWBQ5Hcf27Dz494NprIOqSpXUZqubuLG"
   ]
  },
  {
   "cell_type": "code",
   "execution_count": 12,
   "metadata": {},
   "outputs": [],
   "source": [
    "#1. 서버 검색\n",
    "# url = \"https://api.neople.co.kr/df/servers?apikey=ZWBQ5Hcf27Dz494NprIOqSpXUZqubuLG\"\n",
    "\n",
    "#2. 캐릭터 검색\n",
    "# 필수 입력 값 : 서버(all일 경우 모든 서버에서 검색) 아이디, 캐릭터 명\n",
    "# url = \"https://api.neople.co.kr/df/servers/all/characters?characterName=뉴타입&apikey=ZWBQ5Hcf27Dz494NprIOqSpXUZqubuLG\""
   ]
  },
  {
   "cell_type": "markdown",
   "metadata": {},
   "source": [
    "#### 랭킹 1위 캐릭터 조회 테스트"
   ]
  },
  {
   "cell_type": "code",
   "execution_count": 13,
   "metadata": {},
   "outputs": [],
   "source": [
    "## 서버 1위 캐릭터의 이름인 \"뉴타입\" 과 같은 캐릭터의 정보를 전체 서버에서 조회하는 url\n",
    "url = \"https://api.neople.co.kr/df/servers/all/characters?characterName=뉴타입&apikey=ZWBQ5Hcf27Dz494NprIOqSpXUZqubuLG\""
   ]
  },
  {
   "cell_type": "code",
   "execution_count": 14,
   "metadata": {},
   "outputs": [
    {
     "data": {
      "text/plain": [
       "'{\"rows\":[{\"serverId\":\"cain\",\"characterId\":\"f87c81d2305c982be3432d386a1cab05\",\"characterName\":\"뉴타입\",\"level\":90,\"jobId\":\"17e417b31686389eebff6d754c3401ea\",\"jobGrowId\":\"4fdee159d5aa8874a1459861ced676ec\",\"jobName\":\"다크나이트\",\"jobGrowName\":\"자각1\",\"fame\":1580},{\"serverId\":\"diregie\",\"characterId\":\"966164db011625c528b3f5dabb32a743\",\"characterName\":\"뉴타입\",\"level\":110,\"jobId\":\"f6a4ad30555b99b499c07835f87ce522\",\"jobGrowId\":\"37495b941da3b1661bc900e68ef3b2c6\",\"jobName\":\"프리스트(남)\",\"jobGrowName\":\"眞 크루세이더\",\"fame\":39487},{\"serverId\":\"siroco\",\"characterId\":\"6d9aeceee6d44ad8ae216c00e9bb5b47\",\"characterName\":\"뉴타입\",\"level\":85,\"jobId\":\"3deb7be5f01953ac8b1ecaa1e25e0420\",\"jobGrowId\":\"64bbd751c0fcae0e74758b871a2296c1\",\"jobName\":\"마창사\",\"jobGrowName\":\"에레보스\",\"fame\":null},{\"serverId\":\"prey\",\"characterId\":\"05cbfac253cf9258218030268642cfb1\",\"characterName\":\"뉴타입\",\"level\":41,\"jobId\":\"afdf3b989339de478e85b614d274d1ef\",\"jobGrowId\":\"df3870efe8e8754011cd12fa03cd275f\",\"jobName\":\"거너(남)\",\"jobGrowName\":\"레인저\",\"fame\":null},{\"serverId\":\"casillas\",\"characterId\":\"565b98437cefd312c77c579e4dbfda50\",\"characterName\":\"뉴타입\",\"level\":110,\"jobId\":\"ddc49e9ad1ff72a00b53c6cff5b1e920\",\"jobGrowId\":\"37495b941da3b1661bc900e68ef3b2c6\",\"jobName\":\"도적\",\"jobGrowName\":\"眞 로그\",\"fame\":58103},{\"serverId\":\"hilder\",\"characterId\":\"323a7d3e79a6a5c004817fd9bb17b3dd\",\"characterName\":\"뉴타입\",\"level\":26,\"jobId\":\"1645c45aabb008c98406b3a16447040d\",\"jobGrowId\":\"1ea78ae210f681a799feb4403a5c1e85\",\"jobName\":\"귀검사(여)\",\"jobGrowName\":\"다크템플러\",\"fame\":null},{\"serverId\":\"anton\",\"characterId\":\"dedbe809ecd83c8355ed3b793f5e9a1c\",\"characterName\":\"뉴타입\",\"level\":49,\"jobId\":\"3909d0b188e9c95311399f776e331da5\",\"jobGrowId\":\"1ea78ae210f681a799feb4403a5c1e85\",\"jobName\":\"마법사(여)\",\"jobGrowName\":\"소환사\",\"fame\":null},{\"serverId\":\"bakal\",\"characterId\":\"188e222cb491469e007ec6f3b4ae987e\",\"characterName\":\"뉴타입\",\"level\":87,\"jobId\":\"ddc49e9ad1ff72a00b53c6cff5b1e920\",\"jobGrowId\":\"8022a99e29b5e4845985fe1d79a233f3\",\"jobName\":\"도적\",\"jobGrowName\":\"타나토스\",\"fame\":null}]}'"
      ]
     },
     "execution_count": 14,
     "metadata": {},
     "output_type": "execute_result"
    }
   ],
   "source": [
    "# url 로부터 정보 받아온 후 받은 정보를 텍스트로 변환, contents 변수에 저장\n",
    "response = requests.get(url)\n",
    "\n",
    "contents = response.text\n",
    "\n",
    "contents"
   ]
  },
  {
   "cell_type": "code",
   "execution_count": 15,
   "metadata": {},
   "outputs": [
    {
     "name": "stdout",
     "output_type": "stream",
     "text": [
      "('{\"rows\":[{\"serverId\":\"cain\",\"characterId\":\"f87c81d2305c982be3432d386a1cab05\",\"characterName\":\"뉴타입\",\"level\":90,\"jobId\":\"17e417b31686389eebff6d754c3401ea\",\"jobGrowId\":\"4fdee159d5aa8874a1459861ced676ec\",\"jobName\":\"다크나이트\",\"jobGrowName\":\"자각1\",\"fame\":1580},{\"serverId\":\"diregie\",\"characterId\":\"966164db011625c528b3f5dabb32a743\",\"characterName\":\"뉴타입\",\"level\":110,\"jobId\":\"f6a4ad30555b99b499c07835f87ce522\",\"jobGrowId\":\"37495b941da3b1661bc900e68ef3b2c6\",\"jobName\":\"프리스트(남)\",\"jobGrowName\":\"眞 '\n",
      " '크루세이더\",\"fame\":39487},{\"serverId\":\"siroco\",\"characterId\":\"6d9aeceee6d44ad8ae216c00e9bb5b47\",\"characterName\":\"뉴타입\",\"level\":85,\"jobId\":\"3deb7be5f01953ac8b1ecaa1e25e0420\",\"jobGrowId\":\"64bbd751c0fcae0e74758b871a2296c1\",\"jobName\":\"마창사\",\"jobGrowName\":\"에레보스\",\"fame\":null},{\"serverId\":\"prey\",\"characterId\":\"05cbfac253cf9258218030268642cfb1\",\"characterName\":\"뉴타입\",\"level\":41,\"jobId\":\"afdf3b989339de478e85b614d274d1ef\",\"jobGrowId\":\"df3870efe8e8754011cd12fa03cd275f\",\"jobName\":\"거너(남)\",\"jobGrowName\":\"레인저\",\"fame\":null},{\"serverId\":\"casillas\",\"characterId\":\"565b98437cefd312c77c579e4dbfda50\",\"characterName\":\"뉴타입\",\"level\":110,\"jobId\":\"ddc49e9ad1ff72a00b53c6cff5b1e920\",\"jobGrowId\":\"37495b941da3b1661bc900e68ef3b2c6\",\"jobName\":\"도적\",\"jobGrowName\":\"眞 '\n",
      " '로그\",\"fame\":58103},{\"serverId\":\"hilder\",\"characterId\":\"323a7d3e79a6a5c004817fd9bb17b3dd\",\"characterName\":\"뉴타입\",\"level\":26,\"jobId\":\"1645c45aabb008c98406b3a16447040d\",\"jobGrowId\":\"1ea78ae210f681a799feb4403a5c1e85\",\"jobName\":\"귀검사(여)\",\"jobGrowName\":\"다크템플러\",\"fame\":null},{\"serverId\":\"anton\",\"characterId\":\"dedbe809ecd83c8355ed3b793f5e9a1c\",\"characterName\":\"뉴타입\",\"level\":49,\"jobId\":\"3909d0b188e9c95311399f776e331da5\",\"jobGrowId\":\"1ea78ae210f681a799feb4403a5c1e85\",\"jobName\":\"마법사(여)\",\"jobGrowName\":\"소환사\",\"fame\":null},{\"serverId\":\"bakal\",\"characterId\":\"188e222cb491469e007ec6f3b4ae987e\",\"characterName\":\"뉴타입\",\"level\":87,\"jobId\":\"ddc49e9ad1ff72a00b53c6cff5b1e920\",\"jobGrowId\":\"8022a99e29b5e4845985fe1d79a233f3\",\"jobName\":\"도적\",\"jobGrowName\":\"타나토스\",\"fame\":null}]}')\n",
      "None\n"
     ]
    }
   ],
   "source": [
    "# 데이터 확인(없어도 코드 정상적으로 작동)\n",
    "pp = pprint.PrettyPrinter(indent=4)\n",
    "print(pp.pprint(contents))"
   ]
  },
  {
   "cell_type": "code",
   "execution_count": 16,
   "metadata": {},
   "outputs": [
    {
     "name": "stdout",
     "output_type": "stream",
     "text": [
      "{'rows': [{'serverId': 'cain', 'characterId': 'f87c81d2305c982be3432d386a1cab05', 'characterName': '뉴타입', 'level': 90, 'jobId': '17e417b31686389eebff6d754c3401ea', 'jobGrowId': '4fdee159d5aa8874a1459861ced676ec', 'jobName': '다크나이트', 'jobGrowName': '자각1', 'fame': 1580}, {'serverId': 'diregie', 'characterId': '966164db011625c528b3f5dabb32a743', 'characterName': '뉴타입', 'level': 110, 'jobId': 'f6a4ad30555b99b499c07835f87ce522', 'jobGrowId': '37495b941da3b1661bc900e68ef3b2c6', 'jobName': '프리스트(남)', 'jobGrowName': '眞 크루세이더', 'fame': 39487}, {'serverId': 'siroco', 'characterId': '6d9aeceee6d44ad8ae216c00e9bb5b47', 'characterName': '뉴타입', 'level': 85, 'jobId': '3deb7be5f01953ac8b1ecaa1e25e0420', 'jobGrowId': '64bbd751c0fcae0e74758b871a2296c1', 'jobName': '마창사', 'jobGrowName': '에레보스', 'fame': None}, {'serverId': 'prey', 'characterId': '05cbfac253cf9258218030268642cfb1', 'characterName': '뉴타입', 'level': 41, 'jobId': 'afdf3b989339de478e85b614d274d1ef', 'jobGrowId': 'df3870efe8e8754011cd12fa03cd275f', 'jobName': '거너(남)', 'jobGrowName': '레인저', 'fame': None}, {'serverId': 'casillas', 'characterId': '565b98437cefd312c77c579e4dbfda50', 'characterName': '뉴타입', 'level': 110, 'jobId': 'ddc49e9ad1ff72a00b53c6cff5b1e920', 'jobGrowId': '37495b941da3b1661bc900e68ef3b2c6', 'jobName': '도적', 'jobGrowName': '眞 로그', 'fame': 58103}, {'serverId': 'hilder', 'characterId': '323a7d3e79a6a5c004817fd9bb17b3dd', 'characterName': '뉴타입', 'level': 26, 'jobId': '1645c45aabb008c98406b3a16447040d', 'jobGrowId': '1ea78ae210f681a799feb4403a5c1e85', 'jobName': '귀검사(여)', 'jobGrowName': '다크템플러', 'fame': None}, {'serverId': 'anton', 'characterId': 'dedbe809ecd83c8355ed3b793f5e9a1c', 'characterName': '뉴타입', 'level': 49, 'jobId': '3909d0b188e9c95311399f776e331da5', 'jobGrowId': '1ea78ae210f681a799feb4403a5c1e85', 'jobName': '마법사(여)', 'jobGrowName': '소환사', 'fame': None}, {'serverId': 'bakal', 'characterId': '188e222cb491469e007ec6f3b4ae987e', 'characterName': '뉴타입', 'level': 87, 'jobId': 'ddc49e9ad1ff72a00b53c6cff5b1e920', 'jobGrowId': '8022a99e29b5e4845985fe1d79a233f3', 'jobName': '도적', 'jobGrowName': '타나토스', 'fame': None}]}\n",
      "<class 'dict'>\n"
     ]
    }
   ],
   "source": [
    "# 문자열을 json으로 변경\n",
    "json_ob = json.loads(contents)\n",
    "print(json_ob)\n",
    "print(type(json_ob)) #json타입 확인"
   ]
  },
  {
   "cell_type": "code",
   "execution_count": 17,
   "metadata": {},
   "outputs": [],
   "source": [
    "# 데이터 프레임으로 변경\n",
    "df = pd.DataFrame(json_ob['rows'])"
   ]
  },
  {
   "cell_type": "code",
   "execution_count": 18,
   "metadata": {},
   "outputs": [
    {
     "data": {
      "text/html": [
       "<div>\n",
       "<style scoped>\n",
       "    .dataframe tbody tr th:only-of-type {\n",
       "        vertical-align: middle;\n",
       "    }\n",
       "\n",
       "    .dataframe tbody tr th {\n",
       "        vertical-align: top;\n",
       "    }\n",
       "\n",
       "    .dataframe thead th {\n",
       "        text-align: right;\n",
       "    }\n",
       "</style>\n",
       "<table border=\"1\" class=\"dataframe\">\n",
       "  <thead>\n",
       "    <tr style=\"text-align: right;\">\n",
       "      <th></th>\n",
       "      <th>serverId</th>\n",
       "      <th>characterId</th>\n",
       "      <th>characterName</th>\n",
       "      <th>level</th>\n",
       "      <th>jobId</th>\n",
       "      <th>jobGrowId</th>\n",
       "      <th>jobName</th>\n",
       "      <th>jobGrowName</th>\n",
       "      <th>fame</th>\n",
       "    </tr>\n",
       "  </thead>\n",
       "  <tbody>\n",
       "    <tr>\n",
       "      <th>0</th>\n",
       "      <td>cain</td>\n",
       "      <td>f87c81d2305c982be3432d386a1cab05</td>\n",
       "      <td>뉴타입</td>\n",
       "      <td>90</td>\n",
       "      <td>17e417b31686389eebff6d754c3401ea</td>\n",
       "      <td>4fdee159d5aa8874a1459861ced676ec</td>\n",
       "      <td>다크나이트</td>\n",
       "      <td>자각1</td>\n",
       "      <td>1580.0</td>\n",
       "    </tr>\n",
       "    <tr>\n",
       "      <th>1</th>\n",
       "      <td>diregie</td>\n",
       "      <td>966164db011625c528b3f5dabb32a743</td>\n",
       "      <td>뉴타입</td>\n",
       "      <td>110</td>\n",
       "      <td>f6a4ad30555b99b499c07835f87ce522</td>\n",
       "      <td>37495b941da3b1661bc900e68ef3b2c6</td>\n",
       "      <td>프리스트(남)</td>\n",
       "      <td>眞 크루세이더</td>\n",
       "      <td>39487.0</td>\n",
       "    </tr>\n",
       "    <tr>\n",
       "      <th>2</th>\n",
       "      <td>siroco</td>\n",
       "      <td>6d9aeceee6d44ad8ae216c00e9bb5b47</td>\n",
       "      <td>뉴타입</td>\n",
       "      <td>85</td>\n",
       "      <td>3deb7be5f01953ac8b1ecaa1e25e0420</td>\n",
       "      <td>64bbd751c0fcae0e74758b871a2296c1</td>\n",
       "      <td>마창사</td>\n",
       "      <td>에레보스</td>\n",
       "      <td>NaN</td>\n",
       "    </tr>\n",
       "    <tr>\n",
       "      <th>3</th>\n",
       "      <td>prey</td>\n",
       "      <td>05cbfac253cf9258218030268642cfb1</td>\n",
       "      <td>뉴타입</td>\n",
       "      <td>41</td>\n",
       "      <td>afdf3b989339de478e85b614d274d1ef</td>\n",
       "      <td>df3870efe8e8754011cd12fa03cd275f</td>\n",
       "      <td>거너(남)</td>\n",
       "      <td>레인저</td>\n",
       "      <td>NaN</td>\n",
       "    </tr>\n",
       "    <tr>\n",
       "      <th>4</th>\n",
       "      <td>casillas</td>\n",
       "      <td>565b98437cefd312c77c579e4dbfda50</td>\n",
       "      <td>뉴타입</td>\n",
       "      <td>110</td>\n",
       "      <td>ddc49e9ad1ff72a00b53c6cff5b1e920</td>\n",
       "      <td>37495b941da3b1661bc900e68ef3b2c6</td>\n",
       "      <td>도적</td>\n",
       "      <td>眞 로그</td>\n",
       "      <td>58103.0</td>\n",
       "    </tr>\n",
       "    <tr>\n",
       "      <th>5</th>\n",
       "      <td>hilder</td>\n",
       "      <td>323a7d3e79a6a5c004817fd9bb17b3dd</td>\n",
       "      <td>뉴타입</td>\n",
       "      <td>26</td>\n",
       "      <td>1645c45aabb008c98406b3a16447040d</td>\n",
       "      <td>1ea78ae210f681a799feb4403a5c1e85</td>\n",
       "      <td>귀검사(여)</td>\n",
       "      <td>다크템플러</td>\n",
       "      <td>NaN</td>\n",
       "    </tr>\n",
       "    <tr>\n",
       "      <th>6</th>\n",
       "      <td>anton</td>\n",
       "      <td>dedbe809ecd83c8355ed3b793f5e9a1c</td>\n",
       "      <td>뉴타입</td>\n",
       "      <td>49</td>\n",
       "      <td>3909d0b188e9c95311399f776e331da5</td>\n",
       "      <td>1ea78ae210f681a799feb4403a5c1e85</td>\n",
       "      <td>마법사(여)</td>\n",
       "      <td>소환사</td>\n",
       "      <td>NaN</td>\n",
       "    </tr>\n",
       "    <tr>\n",
       "      <th>7</th>\n",
       "      <td>bakal</td>\n",
       "      <td>188e222cb491469e007ec6f3b4ae987e</td>\n",
       "      <td>뉴타입</td>\n",
       "      <td>87</td>\n",
       "      <td>ddc49e9ad1ff72a00b53c6cff5b1e920</td>\n",
       "      <td>8022a99e29b5e4845985fe1d79a233f3</td>\n",
       "      <td>도적</td>\n",
       "      <td>타나토스</td>\n",
       "      <td>NaN</td>\n",
       "    </tr>\n",
       "  </tbody>\n",
       "</table>\n",
       "</div>"
      ],
      "text/plain": [
       "   serverId                       characterId characterName  level  \\\n",
       "0      cain  f87c81d2305c982be3432d386a1cab05           뉴타입     90   \n",
       "1   diregie  966164db011625c528b3f5dabb32a743           뉴타입    110   \n",
       "2    siroco  6d9aeceee6d44ad8ae216c00e9bb5b47           뉴타입     85   \n",
       "3      prey  05cbfac253cf9258218030268642cfb1           뉴타입     41   \n",
       "4  casillas  565b98437cefd312c77c579e4dbfda50           뉴타입    110   \n",
       "5    hilder  323a7d3e79a6a5c004817fd9bb17b3dd           뉴타입     26   \n",
       "6     anton  dedbe809ecd83c8355ed3b793f5e9a1c           뉴타입     49   \n",
       "7     bakal  188e222cb491469e007ec6f3b4ae987e           뉴타입     87   \n",
       "\n",
       "                              jobId                         jobGrowId  \\\n",
       "0  17e417b31686389eebff6d754c3401ea  4fdee159d5aa8874a1459861ced676ec   \n",
       "1  f6a4ad30555b99b499c07835f87ce522  37495b941da3b1661bc900e68ef3b2c6   \n",
       "2  3deb7be5f01953ac8b1ecaa1e25e0420  64bbd751c0fcae0e74758b871a2296c1   \n",
       "3  afdf3b989339de478e85b614d274d1ef  df3870efe8e8754011cd12fa03cd275f   \n",
       "4  ddc49e9ad1ff72a00b53c6cff5b1e920  37495b941da3b1661bc900e68ef3b2c6   \n",
       "5  1645c45aabb008c98406b3a16447040d  1ea78ae210f681a799feb4403a5c1e85   \n",
       "6  3909d0b188e9c95311399f776e331da5  1ea78ae210f681a799feb4403a5c1e85   \n",
       "7  ddc49e9ad1ff72a00b53c6cff5b1e920  8022a99e29b5e4845985fe1d79a233f3   \n",
       "\n",
       "   jobName jobGrowName     fame  \n",
       "0    다크나이트         자각1   1580.0  \n",
       "1  프리스트(남)     眞 크루세이더  39487.0  \n",
       "2      마창사        에레보스      NaN  \n",
       "3    거너(남)         레인저      NaN  \n",
       "4       도적        眞 로그  58103.0  \n",
       "5   귀검사(여)       다크템플러      NaN  \n",
       "6   마법사(여)         소환사      NaN  \n",
       "7       도적        타나토스      NaN  "
      ]
     },
     "execution_count": 18,
     "metadata": {},
     "output_type": "execute_result"
    }
   ],
   "source": [
    "df"
   ]
  }
 ],
 "metadata": {
  "kernelspec": {
   "display_name": "Python 3",
   "language": "python",
   "name": "python3"
  },
  "language_info": {
   "codemirror_mode": {
    "name": "ipython",
    "version": 3
   },
   "file_extension": ".py",
   "mimetype": "text/x-python",
   "name": "python",
   "nbconvert_exporter": "python",
   "pygments_lexer": "ipython3",
   "version": "3.8.6"
  }
 },
 "nbformat": 4,
 "nbformat_minor": 2
}
